{
 "cells": [
  {
   "cell_type": "markdown",
   "metadata": {},
   "source": [
    "# Playing with TrueFX data and JuliaDB\n",
    "\n",
    "This is an example workflow for loading, working with and saving datasets in Julia. There are a few packages for working with data, JuliaDB developed by JuliaComputing is one of them.\n",
    "\n",
    "Other popular alternatives are:\n",
    "\n",
    "- DataFrames.jl\n",
    "- Query.jl\n",
    "- TypedTables.jl"
   ]
  },
  {
   "cell_type": "code",
   "execution_count": 1,
   "metadata": {},
   "outputs": [
    {
     "data": {
      "text/plain": [
       "20"
      ]
     },
     "execution_count": 1,
     "metadata": {},
     "output_type": "execute_result"
    }
   ],
   "source": [
    "using Distributed\n",
    "addprocs(20)\n",
    "nworkers()"
   ]
  },
  {
   "cell_type": "code",
   "execution_count": 2,
   "metadata": {},
   "outputs": [],
   "source": [
    "using JuliaDB"
   ]
  },
  {
   "cell_type": "markdown",
   "metadata": {},
   "source": [
    "## TrueFX dataset\n",
    "\n",
    "The dataset we will explore in this notebook contains currency conversion buy and offer prices at millisecond resolution. We have data from 2009 to 2016. The raw CSV files size up to 260GB, there are 1305 of them."
   ]
  },
  {
   "cell_type": "code",
   "execution_count": 3,
   "metadata": {},
   "outputs": [
    {
     "data": {
      "text/plain": [
       "180-element Array{String,1}:\n",
       " \"indata/AUDJPY-2016-01.csv\"\n",
       " \"indata/AUDJPY-2016-02.csv\"\n",
       " \"indata/AUDJPY-2016-03.csv\"\n",
       " \"indata/AUDJPY-2016-04.csv\"\n",
       " \"indata/AUDJPY-2016-05.csv\"\n",
       " \"indata/AUDJPY-2016-06.csv\"\n",
       " \"indata/AUDJPY-2016-07.csv\"\n",
       " \"indata/AUDJPY-2016-08.csv\"\n",
       " \"indata/AUDJPY-2016-09.csv\"\n",
       " \"indata/AUDJPY-2016-10.csv\"\n",
       " \"indata/AUDJPY-2016-11.csv\"\n",
       " \"indata/AUDJPY-2016-12.csv\"\n",
       " \"indata/AUDNZD-2016-01.csv\"\n",
       " ⋮                          \n",
       " \"indata/USDJPY-2016-01.csv\"\n",
       " \"indata/USDJPY-2016-02.csv\"\n",
       " \"indata/USDJPY-2016-03.csv\"\n",
       " \"indata/USDJPY-2016-04.csv\"\n",
       " \"indata/USDJPY-2016-05.csv\"\n",
       " \"indata/USDJPY-2016-06.csv\"\n",
       " \"indata/USDJPY-2016-07.csv\"\n",
       " \"indata/USDJPY-2016-08.csv\"\n",
       " \"indata/USDJPY-2016-09.csv\"\n",
       " \"indata/USDJPY-2016-10.csv\"\n",
       " \"indata/USDJPY-2016-11.csv\"\n",
       " \"indata/USDJPY-2016-12.csv\""
      ]
     },
     "execution_count": 3,
     "metadata": {},
     "output_type": "execute_result"
    }
   ],
   "source": [
    "csvfiles = glob(\"indata/*-2016-*.csv\")"
   ]
  },
  {
   "cell_type": "code",
   "execution_count": 4,
   "metadata": {},
   "outputs": [
    {
     "data": {
      "text/plain": [
       "73.97284228075296"
      ]
     },
     "execution_count": 4,
     "metadata": {},
     "output_type": "execute_result"
    }
   ],
   "source": [
    "sum(filesize, csvfiles) / 1024^3  # size in GB"
   ]
  },
  {
   "cell_type": "markdown",
   "metadata": {},
   "source": [
    "Let's take a peek at one of the files."
   ]
  },
  {
   "cell_type": "code",
   "execution_count": 5,
   "metadata": {},
   "outputs": [
    {
     "name": "stdout",
     "output_type": "stream",
     "text": [
      "AUD/JPY,20160104 00:00:00.108,87.641,87.651\n",
      "AUD/JPY,20160104 00:00:00.154,87.640,87.651\n",
      "AUD/JPY,20160104 00:00:00.922,87.640,87.650\n",
      "AUD/JPY,20160104 00:00:01.185,87.640,87.651\n",
      "AUD/JPY,20160104 00:00:01.311,87.641,87.651\n",
      "AUD/JPY,20160104 00:00:01.472,87.641,87.653\n",
      "AUD/JPY,20160104 00:00:01.527,87.640,87.653\n",
      "AUD/JPY,20160104 00:00:01.529,87.641,87.653\n",
      "AUD/JPY,20160104 00:00:01.740,87.641,87.651\n",
      "AUD/JPY,20160104 00:00:01.755,87.640,87.651\n"
     ]
    }
   ],
   "source": [
    ";head $(csvfiles[1])"
   ]
  },
  {
   "cell_type": "markdown",
   "metadata": {},
   "source": [
    "The first step to using JuliaDB is to ingest the data into it. This is done by the `ingest` function. We have worked hard on speeding up CSV reading performance as much as possible. In many benchmarks our CSV parser can run 1.5-2 times faster than `pandas`."
   ]
  },
  {
   "cell_type": "code",
   "execution_count": 6,
   "metadata": {},
   "outputs": [
    {
     "name": "stdout",
     "output_type": "stream",
     "text": [
      "120.742515 seconds (29.39 M allocations: 1.427 GiB, 0.79% gc time)\n"
     ]
    },
    {
     "data": {
      "text/plain": [
       "2-d Distributed NDSparse with 1671681959 values (2 field named tuples) in 80 chunks:\n",
       "pair       timestamp               │ bid     ask\n",
       "───────────────────────────────────┼───────────────\n",
       "\"AUD/JPY\"  2016-01-04T00:00:00.108 │ 87.641  87.651\n",
       "\"AUD/JPY\"  2016-01-04T00:00:00.154 │ 87.64   87.651\n",
       "\"AUD/JPY\"  2016-01-04T00:00:00.922 │ 87.64   87.65\n",
       "\"AUD/JPY\"  2016-01-04T00:00:01.185 │ 87.64   87.651\n",
       "\"AUD/JPY\"  2016-01-04T00:00:01.311 │ 87.641  87.651\n",
       "\"AUD/JPY\"  2016-01-04T00:00:01.472 │ 87.641  87.653\n",
       "\"AUD/JPY\"  2016-01-04T00:00:01.527 │ 87.64   87.653\n",
       "\"AUD/JPY\"  2016-01-04T00:00:01.529 │ 87.641  87.653\n",
       "\"AUD/JPY\"  2016-01-04T00:00:01.74  │ 87.641  87.651\n",
       "\"AUD/JPY\"  2016-01-04T00:00:01.755 │ 87.64   87.651\n",
       "\"AUD/JPY\"  2016-01-04T00:00:03.167 │ 87.641  87.651\n",
       "\"AUD/JPY\"  2016-01-04T00:00:03.26  │ 87.64   87.651\n",
       "\"AUD/JPY\"  2016-01-04T00:00:03.334 │ 87.64   87.65\n",
       "\"AUD/JPY\"  2016-01-04T00:00:03.385 │ 87.641  87.65\n",
       "\"AUD/JPY\"  2016-01-04T00:00:03.488 │ 87.64   87.648\n",
       "\"AUD/JPY\"  2016-01-04T00:00:04.365 │ 87.64   87.647\n",
       "\"AUD/JPY\"  2016-01-04T00:00:04.832 │ 87.635  87.647\n",
       "\"AUD/JPY\"  2016-01-04T00:00:05.19  │ 87.64   87.647\n",
       "\"AUD/JPY\"  2016-01-04T00:00:05.64  │ 87.637  87.647\n",
       "\"AUD/JPY\"  2016-01-04T00:00:05.73  │ 87.635  87.647\n",
       "\"AUD/JPY\"  2016-01-04T00:00:05.883 │ 87.634  87.647\n",
       "\"AUD/JPY\"  2016-01-04T00:00:06.352 │ 87.635  87.647\n",
       "\"AUD/JPY\"  2016-01-04T00:00:06.435 │ 87.634  87.645\n",
       "\"AUD/JPY\"  2016-01-04T00:00:06.547 │ 87.632  87.645\n",
       "                                   ⋮"
      ]
     },
     "execution_count": 6,
     "metadata": {},
     "output_type": "execute_result"
    }
   ],
   "source": [
    "using Dates\n",
    "\n",
    "@time loadndsparse(csvfiles, output=\"bindata/full-2016\",\n",
    "    header_exists=false,\n",
    "    chunks=80,\n",
    "    colparsers=Dict(2=>dateformat\"yyyymmdd HH:MM:SS.s\", 3=>Float32, 4=>Float32),\n",
    "    colnames=[\"pair\", \"timestamp\", \"bid\", \"ask\"],\n",
    "    indexcols=[1,2], datacols=[3,4])"
   ]
  },
  {
   "cell_type": "markdown",
   "metadata": {},
   "source": [
    "Once ingested, loading the data back is instantaneous. The data is \"memory-mapped\" to reduce IO bottlenecks."
   ]
  },
  {
   "cell_type": "code",
   "execution_count": 7,
   "metadata": {},
   "outputs": [
    {
     "name": "stdout",
     "output_type": "stream",
     "text": [
      "  0.078831 seconds (129.82 k allocations: 6.334 MiB)\n"
     ]
    },
    {
     "data": {
      "text/plain": [
       "2-d Distributed NDSparse with 1671681959 values (2 field named tuples) in 80 chunks:\n",
       "pair       timestamp               │ bid     ask\n",
       "───────────────────────────────────┼───────────────\n",
       "\"AUD/JPY\"  2016-01-04T00:00:00.108 │ 87.641  87.651\n",
       "\"AUD/JPY\"  2016-01-04T00:00:00.154 │ 87.64   87.651\n",
       "\"AUD/JPY\"  2016-01-04T00:00:00.922 │ 87.64   87.65\n",
       "\"AUD/JPY\"  2016-01-04T00:00:01.185 │ 87.64   87.651\n",
       "\"AUD/JPY\"  2016-01-04T00:00:01.311 │ 87.641  87.651\n",
       "\"AUD/JPY\"  2016-01-04T00:00:01.472 │ 87.641  87.653\n",
       "\"AUD/JPY\"  2016-01-04T00:00:01.527 │ 87.64   87.653\n",
       "\"AUD/JPY\"  2016-01-04T00:00:01.529 │ 87.641  87.653\n",
       "\"AUD/JPY\"  2016-01-04T00:00:01.74  │ 87.641  87.651\n",
       "\"AUD/JPY\"  2016-01-04T00:00:01.755 │ 87.64   87.651\n",
       "\"AUD/JPY\"  2016-01-04T00:00:03.167 │ 87.641  87.651\n",
       "\"AUD/JPY\"  2016-01-04T00:00:03.26  │ 87.64   87.651\n",
       "\"AUD/JPY\"  2016-01-04T00:00:03.334 │ 87.64   87.65\n",
       "\"AUD/JPY\"  2016-01-04T00:00:03.385 │ 87.641  87.65\n",
       "\"AUD/JPY\"  2016-01-04T00:00:03.488 │ 87.64   87.648\n",
       "\"AUD/JPY\"  2016-01-04T00:00:04.365 │ 87.64   87.647\n",
       "\"AUD/JPY\"  2016-01-04T00:00:04.832 │ 87.635  87.647\n",
       "\"AUD/JPY\"  2016-01-04T00:00:05.19  │ 87.64   87.647\n",
       "\"AUD/JPY\"  2016-01-04T00:00:05.64  │ 87.637  87.647\n",
       "\"AUD/JPY\"  2016-01-04T00:00:05.73  │ 87.635  87.647\n",
       "\"AUD/JPY\"  2016-01-04T00:00:05.883 │ 87.634  87.647\n",
       "\"AUD/JPY\"  2016-01-04T00:00:06.352 │ 87.635  87.647\n",
       "\"AUD/JPY\"  2016-01-04T00:00:06.435 │ 87.634  87.645\n",
       "\"AUD/JPY\"  2016-01-04T00:00:06.547 │ 87.632  87.645\n",
       "                                   ⋮"
      ]
     },
     "execution_count": 7,
     "metadata": {},
     "output_type": "execute_result"
    }
   ],
   "source": [
    "@time data = load(\"bindata/full-2016\")"
   ]
  },
  {
   "cell_type": "markdown",
   "metadata": {},
   "source": [
    "# Range queries"
   ]
  },
  {
   "cell_type": "markdown",
   "metadata": {},
   "source": [
    "Data in JuliaDB's DTable is indexed by many dimensions. This allows us to do highly efficient range queries"
   ]
  },
  {
   "cell_type": "code",
   "execution_count": 8,
   "metadata": {},
   "outputs": [
    {
     "name": "stdout",
     "output_type": "stream",
     "text": [
      "  0.326333 seconds (822.83 k allocations: 39.949 MiB, 6.55% gc time)\n"
     ]
    },
    {
     "data": {
      "text/plain": [
       "2-d Distributed NDSparse of (2 field named tuples) in 80 chunks:\n",
       "pair       timestamp               │ bid      ask\n",
       "───────────────────────────────────┼─────────────────\n",
       "\"EUR/JPY\"  2016-02-01T00:00:00.031 │ 131.362  131.377\n",
       "\"EUR/JPY\"  2016-02-01T00:00:00.085 │ 131.364  131.377\n",
       "\"EUR/JPY\"  2016-02-01T00:00:00.186 │ 131.362  131.377\n",
       "\"EUR/JPY\"  2016-02-01T00:00:00.289 │ 131.364  131.377\n",
       "\"EUR/JPY\"  2016-02-01T00:00:00.349 │ 131.366  131.377\n",
       "\"EUR/JPY\"  2016-02-01T00:00:00.789 │ 131.365  131.377\n",
       "\"EUR/JPY\"  2016-02-01T00:00:00.821 │ 131.365  131.378\n",
       "\"EUR/JPY\"  2016-02-01T00:00:00.853 │ 131.367  131.378\n",
       "\"EUR/JPY\"  2016-02-01T00:00:00.96  │ 131.368  131.378\n",
       "\"EUR/JPY\"  2016-02-01T00:00:01.07  │ 131.37   131.378\n",
       "\"EUR/JPY\"  2016-02-01T00:00:01.095 │ 131.37   131.379\n",
       "\"EUR/JPY\"  2016-02-01T00:00:01.138 │ 131.37   131.38\n",
       "\"EUR/JPY\"  2016-02-01T00:00:01.333 │ 131.372  131.384\n",
       "\"EUR/JPY\"  2016-02-01T00:00:01.338 │ 131.37   131.384\n",
       "\"EUR/JPY\"  2016-02-01T00:00:01.389 │ 131.372  131.384\n",
       "\"EUR/JPY\"  2016-02-01T00:00:01.545 │ 131.372  131.386\n",
       "\"EUR/JPY\"  2016-02-01T00:00:01.562 │ 131.372  131.384\n",
       "\"EUR/JPY\"  2016-02-01T00:00:01.575 │ 131.371  131.384\n",
       "\"EUR/JPY\"  2016-02-01T00:00:01.606 │ 131.371  131.386\n",
       "\"EUR/JPY\"  2016-02-01T00:00:01.678 │ 131.372  131.389\n",
       "\"EUR/JPY\"  2016-02-01T00:00:01.747 │ 131.375  131.389\n",
       "\"EUR/JPY\"  2016-02-01T00:00:01.775 │ 131.375  131.39\n",
       "\"EUR/JPY\"  2016-02-01T00:00:03.809 │ 131.376  131.392\n",
       "\"EUR/JPY\"  2016-02-01T00:00:03.81  │ 131.377  131.392\n",
       "                                   ⋮"
      ]
     },
     "execution_count": 8,
     "metadata": {},
     "output_type": "execute_result"
    }
   ],
   "source": [
    "@time subset1 = data[[\"EUR/JPY\", \"USD/JPY\"], DateTime(\"2016-02-01\"):Dates.Millisecond(1):DateTime(\"2016-05-31\")] "
   ]
  },
  {
   "cell_type": "code",
   "execution_count": 9,
   "metadata": {},
   "outputs": [
    {
     "data": {
      "text/plain": [
       "JuliaDB.DNDSparse{NamedTuple{(:pair, :timestamp),Tuple{String,DateTime}},NamedTuple{(:bid, :ask),Tuple{Float32,Float32}}}"
      ]
     },
     "execution_count": 9,
     "metadata": {},
     "output_type": "execute_result"
    }
   ],
   "source": [
    "typeof(subset1)"
   ]
  },
  {
   "cell_type": "code",
   "execution_count": 10,
   "metadata": {},
   "outputs": [
    {
     "data": {
      "text/plain": [
       "80-element Array{Dagger.Thunk,1}:\n",
       " *240*\n",
       " *241*\n",
       " *242*\n",
       " *243*\n",
       " *244*\n",
       " *245*\n",
       " *246*\n",
       " *247*\n",
       " *248*\n",
       " *249*\n",
       " *250*\n",
       " *251*\n",
       " *252*\n",
       " ⋮    \n",
       " *308*\n",
       " *309*\n",
       " *310*\n",
       " *311*\n",
       " *312*\n",
       " *313*\n",
       " *314*\n",
       " *315*\n",
       " *316*\n",
       " *317*\n",
       " *318*\n",
       " *319*"
      ]
     },
     "execution_count": 10,
     "metadata": {},
     "output_type": "execute_result"
    }
   ],
   "source": [
    "subset1.chunks"
   ]
  },
  {
   "cell_type": "code",
   "execution_count": 11,
   "metadata": {},
   "outputs": [
    {
     "data": {
      "text/plain": [
       "JuliaDB.IndexSpace{NamedTuple{(:pair, :timestamp),Tuple{String,DateTime}}}((pair = \"AUD/JPY\", timestamp = 2016-01-04T00:00:00.108)..(pair = \"AUD/JPY\", timestamp = 2016-02-29T23:59:52.885), (pair = \"AUD/JPY\", timestamp = 2016-01-04T00:00:00.108)..(pair = \"AUD/JPY\", timestamp = 2016-02-29T23:59:52.885), Nullable{Int64}())"
      ]
     },
     "execution_count": 11,
     "metadata": {},
     "output_type": "execute_result"
    }
   ],
   "source": [
    "a = subset1.domains[1]"
   ]
  },
  {
   "cell_type": "code",
   "execution_count": 12,
   "metadata": {},
   "outputs": [
    {
     "data": {
      "text/plain": [
       "(pair = \"AUD/JPY\", timestamp = 2016-01-04T00:00:00.108)..(pair = \"AUD/JPY\", timestamp = 2016-02-29T23:59:52.885)"
      ]
     },
     "execution_count": 12,
     "metadata": {},
     "output_type": "execute_result"
    }
   ],
   "source": [
    "subset1.domains[1].interval"
   ]
  },
  {
   "cell_type": "code",
   "execution_count": 13,
   "metadata": {},
   "outputs": [
    {
     "data": {
      "text/plain": [
       "(pair = \"AUD/JPY\", timestamp = 2016-01-04T00:00:00.108)..(pair = \"AUD/JPY\", timestamp = 2016-02-29T23:59:52.885)"
      ]
     },
     "execution_count": 13,
     "metadata": {},
     "output_type": "execute_result"
    }
   ],
   "source": [
    "subset1.domains[1].boundingrect"
   ]
  },
  {
   "cell_type": "code",
   "execution_count": 14,
   "metadata": {},
   "outputs": [
    {
     "data": {
      "text/plain": [
       "Nullable{Int64}()"
      ]
     },
     "execution_count": 14,
     "metadata": {},
     "output_type": "execute_result"
    }
   ],
   "source": [
    "subset1.domains[1].nrows"
   ]
  },
  {
   "cell_type": "code",
   "execution_count": 15,
   "metadata": {},
   "outputs": [
    {
     "data": {
      "text/html": [
       "3 methods for generic function <b>Type</b>:<ul><li> (::<b>Type{NDSparse}</b>)(idx::<b>Columns</b>, data; <i>kwargs...</i>) in IndexedTables at <a href=\"file:///home/simonbyrne/.julia/packages/IndexedTables/Jw0SP/src/ndsparse.jl\" target=\"_blank\">/home/simonbyrne/.julia/packages/IndexedTables/Jw0SP/src/ndsparse.jl:220</a></li> <li> (::<b>Type{NDSparse}</b>)(x; <i>kwargs...</i>) in IndexedTables at <a href=\"file:///home/simonbyrne/.julia/packages/IndexedTables/Jw0SP/src/tabletraits.jl\" target=\"_blank\">/home/simonbyrne/.julia/packages/IndexedTables/Jw0SP/src/tabletraits.jl:51</a></li> <li> (::<b>Type{NDSparse}</b>)(columns...; <i>names, rest...</i>) in IndexedTables at <a href=\"file:///home/simonbyrne/.julia/packages/IndexedTables/Jw0SP/src/ndsparse.jl\" target=\"_blank\">/home/simonbyrne/.julia/packages/IndexedTables/Jw0SP/src/ndsparse.jl:284</a></li> </ul>"
      ],
      "text/plain": [
       "# 3 methods for generic function \"(::Type)\":\n",
       "[1] (::Type{NDSparse})(idx::Columns, data; kwargs...) in IndexedTables at /home/simonbyrne/.julia/packages/IndexedTables/Jw0SP/src/ndsparse.jl:220\n",
       "[2] (::Type{NDSparse})(x; kwargs...) in IndexedTables at /home/simonbyrne/.julia/packages/IndexedTables/Jw0SP/src/tabletraits.jl:51\n",
       "[3] (::Type{NDSparse})(columns...; names, rest...) in IndexedTables at /home/simonbyrne/.julia/packages/IndexedTables/Jw0SP/src/ndsparse.jl:284"
      ]
     },
     "execution_count": 15,
     "metadata": {},
     "output_type": "execute_result"
    }
   ],
   "source": [
    "NDSparse |> methods"
   ]
  },
  {
   "cell_type": "code",
   "execution_count": 17,
   "metadata": {},
   "outputs": [
    {
     "name": "stdout",
     "output_type": "stream",
     "text": [
      " 19.620846 seconds (2.37 M allocations: 121.356 MiB, 0.37% gc time)\n"
     ]
    },
    {
     "data": {
      "text/plain": [
       "2-d Distributed NDSparse with 66822797 values (2 field named tuples) in 4 chunks:\n",
       "pair       timestamp               │ bid      ask\n",
       "───────────────────────────────────┼─────────────────\n",
       "\"EUR/JPY\"  2016-02-01T00:00:00.031 │ 131.362  131.377\n",
       "\"EUR/JPY\"  2016-02-01T00:00:00.085 │ 131.364  131.377\n",
       "\"EUR/JPY\"  2016-02-01T00:00:00.186 │ 131.362  131.377\n",
       "\"EUR/JPY\"  2016-02-01T00:00:00.289 │ 131.364  131.377\n",
       "\"EUR/JPY\"  2016-02-01T00:00:00.349 │ 131.366  131.377\n",
       "\"EUR/JPY\"  2016-02-01T00:00:00.789 │ 131.365  131.377\n",
       "\"EUR/JPY\"  2016-02-01T00:00:00.821 │ 131.365  131.378\n",
       "\"EUR/JPY\"  2016-02-01T00:00:00.853 │ 131.367  131.378\n",
       "\"EUR/JPY\"  2016-02-01T00:00:00.96  │ 131.368  131.378\n",
       "\"EUR/JPY\"  2016-02-01T00:00:01.07  │ 131.37   131.378\n",
       "\"EUR/JPY\"  2016-02-01T00:00:01.095 │ 131.37   131.379\n",
       "\"EUR/JPY\"  2016-02-01T00:00:01.138 │ 131.37   131.38\n",
       "\"EUR/JPY\"  2016-02-01T00:00:01.333 │ 131.372  131.384\n",
       "\"EUR/JPY\"  2016-02-01T00:00:01.338 │ 131.37   131.384\n",
       "\"EUR/JPY\"  2016-02-01T00:00:01.389 │ 131.372  131.384\n",
       "\"EUR/JPY\"  2016-02-01T00:00:01.545 │ 131.372  131.386\n",
       "\"EUR/JPY\"  2016-02-01T00:00:01.562 │ 131.372  131.384\n",
       "\"EUR/JPY\"  2016-02-01T00:00:01.575 │ 131.371  131.384\n",
       "\"EUR/JPY\"  2016-02-01T00:00:01.606 │ 131.371  131.386\n",
       "\"EUR/JPY\"  2016-02-01T00:00:01.678 │ 131.372  131.389\n",
       "\"EUR/JPY\"  2016-02-01T00:00:01.747 │ 131.375  131.389\n",
       "\"EUR/JPY\"  2016-02-01T00:00:01.775 │ 131.375  131.39\n",
       "\"EUR/JPY\"  2016-02-01T00:00:03.809 │ 131.376  131.392\n",
       "\"EUR/JPY\"  2016-02-01T00:00:03.81  │ 131.377  131.392\n",
       "                                   ⋮"
      ]
     },
     "execution_count": 17,
     "metadata": {},
     "output_type": "execute_result"
    }
   ],
   "source": [
    "@time subset2 = data[[\"EUR/JPY\", \"USD/JPY\"], DateTime(\"2016-02-01\"):Dates.Millisecond(1):DateTime(\"2016-05-31\")] |> compute"
   ]
  },
  {
   "cell_type": "code",
   "execution_count": 18,
   "metadata": {},
   "outputs": [
    {
     "data": {
      "text/plain": [
       "JuliaDB.DNDSparse{NamedTuple{(:pair, :timestamp),Tuple{String,DateTime}},NamedTuple{(:bid, :ask),Tuple{Float32,Float32}}}"
      ]
     },
     "execution_count": 18,
     "metadata": {},
     "output_type": "execute_result"
    }
   ],
   "source": [
    "typeof(subset2)"
   ]
  },
  {
   "cell_type": "code",
   "execution_count": 19,
   "metadata": {},
   "outputs": [
    {
     "data": {
      "text/plain": [
       "4-element Array{Dagger.Chunk{Any,MemPool.DRef},1}:\n",
       " Dagger.Chunk{Any,MemPool.DRef}(NDSparse{NamedTuple{(:bid, :ask),Tuple{Float32,Float32}},Tuple{String,DateTime},Columns{NamedTuple{(:pair, :timestamp),Tuple{String,DateTime}},NamedTuple{(:pair, :timestamp),Tuple{WeakRefStrings.StringArray{String,1},Array{DateTime,1}}}},Columns{NamedTuple{(:bid, :ask),Tuple{Float32,Float32}},NamedTuple{(:bid, :ask),Tuple{Array{Float32,1},Array{Float32,1}}}}}, JuliaDB.IndexSpace{NamedTuple{(:pair, :timestamp),Tuple{String,DateTime}}}((pair = \"EUR/JPY\", timestamp = 2016-02-01T00:00:00.031)..(pair = \"EUR/JPY\", timestamp = 2016-04-29T20:59:59.895), (pair = \"EUR/JPY\", timestamp = 2016-02-01T00:00:00.031)..(pair = \"EUR/JPY\", timestamp = 2016-04-29T20:59:59.895), Nullable{Int64}(23434479)), MemPool.DRef(2, 122, 0x0000000030e35cad), true)\n",
       " Dagger.Chunk{Any,MemPool.DRef}(NDSparse{NamedTuple{(:bid, :ask),Tuple{Float32,Float32}},Tuple{String,DateTime},Columns{NamedTuple{(:pair, :timestamp),Tuple{String,DateTime}},NamedTuple{(:pair, :timestamp),Tuple{WeakRefStrings.StringArray{String,1},Array{DateTime,1}}}},Columns{NamedTuple{(:bid, :ask),Tuple{Float32,Float32}},NamedTuple{(:bid, :ask),Tuple{Array{Float32,1},Array{Float32,1}}}}}, JuliaDB.IndexSpace{NamedTuple{(:pair, :timestamp),Tuple{String,DateTime}}}((pair = \"EUR/JPY\", timestamp = 2016-05-02T00:00:00.033)..(pair = \"EUR/JPY\", timestamp = 2016-05-30T23:59:59.834), (pair = \"EUR/JPY\", timestamp = 2016-05-02T00:00:00.033)..(pair = \"EUR/JPY\", timestamp = 2016-05-30T23:59:59.834), Nullable{Int64}(12669244)), MemPool.DRef(3, 6, 0x000000001a6e1b34), true)  \n",
       " Dagger.Chunk{Any,MemPool.DRef}(NDSparse{NamedTuple{(:bid, :ask),Tuple{Float32,Float32}},Tuple{String,DateTime},Columns{NamedTuple{(:pair, :timestamp),Tuple{String,DateTime}},NamedTuple{(:pair, :timestamp),Tuple{WeakRefStrings.StringArray{String,1},Array{DateTime,1}}}},Columns{NamedTuple{(:bid, :ask),Tuple{Float32,Float32}},NamedTuple{(:bid, :ask),Tuple{Array{Float32,1},Array{Float32,1}}}}}, JuliaDB.IndexSpace{NamedTuple{(:pair, :timestamp),Tuple{String,DateTime}}}((pair = \"USD/JPY\", timestamp = 2016-02-01T00:00:00.02)..(pair = \"USD/JPY\", timestamp = 2016-03-31T23:59:59.989), (pair = \"USD/JPY\", timestamp = 2016-02-01T00:00:00.02)..(pair = \"USD/JPY\", timestamp = 2016-03-31T23:59:59.989), Nullable{Int64}(9429779)), MemPool.DRef(5, 8, 0x0000000013ac0b99), true)     \n",
       " Dagger.Chunk{Any,MemPool.DRef}(NDSparse{NamedTuple{(:bid, :ask),Tuple{Float32,Float32}},Tuple{String,DateTime},Columns{NamedTuple{(:pair, :timestamp),Tuple{String,DateTime}},NamedTuple{(:pair, :timestamp),Tuple{WeakRefStrings.StringArray{String,1},Array{DateTime,1}}}},Columns{NamedTuple{(:bid, :ask),Tuple{Float32,Float32}},NamedTuple{(:bid, :ask),Tuple{Array{Float32,1},Array{Float32,1}}}}}, JuliaDB.IndexSpace{NamedTuple{(:pair, :timestamp),Tuple{String,DateTime}}}((pair = \"USD/JPY\", timestamp = 2016-04-01T00:00:00.024)..(pair = \"USD/JPY\", timestamp = 2016-05-30T23:59:59.912), (pair = \"USD/JPY\", timestamp = 2016-04-01T00:00:00.024)..(pair = \"USD/JPY\", timestamp = 2016-05-30T23:59:59.912), Nullable{Int64}(21289295)), MemPool.DRef(21, 9, 0x000000002c69b5cd), true) "
      ]
     },
     "execution_count": 19,
     "metadata": {},
     "output_type": "execute_result"
    }
   ],
   "source": [
    "subset2.chunks"
   ]
  },
  {
   "cell_type": "code",
   "execution_count": 20,
   "metadata": {},
   "outputs": [
    {
     "data": {
      "text/plain": [
       "4-element Array{JuliaDB.IndexSpace{NamedTuple{(:pair, :timestamp),Tuple{String,DateTime}}},1}:\n",
       " JuliaDB.IndexSpace{NamedTuple{(:pair, :timestamp),Tuple{String,DateTime}}}((pair = \"EUR/JPY\", timestamp = 2016-02-01T00:00:00.031)..(pair = \"EUR/JPY\", timestamp = 2016-04-29T20:59:59.895), (pair = \"EUR/JPY\", timestamp = 2016-02-01T00:00:00.031)..(pair = \"EUR/JPY\", timestamp = 2016-04-29T20:59:59.895), Nullable{Int64}(23434479))\n",
       " JuliaDB.IndexSpace{NamedTuple{(:pair, :timestamp),Tuple{String,DateTime}}}((pair = \"EUR/JPY\", timestamp = 2016-05-02T00:00:00.033)..(pair = \"EUR/JPY\", timestamp = 2016-05-30T23:59:59.834), (pair = \"EUR/JPY\", timestamp = 2016-05-02T00:00:00.033)..(pair = \"EUR/JPY\", timestamp = 2016-05-30T23:59:59.834), Nullable{Int64}(12669244))\n",
       " JuliaDB.IndexSpace{NamedTuple{(:pair, :timestamp),Tuple{String,DateTime}}}((pair = \"USD/JPY\", timestamp = 2016-02-01T00:00:00.02)..(pair = \"USD/JPY\", timestamp = 2016-03-31T23:59:59.989), (pair = \"USD/JPY\", timestamp = 2016-02-01T00:00:00.02)..(pair = \"USD/JPY\", timestamp = 2016-03-31T23:59:59.989), Nullable{Int64}(9429779))   \n",
       " JuliaDB.IndexSpace{NamedTuple{(:pair, :timestamp),Tuple{String,DateTime}}}((pair = \"USD/JPY\", timestamp = 2016-04-01T00:00:00.024)..(pair = \"USD/JPY\", timestamp = 2016-05-30T23:59:59.912), (pair = \"USD/JPY\", timestamp = 2016-04-01T00:00:00.024)..(pair = \"USD/JPY\", timestamp = 2016-05-30T23:59:59.912), Nullable{Int64}(21289295))"
      ]
     },
     "execution_count": 20,
     "metadata": {},
     "output_type": "execute_result"
    }
   ],
   "source": [
    "subset2.domains"
   ]
  },
  {
   "cell_type": "markdown",
   "metadata": {},
   "source": [
    "# Filtering\n",
    "\n",
    "User defined functions are fast!"
   ]
  },
  {
   "cell_type": "code",
   "execution_count": 45,
   "metadata": {},
   "outputs": [],
   "source": [
    "@everywhere using Dates\n",
    "@everywhere isusd(pair)   = occursin(pair, \"USD\")\n",
    "@everywhere isweekday(dt) = 1 <= Dates.day(dt) <= 5"
   ]
  },
  {
   "cell_type": "code",
   "execution_count": 50,
   "metadata": {},
   "outputs": [
    {
     "ename": "ArgumentError",
     "evalue": "ArgumentError: invalid index: Union{}[] of type Array{Union{},1}",
     "output_type": "error",
     "traceback": [
      "ArgumentError: invalid index: Union{}[] of type Array{Union{},1}",
      "",
      "Stacktrace:",
      " [1] to_index(::Array{Union{},1}) at ./indices.jl:262",
      " [2] to_index(::Array{JuliaDB.EmptySpace{NamedTuple{(:pair, :timestamp),Tuple{String,DateTime}}},1}, ::Array{Union{},1}) at ./indices.jl:247",
      " [3] to_indices at ./indices.jl:293 [inlined]",
      " [4] to_indices at ./indices.jl:290 [inlined]",
      " [5] getindex at ./abstractarray.jl:905 [inlined]",
      " [6] #fromchunks#104(::Array{JuliaDB.EmptySpace{NamedTuple{(:pair, :timestamp),Tuple{String,DateTime}}},1}, ::Tuple{DataType,DataType}, ::Function, ::Bool, ::Bool, ::Function, ::Type{NDSparse{NamedTuple{(:bid, :ask),Tuple{Float32,Float32}},Tuple{String,DateTime},Columns{NamedTuple{(:pair, :timestamp),Tuple{String,DateTime}},NamedTuple{(:pair, :timestamp),Tuple{WeakRefStrings.StringArray{String,1},Array{DateTime,1}}}},Columns{NamedTuple{(:bid, :ask),Tuple{Float32,Float32}},NamedTuple{(:bid, :ask),Tuple{Array{Float32,1},Array{Float32,1}}}}}}, ::Array{Dagger.Chunk{Any,MemPool.DRef},1}) at /home/simonbyrne/.julia/packages/JuliaDB/vRAcT/src/ndsparse.jl:389",
      " [7] fromchunks(::Type{NDSparse{NamedTuple{(:bid, :ask),Tuple{Float32,Float32}},Tuple{String,DateTime},Columns{NamedTuple{(:pair, :timestamp),Tuple{String,DateTime}},NamedTuple{(:pair, :timestamp),Tuple{WeakRefStrings.StringArray{String,1},Array{DateTime,1}}}},Columns{NamedTuple{(:bid, :ask),Tuple{Float32,Float32}},NamedTuple{(:bid, :ask),Tuple{Array{Float32,1},Array{Float32,1}}}}}}, ::Array{Dagger.Chunk{Any,MemPool.DRef},1}) at /home/simonbyrne/.julia/packages/JuliaDB/vRAcT/src/ndsparse.jl:388",
      " [8] #fromchunks#47(::Nothing, ::Int64, ::Base.Iterators.Pairs{Union{},Union{},Tuple{},NamedTuple{(),Tuple{}}}, ::Function, ::Array{Dagger.Thunk,1}) at /home/simonbyrne/.julia/packages/JuliaDB/vRAcT/src/table.jl:160",
      " [9] fromchunks(::Array{Dagger.Thunk,1}) at /home/simonbyrne/.julia/packages/JuliaDB/vRAcT/src/table.jl:138",
      " [10] #filter#216(::Nothing, ::Function, ::Tuple{Pair{Symbol,typeof(isusd)},Pair{Symbol,typeof(isweekday)}}, ::JuliaDB.DNDSparse{NamedTuple{(:pair, :timestamp),Tuple{String,DateTime}},NamedTuple{(:bid, :ask),Tuple{Float32,Float32}}}) at /home/simonbyrne/.julia/packages/JuliaDB/vRAcT/src/selection.jl:22",
      " [11] filter(::Tuple{Pair{Symbol,typeof(isusd)},Pair{Symbol,typeof(isweekday)}}, ::JuliaDB.DNDSparse{NamedTuple{(:pair, :timestamp),Tuple{String,DateTime}},NamedTuple{(:bid, :ask),Tuple{Float32,Float32}}}) at /home/simonbyrne/.julia/packages/JuliaDB/vRAcT/src/selection.jl:21",
      " [12] top-level scope at util.jl:156",
      " [13] top-level scope at In[50]:1"
     ]
    }
   ],
   "source": [
    "@time weekdayusd = filter((:pair => isusd, :timestamp => isweekday),\n",
    "                          data) |> compute"
   ]
  },
  {
   "cell_type": "markdown",
   "metadata": {},
   "source": [
    "# Aggregation"
   ]
  },
  {
   "cell_type": "markdown",
   "metadata": {},
   "source": [
    "Below we calculate an hourly window for the data from 2016. We will get the maximum bid price and the minimum offer price for each stock in the hour."
   ]
  },
  {
   "cell_type": "code",
   "execution_count": 23,
   "metadata": {},
   "outputs": [],
   "source": [
    "@everywhere fiveminutes(t) = floor(t, Dates.Minute(5))"
   ]
  },
  {
   "cell_type": "code",
   "execution_count": 24,
   "metadata": {},
   "outputs": [
    {
     "name": "stdout",
     "output_type": "stream",
     "text": [
      "153.801833 seconds (3.82 M allocations: 194.391 MiB, 0.09% gc time)\n"
     ]
    },
    {
     "data": {
      "text/plain": [
       "2-d Distributed NDSparse with 1096697 values (2 field named tuples) in 80 chunks:\n",
       "pair       timestamp           │ bid     ask\n",
       "───────────────────────────────┼───────────────\n",
       "\"AUD/JPY\"  2016-01-04T00:00:00 │ 87.656  87.63\n",
       "\"AUD/JPY\"  2016-01-04T00:05:00 │ 87.662  87.636\n",
       "\"AUD/JPY\"  2016-01-04T00:10:00 │ 87.688  87.642\n",
       "\"AUD/JPY\"  2016-01-04T00:15:00 │ 87.691  87.665\n",
       "\"AUD/JPY\"  2016-01-04T00:20:00 │ 87.706  87.681\n",
       "\"AUD/JPY\"  2016-01-04T00:25:00 │ 87.713  87.683\n",
       "\"AUD/JPY\"  2016-01-04T00:30:00 │ 87.715  87.674\n",
       "\"AUD/JPY\"  2016-01-04T00:35:00 │ 87.683  87.621\n",
       "\"AUD/JPY\"  2016-01-04T00:40:00 │ 87.612  87.576\n",
       "\"AUD/JPY\"  2016-01-04T00:45:00 │ 87.618  87.579\n",
       "\"AUD/JPY\"  2016-01-04T00:50:00 │ 87.6    87.537\n",
       "\"AUD/JPY\"  2016-01-04T00:55:00 │ 87.593  87.564\n",
       "\"AUD/JPY\"  2016-01-04T01:00:00 │ 87.602  87.401\n",
       "\"AUD/JPY\"  2016-01-04T01:05:00 │ 87.477  87.38\n",
       "\"AUD/JPY\"  2016-01-04T01:10:00 │ 87.375  87.213\n",
       "\"AUD/JPY\"  2016-01-04T01:15:00 │ 87.263  86.981\n",
       "\"AUD/JPY\"  2016-01-04T01:20:00 │ 87.135  87.01\n",
       "\"AUD/JPY\"  2016-01-04T01:25:00 │ 87.141  87.085\n",
       "\"AUD/JPY\"  2016-01-04T01:30:00 │ 87.132  87.064\n",
       "\"AUD/JPY\"  2016-01-04T01:35:00 │ 87.103  87.07\n",
       "\"AUD/JPY\"  2016-01-04T01:40:00 │ 87.063  87.043\n",
       "\"AUD/JPY\"  2016-01-04T01:45:00 │ 87.006  86.788\n",
       "\"AUD/JPY\"  2016-01-04T01:50:00 │ 86.87   86.767\n",
       "\"AUD/JPY\"  2016-01-04T01:55:00 │ 86.838  86.695\n",
       "                               ⋮"
      ]
     },
     "execution_count": 24,
     "metadata": {},
     "output_type": "execute_result"
    }
   ],
   "source": [
    "@time fiveminute_data = groupreduce((bid=:bid=>max, ask=:ask=>min), \n",
    "                                    data, \n",
    "                                    (:pair, :timestamp => fiveminutes))"
   ]
  },
  {
   "cell_type": "markdown",
   "metadata": {},
   "source": [
    "### Saving intermediate data\n",
    "\n",
    "As an aside, you can save any interesting intermediate data you want to load later."
   ]
  },
  {
   "cell_type": "code",
   "execution_count": 25,
   "metadata": {},
   "outputs": [
    {
     "name": "stdout",
     "output_type": "stream",
     "text": [
      "  0.436822 seconds (738.10 k allocations: 36.935 MiB, 4.03% gc time)\n"
     ]
    },
    {
     "data": {
      "text/plain": [
       "2-d Distributed NDSparse with 1096697 values (2 field named tuples) in 80 chunks:\n",
       "pair       timestamp           │ bid     ask\n",
       "───────────────────────────────┼───────────────\n",
       "\"AUD/JPY\"  2016-01-04T00:00:00 │ 87.656  87.63\n",
       "\"AUD/JPY\"  2016-01-04T00:05:00 │ 87.662  87.636\n",
       "\"AUD/JPY\"  2016-01-04T00:10:00 │ 87.688  87.642\n",
       "\"AUD/JPY\"  2016-01-04T00:15:00 │ 87.691  87.665\n",
       "\"AUD/JPY\"  2016-01-04T00:20:00 │ 87.706  87.681\n",
       "\"AUD/JPY\"  2016-01-04T00:25:00 │ 87.713  87.683\n",
       "\"AUD/JPY\"  2016-01-04T00:30:00 │ 87.715  87.674\n",
       "\"AUD/JPY\"  2016-01-04T00:35:00 │ 87.683  87.621\n",
       "\"AUD/JPY\"  2016-01-04T00:40:00 │ 87.612  87.576\n",
       "\"AUD/JPY\"  2016-01-04T00:45:00 │ 87.618  87.579\n",
       "\"AUD/JPY\"  2016-01-04T00:50:00 │ 87.6    87.537\n",
       "\"AUD/JPY\"  2016-01-04T00:55:00 │ 87.593  87.564\n",
       "\"AUD/JPY\"  2016-01-04T01:00:00 │ 87.602  87.401\n",
       "\"AUD/JPY\"  2016-01-04T01:05:00 │ 87.477  87.38\n",
       "\"AUD/JPY\"  2016-01-04T01:10:00 │ 87.375  87.213\n",
       "\"AUD/JPY\"  2016-01-04T01:15:00 │ 87.263  86.981\n",
       "\"AUD/JPY\"  2016-01-04T01:20:00 │ 87.135  87.01\n",
       "\"AUD/JPY\"  2016-01-04T01:25:00 │ 87.141  87.085\n",
       "\"AUD/JPY\"  2016-01-04T01:30:00 │ 87.132  87.064\n",
       "\"AUD/JPY\"  2016-01-04T01:35:00 │ 87.103  87.07\n",
       "\"AUD/JPY\"  2016-01-04T01:40:00 │ 87.063  87.043\n",
       "\"AUD/JPY\"  2016-01-04T01:45:00 │ 87.006  86.788\n",
       "\"AUD/JPY\"  2016-01-04T01:50:00 │ 86.87   86.767\n",
       "\"AUD/JPY\"  2016-01-04T01:55:00 │ 86.838  86.695\n",
       "                               ⋮"
      ]
     },
     "execution_count": 25,
     "metadata": {},
     "output_type": "execute_result"
    }
   ],
   "source": [
    "@time save(fiveminute_data, \"bindata/fiveminute-2016\")"
   ]
  },
  {
   "cell_type": "markdown",
   "metadata": {},
   "source": [
    "# Lazy operations and Views"
   ]
  },
  {
   "cell_type": "markdown",
   "metadata": {},
   "source": [
    "Operations on DTable are lazy. Data only gets computed when it's required or explicitly requested using `compute` or `gather` functions.\n",
    "\n",
    "This allows some interesting things:\n",
    "\n",
    "- One can set up a pipeline of opearations and fuse them so that there's no need to write intermediate results or read data more than once\n",
    "- This is also the mechanism that makes JuliaDB out-of-core. You can run it even when your data will not fit in main memory\n",
    "- Sometimes you might be interested in only a part of the output of a sequence of operations, but find it convenient to write the sequence of operations once and then query parts of the final result."
   ]
  },
  {
   "cell_type": "markdown",
   "metadata": {},
   "source": [
    "## Interactive views into query results:"
   ]
  },
  {
   "cell_type": "code",
   "execution_count": 26,
   "metadata": {
    "scrolled": true
   },
   "outputs": [
    {
     "data": {
      "text/html": [
       "    <script class='js-collapse-script'>\n",
       "        var curMatch =\n",
       "            window.location.href\n",
       "            .match(/(.*?)\\/notebooks\\/.*\\.ipynb/);\n",
       "\n",
       "        curMatch = curMatch ||\n",
       "            window.location.href\n",
       "            .match(/(.*?)\\/apps\\/.*\\.ipynb/);\n",
       "\n",
       "        if ( curMatch ) {\n",
       "            $('head').append('<base href=\"' + curMatch[1] + '/\">');\n",
       "        }\n",
       "    </script>\n"
      ],
      "text/plain": [
       "HTML{String}(\"    <script class='js-collapse-script'>\\n        var curMatch =\\n            window.location.href\\n            .match(/(.*?)\\\\/notebooks\\\\/.*\\\\.ipynb/);\\n\\n        curMatch = curMatch ||\\n            window.location.href\\n            .match(/(.*?)\\\\/apps\\\\/.*\\\\.ipynb/);\\n\\n        if ( curMatch ) {\\n            \\$('head').append('<base href=\\\"' + curMatch[1] + '/\\\">');\\n        }\\n    </script>\\n\")"
      ]
     },
     "metadata": {},
     "output_type": "display_data"
    },
    {
     "data": {
      "text/html": [
       "<script class='js-collapse-script' src='/assetserver/666570235a8c6e99bbd2f3cbdb5ee0990bcb4434-assets/webio/dist/bundle.js'></script>"
      ],
      "text/plain": [
       "HTML{String}(\"<script class='js-collapse-script' src='/assetserver/666570235a8c6e99bbd2f3cbdb5ee0990bcb4434-assets/webio/dist/bundle.js'></script>\")"
      ]
     },
     "metadata": {},
     "output_type": "display_data"
    },
    {
     "data": {
      "text/html": [
       "<script class='js-collapse-script' src='/assetserver/666570235a8c6e99bbd2f3cbdb5ee0990bcb4434-assets/providers/ijulia_setup.js'></script>"
      ],
      "text/plain": [
       "HTML{String}(\"<script class='js-collapse-script' src='/assetserver/666570235a8c6e99bbd2f3cbdb5ee0990bcb4434-assets/providers/ijulia_setup.js'></script>\")"
      ]
     },
     "metadata": {},
     "output_type": "display_data"
    },
    {
     "data": {
      "text/html": [
       "  <script class='js-collapse-script'>\n",
       "    $('.js-collapse-script').parent('.output_subarea').css('padding', '0');\n",
       "  </script>\n"
      ],
      "text/plain": [
       "HTML{String}(\"  <script class='js-collapse-script'>\\n    \\$('.js-collapse-script').parent('.output_subarea').css('padding', '0');\\n  </script>\\n\")"
      ]
     },
     "metadata": {},
     "output_type": "display_data"
    },
    {
     "data": {
      "text/plain": [
       "Plots.GRBackend()"
      ]
     },
     "execution_count": 26,
     "metadata": {},
     "output_type": "execute_result"
    }
   ],
   "source": [
    "using Interact\n",
    "using Plots\n",
    "gr()"
   ]
  },
  {
   "cell_type": "code",
   "execution_count": 27,
   "metadata": {},
   "outputs": [
    {
     "ename": "RemoteException",
     "evalue": "On worker 2:\nMethodError: Cannot `convert` an object of type Array{Union{},1} to an object of type NDSparse\nClosest candidates are:\n  convert(::Type{NDSparse}, ::AbstractArray{T,N} where N) where T at /home/simonbyrne/.julia/packages/IndexedTables/Jw0SP/src/ndsparse.jl:515 got unsupported keyword arguments \"presorted\", \"copy\"\n  convert(::Type{NDSparse}, ::Any, !Matched::Any; kwargs...) at /home/simonbyrne/.julia/packages/IndexedTables/Jw0SP/src/ndsparse.jl:423\n  convert(::Type{NDSparse}, !Matched::Columns{#s74,C} where C<:Union{Tuple, Pair, NamedTuple} where #s74<:Pair; kwargs...) at /home/simonbyrne/.julia/packages/IndexedTables/Jw0SP/src/ndsparse.jl:424\n  ...\n#groupreduce#210 at /home/simonbyrne/.julia/packages/IndexedTables/Jw0SP/src/reduce.jl:251\ngroupreduce at /home/simonbyrne/.julia/packages/IndexedTables/Jw0SP/src/reduce.jl:228\ngroupchunk at /home/simonbyrne/.julia/packages/JuliaDB/vRAcT/src/reduce.jl:50\ndo_task at /home/simonbyrne/.julia/packages/Dagger/S6Typ/src/scheduler.jl:255\n#112 at /buildworker/worker/package_linux64/build/usr/share/julia/stdlib/v1.0/Distributed/src/process_messages.jl:269\nrun_work_thunk at /buildworker/worker/package_linux64/build/usr/share/julia/stdlib/v1.0/Distributed/src/process_messages.jl:56\nmacro expansion at /buildworker/worker/package_linux64/build/usr/share/julia/stdlib/v1.0/Distributed/src/process_messages.jl:269 [inlined]\n#111 at ./task.jl:259",
     "output_type": "error",
     "traceback": [
      "On worker 2:\nMethodError: Cannot `convert` an object of type Array{Union{},1} to an object of type NDSparse\nClosest candidates are:\n  convert(::Type{NDSparse}, ::AbstractArray{T,N} where N) where T at /home/simonbyrne/.julia/packages/IndexedTables/Jw0SP/src/ndsparse.jl:515 got unsupported keyword arguments \"presorted\", \"copy\"\n  convert(::Type{NDSparse}, ::Any, !Matched::Any; kwargs...) at /home/simonbyrne/.julia/packages/IndexedTables/Jw0SP/src/ndsparse.jl:423\n  convert(::Type{NDSparse}, !Matched::Columns{#s74,C} where C<:Union{Tuple, Pair, NamedTuple} where #s74<:Pair; kwargs...) at /home/simonbyrne/.julia/packages/IndexedTables/Jw0SP/src/ndsparse.jl:424\n  ...\n#groupreduce#210 at /home/simonbyrne/.julia/packages/IndexedTables/Jw0SP/src/reduce.jl:251\ngroupreduce at /home/simonbyrne/.julia/packages/IndexedTables/Jw0SP/src/reduce.jl:228\ngroupchunk at /home/simonbyrne/.julia/packages/JuliaDB/vRAcT/src/reduce.jl:50\ndo_task at /home/simonbyrne/.julia/packages/Dagger/S6Typ/src/scheduler.jl:255\n#112 at /buildworker/worker/package_linux64/build/usr/share/julia/stdlib/v1.0/Distributed/src/process_messages.jl:269\nrun_work_thunk at /buildworker/worker/package_linux64/build/usr/share/julia/stdlib/v1.0/Distributed/src/process_messages.jl:56\nmacro expansion at /buildworker/worker/package_linux64/build/usr/share/julia/stdlib/v1.0/Distributed/src/process_messages.jl:269 [inlined]\n#111 at ./task.jl:259",
      ""
     ]
    }
   ],
   "source": [
    "current_data = @manipulate for \n",
    "        month  = [1:12;],\n",
    "        window = Pair[\"hourly\" => Dates.Hour(1), \"5 minutes\" => Dates.Minute(5)]\n",
    "    \n",
    "    date_range = DateTime(2016, month):Dates.Millisecond(1):DateTime(2016,month)+Dates.Month(1)-Dates.Millisecond(1)\n",
    "    subdata = data[[\"EUR/GBP\", \"EUR/USD\", \"GBP/USD\"], date_range]\n",
    "    \n",
    "    collect(groupreduce((bid=:bid=>min, ask=:ask=>max), \n",
    "            subdata, \n",
    "            (:pair, :timestamp => dt -> floor(dt, window))))\n",
    "end"
   ]
  },
  {
   "cell_type": "code",
   "execution_count": 28,
   "metadata": {},
   "outputs": [
    {
     "ename": "RemoteException",
     "evalue": "On worker 2:\nMethodError: Cannot `convert` an object of type Array{Union{},1} to an object of type NDSparse\nClosest candidates are:\n  convert(::Type{NDSparse}, ::AbstractArray{T,N} where N) where T at /home/simonbyrne/.julia/packages/IndexedTables/Jw0SP/src/ndsparse.jl:515 got unsupported keyword arguments \"presorted\", \"copy\"\n  convert(::Type{NDSparse}, ::Any, !Matched::Any; kwargs...) at /home/simonbyrne/.julia/packages/IndexedTables/Jw0SP/src/ndsparse.jl:423\n  convert(::Type{NDSparse}, !Matched::Columns{#s74,C} where C<:Union{Tuple, Pair, NamedTuple} where #s74<:Pair; kwargs...) at /home/simonbyrne/.julia/packages/IndexedTables/Jw0SP/src/ndsparse.jl:424\n  ...\n#groupreduce#210 at /home/simonbyrne/.julia/packages/IndexedTables/Jw0SP/src/reduce.jl:251\ngroupreduce at /home/simonbyrne/.julia/packages/IndexedTables/Jw0SP/src/reduce.jl:228\ngroupchunk at /home/simonbyrne/.julia/packages/JuliaDB/vRAcT/src/reduce.jl:50\ndo_task at /home/simonbyrne/.julia/packages/Dagger/S6Typ/src/scheduler.jl:255\n#112 at /buildworker/worker/package_linux64/build/usr/share/julia/stdlib/v1.0/Distributed/src/process_messages.jl:269\nrun_work_thunk at /buildworker/worker/package_linux64/build/usr/share/julia/stdlib/v1.0/Distributed/src/process_messages.jl:56\nmacro expansion at /buildworker/worker/package_linux64/build/usr/share/julia/stdlib/v1.0/Distributed/src/process_messages.jl:269 [inlined]\n#111 at ./task.jl:259",
     "output_type": "error",
     "traceback": [
      "On worker 2:\nMethodError: Cannot `convert` an object of type Array{Union{},1} to an object of type NDSparse\nClosest candidates are:\n  convert(::Type{NDSparse}, ::AbstractArray{T,N} where N) where T at /home/simonbyrne/.julia/packages/IndexedTables/Jw0SP/src/ndsparse.jl:515 got unsupported keyword arguments \"presorted\", \"copy\"\n  convert(::Type{NDSparse}, ::Any, !Matched::Any; kwargs...) at /home/simonbyrne/.julia/packages/IndexedTables/Jw0SP/src/ndsparse.jl:423\n  convert(::Type{NDSparse}, !Matched::Columns{#s74,C} where C<:Union{Tuple, Pair, NamedTuple} where #s74<:Pair; kwargs...) at /home/simonbyrne/.julia/packages/IndexedTables/Jw0SP/src/ndsparse.jl:424\n  ...\n#groupreduce#210 at /home/simonbyrne/.julia/packages/IndexedTables/Jw0SP/src/reduce.jl:251\ngroupreduce at /home/simonbyrne/.julia/packages/IndexedTables/Jw0SP/src/reduce.jl:228\ngroupchunk at /home/simonbyrne/.julia/packages/JuliaDB/vRAcT/src/reduce.jl:50\ndo_task at /home/simonbyrne/.julia/packages/Dagger/S6Typ/src/scheduler.jl:255\n#112 at /buildworker/worker/package_linux64/build/usr/share/julia/stdlib/v1.0/Distributed/src/process_messages.jl:269\nrun_work_thunk at /buildworker/worker/package_linux64/build/usr/share/julia/stdlib/v1.0/Distributed/src/process_messages.jl:56\nmacro expansion at /buildworker/worker/package_linux64/build/usr/share/julia/stdlib/v1.0/Distributed/src/process_messages.jl:269 [inlined]\n#111 at ./task.jl:259",
      ""
     ]
    }
   ],
   "source": [
    "@manipulate for \n",
    "        month=[1:12;],\n",
    "        window = Pair[\"hourly\" => Dates.Hour(1), \"5 minutes\" => Dates.Minute(5)]\n",
    "        \n",
    "    pairs = [\"EUR/GBP\", \"EUR/USD\", \"GBP/USD\"]\n",
    "    date_range = DateTime(2016, month):Dates.Millisecond(1):DateTime(2016,month)+Dates.Month(1)-Dates.Millisecond(1)\n",
    "    p = Plots.Plot()\n",
    "    for pair in pairs\n",
    "        subdata = data[pair, date_range]\n",
    "        result = collect(groupreduce((bid=:bid=>min, ask=:ask=>max), \n",
    "            subdata, :timestamp => dt -> floor(dt, window)))\n",
    "\n",
    "        plot!(p, keys(result, :timestamp), \n",
    "                values(result, :bid), fillrange=values(result, :ask), \n",
    "                label=pair, legend=:bottomleft)\n",
    "    end\n",
    "    p\n",
    "end\n",
    "# Check out June"
   ]
  },
  {
   "cell_type": "markdown",
   "metadata": {
    "collapsed": true
   },
   "source": [
    "# Vectorized Aggregation & Summary Statistics\n"
   ]
  },
  {
   "cell_type": "markdown",
   "metadata": {},
   "source": [
    "For non-reduction operations, we can use `groupby`:"
   ]
  },
  {
   "cell_type": "code",
   "execution_count": 29,
   "metadata": {},
   "outputs": [
    {
     "ename": "UndefVarError",
     "evalue": "UndefVarError: mean not defined",
     "output_type": "error",
     "traceback": [
      "UndefVarError: mean not defined",
      "",
      "Stacktrace:",
      " [1] top-level scope at util.jl:156",
      " [2] top-level scope at In[29]:1"
     ]
    }
   ],
   "source": [
    "@time groupby(mean, fiveminute_data, (:pair,:timestamp=>Date), select=:bid)"
   ]
  },
  {
   "cell_type": "code",
   "execution_count": 30,
   "metadata": {},
   "outputs": [
    {
     "ename": "UndefVarError",
     "evalue": "UndefVarError: mean not defined",
     "output_type": "error",
     "traceback": [
      "UndefVarError: mean not defined",
      "",
      "Stacktrace:",
      " [1] top-level scope at In[30]:7"
     ]
    }
   ],
   "source": [
    "# Can compute multiple in 1 go\n",
    "@everywhere begin\n",
    "    p25(x) = quantile(x,0.25f0)\n",
    "    p50(x) = quantile(x,0.50f0)\n",
    "    p75(x) = quantile(x,0.75f0)\n",
    "end\n",
    "stats = (mean, std, var, p25, p50, p75)\n",
    "@time groupby(stats, fiveminute_data, (:pair,:timestamp=>Date), select=:bid)"
   ]
  },
  {
   "cell_type": "markdown",
   "metadata": {},
   "source": [
    "JuliaDB incorporates support for OnlineStats.jl, a library for computing fast statistics using streaming data:"
   ]
  },
  {
   "cell_type": "code",
   "execution_count": 31,
   "metadata": {},
   "outputs": [],
   "source": [
    "using OnlineStats"
   ]
  },
  {
   "cell_type": "code",
   "execution_count": 32,
   "metadata": {},
   "outputs": [
    {
     "name": "stdout",
     "output_type": "stream",
     "text": [
      "  2.981500 seconds (2.76 M allocations: 139.363 MiB, 3.49% gc time)\n"
     ]
    },
    {
     "data": {
      "text/plain": [
       "2-d Distributed NDSparse with 3898 values (Mean{EqualWeight}) in 80 chunks:\n",
       "pair       timestamp  │\n",
       "──────────────────────┼────────────────────────────\n",
       "\"AUD/JPY\"  2016-01-04 │ Mean: n=288 | value=86.0211\n",
       "\"AUD/JPY\"  2016-01-05 │ Mean: n=288 | value=85.5445\n",
       "\"AUD/JPY\"  2016-01-06 │ Mean: n=288 | value=84.1173\n",
       "\"AUD/JPY\"  2016-01-07 │ Mean: n=288 | value=82.8144\n",
       "\"AUD/JPY\"  2016-01-08 │ Mean: n=264 | value=82.8973\n",
       "\"AUD/JPY\"  2016-01-11 │ Mean: n=288 | value=82.1244\n",
       "\"AUD/JPY\"  2016-01-12 │ Mean: n=288 | value=82.2125\n",
       "\"AUD/JPY\"  2016-01-13 │ Mean: n=288 | value=82.7428\n",
       "\"AUD/JPY\"  2016-01-14 │ Mean: n=288 | value=82.0008\n",
       "\"AUD/JPY\"  2016-01-15 │ Mean: n=252 | value=81.1253\n",
       "\"AUD/JPY\"  2016-01-18 │ Mean: n=288 | value=80.7458\n",
       "\"AUD/JPY\"  2016-01-19 │ Mean: n=288 | value=81.3649\n",
       "\"AUD/JPY\"  2016-01-20 │ Mean: n=288 | value=80.3517\n",
       "\"AUD/JPY\"  2016-01-21 │ Mean: n=288 | value=81.4381\n",
       "\"AUD/JPY\"  2016-01-22 │ Mean: n=252 | value=82.9526\n",
       "\"AUD/JPY\"  2016-01-25 │ Mean: n=288 | value=82.8088\n",
       "\"AUD/JPY\"  2016-01-26 │ Mean: n=288 | value=82.5552\n",
       "\"AUD/JPY\"  2016-01-27 │ Mean: n=288 | value=83.385\n",
       "\"AUD/JPY\"  2016-01-28 │ Mean: n=288 | value=83.9863\n",
       "\"AUD/JPY\"  2016-01-29 │ Mean: n=252 | value=85.5388\n",
       "\"AUD/JPY\"  2016-02-01 │ Mean: n=288 | value=85.7992\n",
       "\"AUD/JPY\"  2016-02-02 │ Mean: n=288 | value=85.1527\n",
       "\"AUD/JPY\"  2016-02-03 │ Mean: n=288 | value=84.2843\n",
       "\"AUD/JPY\"  2016-02-04 │ Mean: n=288 | value=84.5623\n",
       "                      ⋮"
      ]
     },
     "execution_count": 32,
     "metadata": {},
     "output_type": "execute_result"
    }
   ],
   "source": [
    "@time groupreduce(Mean(), fiveminute_data, (:pair,:timestamp=>Date); select = :bid)"
   ]
  },
  {
   "cell_type": "markdown",
   "metadata": {},
   "source": [
    "Can compute multiple statistics in one go using `Series`:"
   ]
  },
  {
   "cell_type": "code",
   "execution_count": 33,
   "metadata": {},
   "outputs": [
    {
     "name": "stdout",
     "output_type": "stream",
     "text": [
      "  2.564360 seconds (1.65 M allocations: 81.192 MiB, 1.91% gc time)\n"
     ]
    },
    {
     "data": {
      "text/plain": [
       "2-d Distributed NDSparse with 3898 values (Series{Number,Tuple{Mean{EqualWeight},Variance{EqualWeight},Quantile{OMAS,LearningRate}}}) in 80 chunks:\n",
       "    \u001b[4mDimensions\u001b[24m\u001b[1m#  \u001b[22m\u001b[1mcolname    \u001b[22m\u001b[1mtype\u001b[22m\n",
       "────────────────────\n",
       "1  pair       String\n",
       "2  timestamp  Date\n",
       "    \u001b[4mValues\u001b[24mSeries{Number,Tuple{Mean{EqualWeight},Variance{EqualWeight},Quantile{OMAS,LearningRate}}}"
      ]
     },
     "execution_count": 33,
     "metadata": {},
     "output_type": "execute_result"
    }
   ],
   "source": [
    "@time sumdata = groupreduce(Series(Mean(),Variance(),Quantile()), fiveminute_data, (:pair,:timestamp=>Date); select = :bid)"
   ]
  },
  {
   "cell_type": "code",
   "execution_count": 34,
   "metadata": {},
   "outputs": [
    {
     "data": {
      "text/plain": [
       "2-d Distributed NDSparse with 3898 values (3-tuples) in 80 chunks:\n",
       "pair       timestamp  │ 3        4          5\n",
       "──────────────────────┼────────────────────────────────────────────────\n",
       "\"AUD/JPY\"  2016-01-04 │ 86.0211  0.276272   [85.6905, 85.7363, 85.7449]\n",
       "\"AUD/JPY\"  2016-01-05 │ 85.5445  0.176196   [85.1153, 85.1804, 85.2797]\n",
       "\"AUD/JPY\"  2016-01-06 │ 84.1173  0.200841   [83.7674, 83.7703, 83.9226]\n",
       "\"AUD/JPY\"  2016-01-07 │ 82.8144  0.2038     [82.4194, 82.528, 82.7617]\n",
       "\"AUD/JPY\"  2016-01-08 │ 82.8973  0.310002   [82.1408, 82.1944, 82.5307]\n",
       "\"AUD/JPY\"  2016-01-11 │ 82.1244  0.151321   [82.0387, 82.4543, 82.3808]\n",
       "\"AUD/JPY\"  2016-01-12 │ 82.2125  0.0588263  [82.1935, 82.2629, 82.3317]\n",
       "\"AUD/JPY\"  2016-01-13 │ 82.7428  0.24151    [82.408, 82.1441, 82.6577]\n",
       "\"AUD/JPY\"  2016-01-14 │ 82.0008  0.18632    [82.2234, 82.5035, 82.5395]\n",
       "\"AUD/JPY\"  2016-01-15 │ 81.1253  0.675523   [80.3092, 80.5146, 80.4131]\n",
       "\"AUD/JPY\"  2016-01-18 │ 80.7458  0.0420077  [80.6123, 80.5673, 80.6666]\n",
       "\"AUD/JPY\"  2016-01-19 │ 81.3649  0.157307   [81.4012, 81.5162, 81.5155]\n",
       "\"AUD/JPY\"  2016-01-20 │ 80.3517  0.203648   [80.1363, 80.2474, 80.8567]\n",
       "\"AUD/JPY\"  2016-01-21 │ 81.4381  0.476972   [81.5533, 82.3165, 82.5076]\n",
       "\"AUD/JPY\"  2016-01-22 │ 82.9526  0.0850904  [83.0533, 83.1568, 83.1913]\n",
       "\"AUD/JPY\"  2016-01-25 │ 82.8088  0.116947   [82.6613, 82.6343, 82.7179]\n",
       "\"AUD/JPY\"  2016-01-26 │ 82.5552  0.240979   [82.9651, 82.9944, 83.1384]\n",
       "\"AUD/JPY\"  2016-01-27 │ 83.385   0.101306   [83.3725, 83.4073, 83.4673]\n",
       "\"AUD/JPY\"  2016-01-28 │ 83.9863  0.106934   [84.1042, 84.1619, 84.1925]\n",
       "\"AUD/JPY\"  2016-01-29 │ 85.5388  0.41162    [85.6967, 85.7572, 85.803]\n",
       "\"AUD/JPY\"  2016-02-01 │ 85.7992  0.0212903  [85.7992, 85.8746, 85.8565]\n",
       "\"AUD/JPY\"  2016-02-02 │ 85.1527  0.209615   [84.5063, 84.7869, 84.8144]\n",
       "\"AUD/JPY\"  2016-02-03 │ 84.2843  0.0731729  [84.3247, 84.4152, 84.5307]\n",
       "\"AUD/JPY\"  2016-02-04 │ 84.5623  0.0904323  [84.2567, 84.3113, 84.4489]\n",
       "                      ⋮"
      ]
     },
     "execution_count": 34,
     "metadata": {},
     "output_type": "execute_result"
    }
   ],
   "source": [
    "map(value,sumdata)"
   ]
  },
  {
   "cell_type": "code",
   "execution_count": 35,
   "metadata": {},
   "outputs": [
    {
     "name": "stdout",
     "output_type": "stream",
     "text": [
      "214.697251 seconds (274.78 k allocations: 14.368 MiB)\n"
     ]
    },
    {
     "data": {
      "text/plain": [
       "2-d Distributed NDSparse with 3898 values (Series{Number,Tuple{Mean{EqualWeight},Variance{EqualWeight},Quantile{OMAS,LearningRate}}}) in 80 chunks:\n",
       "    \u001b[4mDimensions\u001b[24m\u001b[1m#  \u001b[22m\u001b[1mcolname    \u001b[22m\u001b[1mtype\u001b[22m\n",
       "────────────────────\n",
       "1  pair       String\n",
       "2  timestamp  Date\n",
       "    \u001b[4mValues\u001b[24mSeries{Number,Tuple{Mean{EqualWeight},Variance{EqualWeight},Quantile{OMAS,LearningRate}}}"
      ]
     },
     "execution_count": 35,
     "metadata": {},
     "output_type": "execute_result"
    }
   ],
   "source": [
    "@time sumdata_all = groupreduce(Series(Mean(),Variance(),Quantile()), data, (:pair,:timestamp=>Date); select = :bid)"
   ]
  },
  {
   "cell_type": "markdown",
   "metadata": {},
   "source": [
    "# Arbitrage using JuMP\n",
    "\n",
    "An important advantage of JuliaDB over other time-series databases is that it lets you leverage the whole ecosystem of Julia packages. This composability is very powerful. Here's an example where we apply the state-of-the-art JuMP linear programming library on our data to determine arbitrage.\n",
    "\n",
    "\n",
    "This example [example](http://mattmcd.github.io/2013/03/30/FX-Arbitrage-CLP.html) is taken from [\"Optimization in Finance\" by Cornuejols and Tutuncu](https://www.amazon.co.uk/Optimization-Methods-Finance-Mathematics-Risk/dp/0521861705)"
   ]
  },
  {
   "cell_type": "code",
   "execution_count": 36,
   "metadata": {},
   "outputs": [],
   "source": [
    "using JuMP, GLPK, GLPKMathProgInterface"
   ]
  },
  {
   "cell_type": "markdown",
   "metadata": {},
   "source": [
    "Below is our constraint programming function. Given currency conversion rates of 6 pairs of currencies, it will return the amount of currency to transact for each possible conversion. The objective is to make $100 in every five minute window!"
   ]
  },
  {
   "cell_type": "code",
   "execution_count": 37,
   "metadata": {},
   "outputs": [
    {
     "ename": "CompositeException",
     "evalue": "On worker 2:\nLoadError: UndefVarError: JuMP not defined\ntop-level scope\neval at ./boot.jl:319\n#116 at /buildworker/worker/package_linux64/build/usr/share/julia/stdlib/v1.0/Distributed/src/process_messages.jl:276\nrun_work_thunk at /buildworker/worker/package_linux64/build/usr/share/julia/stdlib/v1.0/Distributed/src/process_messages.jl:56\nrun_work_thunk at /buildworker/worker/package_linux64/build/usr/share/julia/stdlib/v1.0/Distributed/src/process_messages.jl:65\n#102 at ./task.jl:259\nin expression starting at In[37]:12\n#remotecall_wait#154(::Base.Iterators.Pairs{Union{},Union{},Tuple{},NamedTuple{(),Tuple{}}}, ::Function, ::Function, ::Distributed.Worker, ::Module, ::Vararg{Any,N} where N) at /buildworker/worker/package_linux64/build/usr/share/julia/stdlib/v1.0/Distributed/src/remotecall.jl:421\nremotecall_wait(::Function, ::Distributed.Worker, ::Module, ::Vararg{Any,N} where N) at /buildworker/worker/package_linux64/build/usr/share/julia/stdlib/v1.0/Distributed/src/remotecall.jl:412\n#remotecall_wait#157(::Base.Iterators.Pairs{Union{},Union{},Tuple{},NamedTuple{(),Tuple{}}}, ::Function, ::Function, ::Int64, ::Module, ::Vararg{Any,N} where N) at /buildworker/worker/package_linux64/build/usr/share/julia/stdlib/v1.0/Distributed/src/remotecall.jl:433\nremotecall_wait(::Function, ::Int64, ::Module, ::Vararg{Any,N} where N) at /buildworker/worker/package_linux64/build/usr/share/julia/stdlib/v1.0/Distributed/src/remotecall.jl:433\n(::getfield(Distributed, Symbol(\"##163#165\")){Module,Expr})() at ./task.jl:259\n\n...and 19 more exception(s).\n",
     "output_type": "error",
     "traceback": [
      "On worker 2:\nLoadError: UndefVarError: JuMP not defined\ntop-level scope\neval at ./boot.jl:319\n#116 at /buildworker/worker/package_linux64/build/usr/share/julia/stdlib/v1.0/Distributed/src/process_messages.jl:276\nrun_work_thunk at /buildworker/worker/package_linux64/build/usr/share/julia/stdlib/v1.0/Distributed/src/process_messages.jl:56\nrun_work_thunk at /buildworker/worker/package_linux64/build/usr/share/julia/stdlib/v1.0/Distributed/src/process_messages.jl:65\n#102 at ./task.jl:259\nin expression starting at In[37]:12\n#remotecall_wait#154(::Base.Iterators.Pairs{Union{},Union{},Tuple{},NamedTuple{(),Tuple{}}}, ::Function, ::Function, ::Distributed.Worker, ::Module, ::Vararg{Any,N} where N) at /buildworker/worker/package_linux64/build/usr/share/julia/stdlib/v1.0/Distributed/src/remotecall.jl:421\nremotecall_wait(::Function, ::Distributed.Worker, ::Module, ::Vararg{Any,N} where N) at /buildworker/worker/package_linux64/build/usr/share/julia/stdlib/v1.0/Distributed/src/remotecall.jl:412\n#remotecall_wait#157(::Base.Iterators.Pairs{Union{},Union{},Tuple{},NamedTuple{(),Tuple{}}}, ::Function, ::Function, ::Int64, ::Module, ::Vararg{Any,N} where N) at /buildworker/worker/package_linux64/build/usr/share/julia/stdlib/v1.0/Distributed/src/remotecall.jl:433\nremotecall_wait(::Function, ::Int64, ::Module, ::Vararg{Any,N} where N) at /buildworker/worker/package_linux64/build/usr/share/julia/stdlib/v1.0/Distributed/src/remotecall.jl:433\n(::getfield(Distributed, Symbol(\"##163#165\")){Module,Expr})() at ./task.jl:259\n\n...and 19 more exception(s).\n",
      "",
      "Stacktrace:",
      " [1] sync_end(::Array{Any,1}) at ./task.jl:226",
      " [2] remotecall_eval(::Module, ::Array{Int64,1}, ::Expr) at /buildworker/worker/package_linux64/build/usr/share/julia/stdlib/v1.0/Distributed/src/macros.jl:207",
      " [3] top-level scope at /buildworker/worker/package_linux64/build/usr/share/julia/stdlib/v1.0/Distributed/src/macros.jl:190",
      " [4] top-level scope at In[37]:1"
     ]
    }
   ],
   "source": [
    "@everywhere function fx_arbitrage(eurusd, eurgbp, eurjpy, gbpusd, gbpjpy, usdjpy)\n",
    "\n",
    "    usdeur = 1.0/eurusd\n",
    "    usdgbp = 1.0/gbpusd\n",
    "    gbpeur = 1.0/eurgbp\n",
    "    jpyusd = 1.0/usdjpy\n",
    "    jpyeur = 1.0/eurjpy\n",
    "    jpygbp = 1.0/gbpjpy\n",
    "\n",
    "    m = JuMP.Model(solver = GLPKMathProgInterface.GLPKSolverLP(msg_lev = GLPK.MSG_ERR))\n",
    "\n",
    "    JuMP.@variables m begin\n",
    "        de; dp; dy; ed; ep; ey; pd; pe; py; yd; ye; yp; profit\n",
    "    end\n",
    "\n",
    "    JuMP.@objective(m, Max, profit)\n",
    "\n",
    "    JuMP.@constraints(m, begin\n",
    "        0 <= de <= 100\n",
    "        0 <= dp <= 100\n",
    "        0 <= dy <= 100\n",
    "        0 <= ed <= 100\n",
    "        0 <= ep <= 100\n",
    "        0 <= ey <= 100\n",
    "        0 <= pd <= 100\n",
    "        0 <= pe <= 100\n",
    "        0 <= py <= 100\n",
    "        0 <= yd <= 100\n",
    "        0 <= ye <= 100\n",
    "        0 <= yp <= 100\n",
    "        de + dp + dy - eurusd*ed - gbpusd*pd - jpyusd*yd == profit\n",
    "        ed + ep + ey - usdeur*de - gbpeur*pe - jpyeur*ye == 0.0\n",
    "        pd + pe + py - usdgbp*dp - eurgbp*ep - jpygbp*yp == 0.0\n",
    "        yd + ye + yp - usdjpy*dy - eurjpy*ey - gbpjpy*py == 0.0\n",
    "    end)\n",
    "\n",
    "    JuMP.solve(m)\n",
    "\n",
    "    JuMP.getvalue(profit)\n",
    "end"
   ]
  },
  {
   "cell_type": "markdown",
   "metadata": {},
   "source": [
    "We can take out columns from a Distributed table, and the column itself will be a distributed array."
   ]
  },
  {
   "cell_type": "code",
   "execution_count": 38,
   "metadata": {},
   "outputs": [
    {
     "data": {
      "text/plain": [
       "Dagger.DArray{Float32,1,typeof(JuliaDB.dvcat)}(1096697,)"
      ]
     },
     "execution_count": 38,
     "metadata": {},
     "output_type": "execute_result"
    }
   ],
   "source": [
    "getbids(t) = values(t, :bid)\n",
    "bidscol = getbids(fiveminute_data)"
   ]
  },
  {
   "cell_type": "code",
   "execution_count": 39,
   "metadata": {},
   "outputs": [
    {
     "data": {
      "text/plain": [
       "80"
      ]
     },
     "execution_count": 39,
     "metadata": {},
     "output_type": "execute_result"
    }
   ],
   "source": [
    "length(chunks(bidscol)) # same number of chunks as the data! Again this is a lazy view."
   ]
  },
  {
   "cell_type": "code",
   "execution_count": 40,
   "metadata": {},
   "outputs": [
    {
     "name": "stdout",
     "output_type": "stream",
     "text": [
      "  0.604916 seconds (904.10 k allocations: 46.732 MiB, 3.82% gc time)\n"
     ]
    },
    {
     "data": {
      "text/plain": [
       "4.817453f7"
      ]
     },
     "execution_count": 40,
     "metadata": {},
     "output_type": "execute_result"
    }
   ],
   "source": [
    "@time sum(bidscol) # just for kicks"
   ]
  },
  {
   "cell_type": "code",
   "execution_count": 41,
   "metadata": {},
   "outputs": [
    {
     "data": {
      "text/plain": [
       "6191-element Array{Float64,1}:\n",
       " 0.0007537094654708199\n",
       " 0.0023719235812080797\n",
       " 0.014636902877654734 \n",
       " 0.04926458678171741  \n",
       " 0.01244578481502856  \n",
       " 0.009105181805722395 \n",
       " 0.04343290322292148  \n",
       " 0.021099234984802706 \n",
       " 0.011945250517257477 \n",
       " 0.04280524992142887  \n",
       " 0.006251190819199337 \n",
       " 0.021894287231361886 \n",
       " 0.04245281987874705  \n",
       " ⋮                    \n",
       " 0.060281640386619983 \n",
       " 0.014038058649191498 \n",
       " 0.052395721417852315 \n",
       " 0.01694989428276017  \n",
       " 0.008551653148231253 \n",
       " 0.034352540687393684 \n",
       " 0.010181195398686782 \n",
       " 0.022109103059761992 \n",
       " 0.008401083373911433 \n",
       " 0.11072383688284049  \n",
       " 0.02369899521799823  \n",
       " 0.046274358646059    "
      ]
     },
     "execution_count": 41,
     "metadata": {},
     "output_type": "execute_result"
    }
   ],
   "source": [
    "t_5m  = DateTime(2016,6,1):Dates.Minute(5):DateTime(2016,7,1)\n",
    "\n",
    "# Arbitrage example\n",
    "inds = keys(fiveminute_data[\"EUR/USD\",t_5m], :timestamp) |> collect\n",
    "eurusd = fiveminute_data[\"EUR/USD\",t_5m] |> getbids\n",
    "eurgbp = fiveminute_data[\"EUR/GBP\",t_5m] |> getbids\n",
    "eurjpy = fiveminute_data[\"EUR/JPY\",t_5m] |> getbids\n",
    "gbpusd = fiveminute_data[\"GBP/USD\",t_5m] |> getbids\n",
    "gbpjpy = fiveminute_data[\"GBP/JPY\",t_5m] |> getbids\n",
    "usdjpy = fiveminute_data[\"USD/JPY\",t_5m] |> getbids\n",
    "\n",
    "arbitrage_profit = map(fx_arbitrage, map(collect, (eurusd, eurgbp, eurjpy, gbpusd, gbpjpy, usdjpy))...)"
   ]
  },
  {
   "cell_type": "code",
   "execution_count": 42,
   "metadata": {},
   "outputs": [
    {
     "data": {
      "image/svg+xml": [
       "<?xml version=\"1.0\" encoding=\"utf-8\"?>\n",
       "<svg xmlns=\"http://www.w3.org/2000/svg\" xmlns:xlink=\"http://www.w3.org/1999/xlink\" width=\"600\" height=\"400\" viewBox=\"0 0 2400 1600\">\n",
       "<defs>\n",
       "  <clipPath id=\"clip0100\">\n",
       "    <rect x=\"0\" y=\"0\" width=\"2000\" height=\"2000\"/>\n",
       "  </clipPath>\n",
       "</defs>\n",
       "<defs>\n",
       "  <clipPath id=\"clip0101\">\n",
       "    <rect x=\"0\" y=\"0\" width=\"2400\" height=\"1600\"/>\n",
       "  </clipPath>\n",
       "</defs>\n",
       "<polygon clip-path=\"url(#clip0101)\" points=\"\n",
       "0,1600 2400,1600 2400,0 0,0 \n",
       "  \" fill=\"#ffffff\" fill-opacity=\"1\"/>\n",
       "<defs>\n",
       "  <clipPath id=\"clip0102\">\n",
       "    <rect x=\"480\" y=\"0\" width=\"1681\" height=\"1600\"/>\n",
       "  </clipPath>\n",
       "</defs>\n",
       "<polygon clip-path=\"url(#clip0101)\" points=\"\n",
       "121.251,1503.47 2321.26,1503.47 2321.26,47.2441 121.251,47.2441 \n",
       "  \" fill=\"#ffffff\" fill-opacity=\"1\"/>\n",
       "<defs>\n",
       "  <clipPath id=\"clip0103\">\n",
       "    <rect x=\"121\" y=\"47\" width=\"2201\" height=\"1457\"/>\n",
       "  </clipPath>\n",
       "</defs>\n",
       "<polyline clip-path=\"url(#clip0103)\" style=\"stroke:#000000; stroke-width:2; stroke-opacity:0.1; fill:none\" points=\"\n",
       "  183.515,1503.47 183.515,47.2441 \n",
       "  \"/>\n",
       "<polyline clip-path=\"url(#clip0103)\" style=\"stroke:#000000; stroke-width:2; stroke-opacity:0.1; fill:none\" points=\"\n",
       "  736.976,1503.47 736.976,47.2441 \n",
       "  \"/>\n",
       "<polyline clip-path=\"url(#clip0103)\" style=\"stroke:#000000; stroke-width:2; stroke-opacity:0.1; fill:none\" points=\"\n",
       "  1290.44,1503.47 1290.44,47.2441 \n",
       "  \"/>\n",
       "<polyline clip-path=\"url(#clip0103)\" style=\"stroke:#000000; stroke-width:2; stroke-opacity:0.1; fill:none\" points=\"\n",
       "  1843.9,1503.47 1843.9,47.2441 \n",
       "  \"/>\n",
       "<polyline clip-path=\"url(#clip0103)\" style=\"stroke:#000000; stroke-width:2; stroke-opacity:0.1; fill:none\" points=\"\n",
       "  121.251,1462.3 2321.26,1462.3 \n",
       "  \"/>\n",
       "<polyline clip-path=\"url(#clip0103)\" style=\"stroke:#000000; stroke-width:2; stroke-opacity:0.1; fill:none\" points=\"\n",
       "  121.251,1039.21 2321.26,1039.21 \n",
       "  \"/>\n",
       "<polyline clip-path=\"url(#clip0103)\" style=\"stroke:#000000; stroke-width:2; stroke-opacity:0.1; fill:none\" points=\"\n",
       "  121.251,616.115 2321.26,616.115 \n",
       "  \"/>\n",
       "<polyline clip-path=\"url(#clip0103)\" style=\"stroke:#000000; stroke-width:2; stroke-opacity:0.1; fill:none\" points=\"\n",
       "  121.251,193.023 2321.26,193.023 \n",
       "  \"/>\n",
       "<polyline clip-path=\"url(#clip0101)\" style=\"stroke:#000000; stroke-width:4; stroke-opacity:1; fill:none\" points=\"\n",
       "  121.251,1503.47 2321.26,1503.47 \n",
       "  \"/>\n",
       "<polyline clip-path=\"url(#clip0101)\" style=\"stroke:#000000; stroke-width:4; stroke-opacity:1; fill:none\" points=\"\n",
       "  121.251,1503.47 121.251,47.2441 \n",
       "  \"/>\n",
       "<polyline clip-path=\"url(#clip0101)\" style=\"stroke:#000000; stroke-width:4; stroke-opacity:1; fill:none\" points=\"\n",
       "  183.515,1503.47 183.515,1481.63 \n",
       "  \"/>\n",
       "<polyline clip-path=\"url(#clip0101)\" style=\"stroke:#000000; stroke-width:4; stroke-opacity:1; fill:none\" points=\"\n",
       "  736.976,1503.47 736.976,1481.63 \n",
       "  \"/>\n",
       "<polyline clip-path=\"url(#clip0101)\" style=\"stroke:#000000; stroke-width:4; stroke-opacity:1; fill:none\" points=\"\n",
       "  1290.44,1503.47 1290.44,1481.63 \n",
       "  \"/>\n",
       "<polyline clip-path=\"url(#clip0101)\" style=\"stroke:#000000; stroke-width:4; stroke-opacity:1; fill:none\" points=\"\n",
       "  1843.9,1503.47 1843.9,1481.63 \n",
       "  \"/>\n",
       "<polyline clip-path=\"url(#clip0101)\" style=\"stroke:#000000; stroke-width:4; stroke-opacity:1; fill:none\" points=\"\n",
       "  121.251,1462.3 154.251,1462.3 \n",
       "  \"/>\n",
       "<polyline clip-path=\"url(#clip0101)\" style=\"stroke:#000000; stroke-width:4; stroke-opacity:1; fill:none\" points=\"\n",
       "  121.251,1039.21 154.251,1039.21 \n",
       "  \"/>\n",
       "<polyline clip-path=\"url(#clip0101)\" style=\"stroke:#000000; stroke-width:4; stroke-opacity:1; fill:none\" points=\"\n",
       "  121.251,616.115 154.251,616.115 \n",
       "  \"/>\n",
       "<polyline clip-path=\"url(#clip0101)\" style=\"stroke:#000000; stroke-width:4; stroke-opacity:1; fill:none\" points=\"\n",
       "  121.251,193.023 154.251,193.023 \n",
       "  \"/>\n",
       "<g clip-path=\"url(#clip0101)\">\n",
       "<text style=\"fill:#000000; fill-opacity:1; font-family:Arial,Helvetica Neue,Helvetica,sans-serif; font-size:48px; text-anchor:middle;\" transform=\"rotate(0, 183.515, 1557.47)\" x=\"183.515\" y=\"1557.47\">2016-06-01</text>\n",
       "</g>\n",
       "<g clip-path=\"url(#clip0101)\">\n",
       "<text style=\"fill:#000000; fill-opacity:1; font-family:Arial,Helvetica Neue,Helvetica,sans-serif; font-size:48px; text-anchor:middle;\" transform=\"rotate(0, 736.976, 1557.47)\" x=\"736.976\" y=\"1557.47\">2016-06-09</text>\n",
       "</g>\n",
       "<g clip-path=\"url(#clip0101)\">\n",
       "<text style=\"fill:#000000; fill-opacity:1; font-family:Arial,Helvetica Neue,Helvetica,sans-serif; font-size:48px; text-anchor:middle;\" transform=\"rotate(0, 1290.44, 1557.47)\" x=\"1290.44\" y=\"1557.47\">2016-06-17</text>\n",
       "</g>\n",
       "<g clip-path=\"url(#clip0101)\">\n",
       "<text style=\"fill:#000000; fill-opacity:1; font-family:Arial,Helvetica Neue,Helvetica,sans-serif; font-size:48px; text-anchor:middle;\" transform=\"rotate(0, 1843.9, 1557.47)\" x=\"1843.9\" y=\"1557.47\">2016-06-25</text>\n",
       "</g>\n",
       "<g clip-path=\"url(#clip0101)\">\n",
       "<text style=\"fill:#000000; fill-opacity:1; font-family:Arial,Helvetica Neue,Helvetica,sans-serif; font-size:48px; text-anchor:end;\" transform=\"rotate(0, 97.2505, 1479.8)\" x=\"97.2505\" y=\"1479.8\">0</text>\n",
       "</g>\n",
       "<g clip-path=\"url(#clip0101)\">\n",
       "<text style=\"fill:#000000; fill-opacity:1; font-family:Arial,Helvetica Neue,Helvetica,sans-serif; font-size:48px; text-anchor:end;\" transform=\"rotate(0, 97.2505, 1056.71)\" x=\"97.2505\" y=\"1056.71\">1</text>\n",
       "</g>\n",
       "<g clip-path=\"url(#clip0101)\">\n",
       "<text style=\"fill:#000000; fill-opacity:1; font-family:Arial,Helvetica Neue,Helvetica,sans-serif; font-size:48px; text-anchor:end;\" transform=\"rotate(0, 97.2505, 633.615)\" x=\"97.2505\" y=\"633.615\">2</text>\n",
       "</g>\n",
       "<g clip-path=\"url(#clip0101)\">\n",
       "<text style=\"fill:#000000; fill-opacity:1; font-family:Arial,Helvetica Neue,Helvetica,sans-serif; font-size:48px; text-anchor:end;\" transform=\"rotate(0, 97.2505, 210.523)\" x=\"97.2505\" y=\"210.523\">3</text>\n",
       "</g>\n",
       "<polyline clip-path=\"url(#clip0103)\" style=\"stroke:#009af9; stroke-width:4; stroke-opacity:1; fill:none\" points=\"\n",
       "  183.515,1461.98 183.755,1461.3 183.995,1456.11 184.236,1441.46 184.476,1457.04 184.716,1458.45 184.956,1443.92 185.196,1453.37 185.437,1457.25 185.677,1444.19 \n",
       "  185.917,1459.66 186.157,1453.04 186.398,1444.34 186.638,1455.26 186.878,1458.07 187.118,1454.21 187.358,1445.01 187.599,1456.39 187.839,1421.98 188.079,1441.04 \n",
       "  188.319,1455.06 188.56,1459.73 188.8,1446.08 189.04,1461.03 189.28,1461.2 189.52,1459 189.761,1459.36 190.001,1448.64 190.241,1454.84 190.481,1456.29 \n",
       "  190.721,1449.98 190.962,1461.23 191.202,1461.74 191.442,1455.05 191.682,1460.84 191.923,1460.33 192.163,1461.09 192.403,1456.41 192.643,1453.13 192.883,1462.18 \n",
       "  193.124,1456.69 193.364,1460.68 193.604,1459.48 193.844,1460.32 194.085,1453.71 194.325,1461.54 194.565,1460.06 194.805,1462.06 195.045,1459.1 195.286,1459.9 \n",
       "  195.526,1460.27 195.766,1461.57 196.006,1461.18 196.246,1459.34 196.487,1460.09 196.727,1457.16 196.967,1461.33 197.207,1451.07 197.448,1460.76 197.688,1457.56 \n",
       "  197.928,1456.21 198.168,1444.2 198.408,1455.39 198.649,1453.94 198.889,1456.33 199.129,1451.96 199.369,1443.72 199.61,1450.03 199.85,1451.71 200.09,1459.45 \n",
       "  200.33,1457.81 200.57,1441.75 200.811,1447.14 201.051,1448.99 201.291,1454.16 201.531,1452.88 201.771,1435.28 202.012,1451.72 202.252,1444.69 202.492,1419.01 \n",
       "  202.732,1430.55 202.973,1411.74 203.213,1450.67 203.453,1426.52 203.693,1438.76 203.933,1436.14 204.174,1417.28 204.414,1427.45 204.654,1447.08 204.894,1453.37 \n",
       "  205.135,1449.57 205.375,1437.64 205.615,1413.45 205.855,1454.44 206.095,1454.23 206.336,1433.47 206.576,1447 206.816,1421.27 207.056,1439.3 207.296,1452.75 \n",
       "  207.537,1388.98 207.777,1450.16 208.017,1414.01 208.257,1439.17 208.498,1401.04 208.738,1447.98 208.978,1441.99 209.218,1439.5 209.458,1408.59 209.699,1428.87 \n",
       "  209.939,1426.9 210.179,1435.51 210.419,1426.02 210.66,1421.43 210.9,1446.83 211.14,1448.32 211.38,1449.73 211.62,1442.19 211.861,1452.15 212.101,1445.74 \n",
       "  212.341,1441.23 212.581,1437.9 212.821,1439.58 213.062,1443.73 213.302,1457.7 213.542,1436.43 213.782,1452.18 214.023,1451.62 214.263,1428.14 214.503,1436.85 \n",
       "  214.743,1448.78 214.983,1453.76 215.224,1456.16 215.464,1440.45 215.704,1451.38 215.944,1439.23 216.185,1449.72 216.425,1451.35 216.665,1454.87 216.905,1443.02 \n",
       "  217.145,1452.94 217.386,1441.66 217.626,1443.45 217.866,1453.51 218.106,1452 218.347,1453.27 218.587,1454.05 218.827,1448.21 219.067,1433.84 219.307,1439.36 \n",
       "  219.548,1437.69 219.788,1449.26 220.028,1454.71 220.268,1437.12 220.508,1439.37 220.749,1442.92 220.989,1449.75 221.229,1439.98 221.469,1454.48 221.71,1456.34 \n",
       "  221.95,1452.9 222.19,1449.72 222.43,1451.74 222.67,1452.22 222.911,1452.69 223.151,1449.42 223.391,1443.91 223.631,1445.07 223.872,1459.12 224.112,1432.73 \n",
       "  224.352,1452.3 224.592,1441.68 224.832,1443.96 225.073,1445.26 225.313,1449.38 225.553,1452.51 225.793,1455.1 226.033,1448.21 226.274,1445.09 226.514,1441.7 \n",
       "  226.754,1453.73 226.994,1452.39 227.235,1452.46 227.475,1448.28 227.715,1449.22 227.955,1450.18 228.195,1452.73 228.436,1442.69 228.676,1449.09 228.916,1456.92 \n",
       "  229.156,1439.57 229.397,1450.71 229.637,1459.93 229.877,1447.25 230.117,1443.37 230.357,1456.41 230.598,1447.08 230.838,1449.73 231.078,1459.83 231.318,1459.95 \n",
       "  231.558,1459.76 231.799,1454.71 232.039,1460.9 232.279,1428.68 232.519,1444.66 232.76,1459.08 233,1461.61 233.24,1460.44 233.48,1446.19 233.72,1459.68 \n",
       "  233.961,1449.34 234.201,1461.88 234.441,1455.45 234.681,1458.78 234.922,1456.63 235.162,1450.96 235.402,1461.5 235.642,1460.77 235.882,1462.14 236.123,1456.42 \n",
       "  236.363,1456.69 236.603,1453.2 236.843,1457.54 237.083,1461.46 237.324,1442.87 237.564,1457.71 237.804,1456.94 238.044,1458.42 238.285,1458.34 238.525,1461.25 \n",
       "  238.765,1459.32 239.005,1460.81 239.245,1461.32 239.486,1461.56 239.726,1459.85 239.966,1458.08 240.206,1455.14 240.447,1458.03 240.687,1456.96 241.407,1460.61 \n",
       "  241.648,1461.59 241.888,1453.59 242.128,1461.15 242.368,1459.78 242.608,1460.55 242.849,1457.46 243.089,1461.26 243.329,1458.39 243.569,1460.69 243.81,1453.21 \n",
       "  244.05,1453.61 244.29,1455.13 244.53,1453.8 244.77,1454.23 245.011,1460.31 245.251,1454.57 245.491,1448.29 245.731,1461.28 245.972,1454.12 246.212,1452.43 \n",
       "  246.452,1451.38 246.692,1458.44 246.932,1459.71 247.173,1459.56 247.413,1458.38 247.653,1460.64 247.893,1441.09 248.133,1459.04 248.374,1462.15 248.614,1453.46 \n",
       "  248.854,1459.88 249.094,1451.08 249.335,1457.19 249.575,1460.3 249.815,1456.45 250.055,1460.88 250.295,1461.93 250.536,1461.17 250.776,1460.82 251.016,1460.88 \n",
       "  251.256,1460.36 251.497,1461.02 251.737,1458.46 251.977,1461.43 252.217,1461.36 252.457,1460.11 252.698,1459.44 252.938,1449.11 253.178,1460.71 253.418,1459.33 \n",
       "  253.658,1461.77 253.899,1458.99 254.139,1461.6 254.379,1456.8 254.619,1459.29 254.86,1461.38 255.1,1441.4 255.34,1456.5 255.58,1460.68 255.82,1455.92 \n",
       "  256.061,1453.99 256.301,1458.69 256.541,1460.01 256.781,1461.52 257.022,1455.53 257.262,1457.28 257.502,1461.3 257.742,1455.33 257.982,1458.69 258.223,1457.7 \n",
       "  258.463,1460.15 258.703,1447.55 258.943,1457.8 259.184,1461.35 259.424,1460.94 259.664,1461.14 259.904,1454.29 260.144,1457.26 260.385,1460.03 260.625,1461.41 \n",
       "  260.865,1449.44 261.105,1455.5 261.345,1452.63 261.586,1457.93 261.826,1461.81 262.066,1461.9 262.306,1461.4 262.547,1460.91 262.787,1461.14 263.027,1456.94 \n",
       "  263.267,1461.48 263.507,1461.52 263.748,1461.47 263.988,1461.43 264.228,1457.2 264.468,1459.78 264.709,1461.63 264.949,1461.72 265.189,1461.14 265.429,1459.76 \n",
       "  265.669,1455.18 265.91,1441 266.15,1460.65 266.39,1458.3 266.63,1459.71 266.87,1459.08 267.111,1457.85 267.351,1458.49 267.591,1460.81 267.831,1462 \n",
       "  268.072,1461.48 268.312,1459.34 268.552,1461.07 268.792,1461.46 269.032,1459.92 269.273,1445.47 269.513,1460.5 269.753,1459.44 269.993,1450.53 270.234,1455.2 \n",
       "  270.474,1457.94 270.714,1450.7 270.954,1455.5 271.194,1456.31 271.435,1452.99 271.675,1433.67 271.915,1454.5 272.155,1429.39 272.395,1451.07 272.636,1454.61 \n",
       "  272.876,1457.4 273.116,1442.23 273.356,1449.7 273.597,1448.16 273.837,1437.14 274.077,1419.07 274.317,1426.42 274.557,1446.37 274.798,1429.81 275.038,1445.48 \n",
       "  275.278,1449.82 275.518,1440.88 275.759,1443.64 275.999,1448.71 276.239,1449.42 276.479,1453.61 276.719,1454.88 276.96,1436.63 277.2,1403.49 277.44,1413.83 \n",
       "  277.68,1418.9 277.92,1449.71 278.161,1430.97 278.401,1451.51 278.641,1439.22 278.881,1448.21 279.122,1452.8 279.362,1454.83 279.602,1453.28 279.842,1440.98 \n",
       "  280.082,1454.7 280.323,1448.93 280.563,1459.98 280.803,1457.52 281.043,1454.49 281.284,1459.64 281.524,1425.98 281.764,1447.12 282.004,1452.08 282.244,1460.93 \n",
       "  282.485,1443.33 282.725,1445.34 282.965,1444.81 283.205,1441.73 283.445,1452.88 283.686,1442.7 283.926,1457.22 284.166,1451.4 284.406,1445.16 284.647,1443.73 \n",
       "  284.887,1442.8 285.127,1455.91 285.367,1416.26 285.607,1445.2 285.848,1452.99 286.088,1449.95 286.328,1454.22 286.568,1456.28 286.809,1455.49 287.049,1436.1 \n",
       "  287.289,1444.47 287.529,1423.85 287.769,1446.69 288.01,1440.62 288.25,1436 288.49,1457.54 288.73,1448.18 288.97,1458.33 289.211,1460.98 289.451,1461.5 \n",
       "  289.691,1452.41 289.931,1460.31 290.172,1442.75 290.412,1457.07 290.652,1424.92 290.892,1455.28 291.132,1461.8 291.373,1452.79 291.613,1429.4 291.853,1455 \n",
       "  292.093,1443.29 292.334,1455.59 292.574,1456.04 292.814,1425.72 293.054,1445.36 293.294,1441.16 293.535,1442.65 293.775,1451 294.015,1456.49 294.255,1460.19 \n",
       "  294.495,1444.18 294.736,1450.46 294.976,1446.92 295.216,1456.09 295.456,1454.57 295.697,1432.16 295.937,1445.51 296.177,1458.95 296.417,1441.95 296.657,1450.35 \n",
       "  296.898,1448.82 297.138,1457.66 297.378,1446.34 297.618,1447.97 297.859,1440.1 298.099,1440.75 298.339,1451.36 298.579,1453.45 298.819,1460.42 299.06,1458.88 \n",
       "  299.3,1457.31 299.54,1460.53 299.78,1457.14 300.021,1450.14 300.261,1454.06 300.501,1458.94 300.741,1459.18 300.981,1460.89 301.222,1458.01 301.462,1440.4 \n",
       "  301.702,1450.45 301.942,1456.79 302.182,1460.85 302.423,1450.61 302.663,1455.72 302.903,1441.95 303.143,1456.52 303.384,1461.12 303.624,1459.65 303.864,1459.66 \n",
       "  304.104,1459 304.344,1459.88 304.585,1458.34 304.825,1455.36 305.065,1457.53 305.305,1461.85 305.546,1460.93 305.786,1460.46 306.026,1461.01 306.266,1462.11 \n",
       "  306.506,1460.27 306.747,1458.72 306.987,1460.93 307.227,1462.1 307.467,1445.68 307.707,1457.58 307.948,1456.92 308.188,1455.53 308.428,1460.32 308.668,1460.51 \n",
       "  308.909,1462.04 309.149,1459.24 309.389,1454.3 309.629,1460.52 309.869,1460.81 310.11,1459.7 310.35,1460.76 310.59,1459.7 310.83,1458.44 311.071,1459.15 \n",
       "  311.311,1460.96 311.551,1456.49 311.791,1453.34 312.031,1456.17 312.272,1459.32 312.512,1458.75 312.752,1462.09 312.992,1460.05 313.232,1439.44 313.473,1458.67 \n",
       "  313.713,1458.48 313.953,1461.5 314.193,1461.59 314.434,1448.86 314.674,1459.68 314.914,1454.41 315.154,1450.64 315.394,1451.02 315.635,1450.05 315.875,1455.68 \n",
       "  316.115,1462.01 316.355,1461.29 316.596,1460.27 316.836,1459.36 317.076,1461.72 317.316,1460.69 317.556,1453.24 317.797,1455.07 318.037,1461.32 318.277,1460.91 \n",
       "  318.517,1460.1 318.757,1455.36 318.998,1460.82 319.238,1460.6 319.478,1461.86 319.718,1457.94 319.959,1455.63 320.199,1446.67 320.439,1460.57 320.679,1459.75 \n",
       "  320.919,1459.91 321.16,1456.12 321.4,1455.57 321.64,1456.72 321.88,1447.69 322.121,1461.13 322.361,1460.04 322.601,1458.54 322.841,1460.93 323.081,1457.61 \n",
       "  323.322,1459.68 323.562,1460.11 323.802,1454.4 324.042,1454.96 324.282,1453.34 324.523,1457.58 324.763,1460.47 325.003,1460.6 325.243,1461.31 325.484,1460.56 \n",
       "  325.724,1460.65 325.964,1458.34 326.204,1457.21 326.444,1445.88 326.685,1461.15 326.925,1453.68 327.165,1454.17 327.405,1461.97 327.646,1458.21 327.886,1459.84 \n",
       "  328.126,1460.86 328.366,1459.23 328.606,1461.73 328.847,1459.34 329.087,1459.22 329.327,1452.74 329.567,1461.78 329.807,1448.74 330.048,1461.37 330.288,1461.47 \n",
       "  330.528,1460.95 330.768,1461.42 331.009,1449 331.249,1449.47 331.489,1456.34 331.729,1457.57 331.969,1461.44 332.21,1459.89 332.45,1461.32 332.69,1457.21 \n",
       "  332.93,1460.78 333.171,1453.46 333.411,1457.35 333.651,1460.89 333.891,1460.61 334.131,1459.45 334.372,1461.2 334.612,1459.49 334.852,1454.89 335.092,1453.15 \n",
       "  335.332,1459.85 335.573,1449.85 335.813,1461.96 336.053,1441.72 336.293,1459.74 336.534,1461.89 336.774,1461.28 337.014,1461.47 337.254,1459.43 337.494,1456.29 \n",
       "  337.735,1461.63 337.975,1456.19 338.215,1461.34 338.455,1458.52 338.696,1456 338.936,1455.26 339.176,1455.59 339.416,1438.56 339.656,1454.37 339.897,1453.51 \n",
       "  340.137,1453.35 340.377,1452.05 340.617,1451.57 340.858,1448.09 341.098,1448.43 341.338,1454.82 341.578,1449.83 341.818,1451.45 342.059,1440.39 342.299,1438.44 \n",
       "  342.539,1445.32 342.779,1450.13 343.019,1400.86 343.26,1435.68 343.5,1414.13 343.74,1436.61 343.98,1457.17 344.221,1435.17 344.461,1451.95 344.701,1444.75 \n",
       "  344.941,1445.77 345.181,1452.63 345.422,1448.12 345.662,1441.59 345.902,1453 346.142,1430.43 346.383,1439.55 346.623,1433.44 346.863,1427.96 347.103,1448.5 \n",
       "  347.343,1457.37 347.584,1451.85 347.824,1445.91 348.064,1455.86 348.304,1448.41 348.544,1454.84 348.785,1448.57 349.025,1453.55 349.265,1450.28 349.505,1453.24 \n",
       "  349.746,1424.18 349.986,1431.77 350.226,1452.9 350.466,1457.89 350.706,1442.47 350.947,1449.21 351.187,1452.55 351.427,1456.53 351.667,1450.39 351.908,1452.66 \n",
       "  352.148,1450.61 352.388,1454.07 352.628,1456.48 352.868,1453.88 353.109,1453.19 353.349,1447.81 353.589,1453.1 353.829,1447.21 354.069,1420.48 354.31,1455.34 \n",
       "  354.55,1455.16 354.79,1450.69 355.03,1462.1 355.271,1443.06 355.511,1457.33 355.751,1456.88 355.991,1458.76 356.231,1452.01 356.472,1451.4 356.712,1453.17 \n",
       "  356.952,1442.76 357.192,1453 357.433,1448.9 357.673,1455 357.913,1440.76 358.153,1431.62 358.393,1461.4 358.634,1449.4 358.874,1422.16 359.114,1418.1 \n",
       "  359.354,1456.53 359.594,1460.54 359.835,1397.59 360.075,1444.43 360.315,1437.97 360.555,1446.3 360.796,1435.49 361.036,1438.99 361.276,1454.12 361.516,1448.12 \n",
       "  361.756,1441.89 361.997,1452.74 362.237,1429.71 362.477,1454.06 362.717,1426.51 362.958,1460.41 363.198,1431.52 363.438,1431.52 363.678,1453.36 363.918,1428.13 \n",
       "  364.159,1447.18 364.399,1460.96 364.639,1448.3 364.879,1451.44 365.119,1456.76 365.36,1460.44 365.6,1443.81 365.84,1456.44 366.08,1452.89 366.321,1456.36 \n",
       "  366.561,1452.57 366.801,1461.86 367.041,1461.9 367.281,1460.83 367.522,1446.62 367.762,1460.27 368.002,1457.13 368.242,1443.83 368.483,1451.39 368.723,1458.02 \n",
       "  368.963,1455.35 369.203,1461.19 369.443,1443.39 369.684,1452 369.924,1458.18 370.164,1458.11 370.404,1461.84 370.644,1460.67 370.885,1459.53 371.125,1458.59 \n",
       "  371.365,1460.79 371.605,1461.88 371.846,1460.38 372.086,1459.83 372.326,1461.33 372.566,1460.83 372.806,1459.82 373.047,1457.52 373.287,1459.92 373.527,1462.22 \n",
       "  373.767,1460.49 374.008,1441.28 374.248,1459.11 374.488,1455.09 374.728,1460.84 374.968,1459.74 375.209,1460.78 375.449,1439.3 375.689,1447.91 375.929,1460.91 \n",
       "  376.169,1461.81 376.41,1456.09 376.65,1460.65 376.89,1460.63 377.13,1457.24 377.371,1460.25 377.611,1461.91 377.851,1459.29 378.091,1441.53 378.331,1459.75 \n",
       "  378.572,1456.82 378.812,1460.17 379.052,1460.95 379.292,1456.8 379.533,1456.31 379.773,1459.6 380.013,1457.67 380.253,1460.11 380.493,1461.77 380.734,1442.2 \n",
       "  380.974,1457.5 381.214,1461.72 381.454,1456.67 381.695,1438.68 381.935,1444.37 382.175,1451.01 529.428,1409.82 529.669,1444.81 529.909,1421.21 530.149,1440.64 \n",
       "  530.389,1454.18 530.629,1442.5 530.87,1435.77 531.11,1443.59 531.35,1446.17 531.59,1444.39 531.831,1450.14 532.071,1442.03 532.311,1455.18 532.551,1450.46 \n",
       "  532.791,1461 533.032,1460.23 533.272,1454.54 533.512,1455.8 533.752,1457.85 533.992,1445.55 534.233,1448.51 534.473,1429.74 534.713,1448.75 534.953,1459.1 \n",
       "  535.194,1461.61 535.434,1428.45 535.674,1448.34 535.914,1451.06 536.154,1458.88 536.395,1455.88 536.635,1458.09 536.875,1454.16 537.115,1457.48 537.356,1458.23 \n",
       "  537.596,1453.71 537.836,1452.67 538.076,1452.64 538.316,1458.49 538.557,1462.22 538.797,1461.1 539.037,1462.21 539.277,1461.38 539.517,1460.91 539.758,1457.87 \n",
       "  539.998,1449.12 540.238,1455.55 540.478,1453.37 540.719,1460.22 540.959,1455.78 541.199,1460.4 541.439,1450.97 541.679,1456.73 541.92,1461.19 542.16,1443.03 \n",
       "  542.4,1454.71 542.64,1440.28 542.881,1459.2 543.121,1447.85 543.361,1446.76 543.601,1459.55 543.841,1454.83 544.082,1457.87 544.322,1448.74 544.562,1460.91 \n",
       "  544.802,1459.89 545.043,1461.39 545.283,1445.02 545.523,1438.73 545.763,1439.83 546.003,1457.04 546.244,1452.93 546.484,1452.33 546.724,1446.65 546.964,1435.95 \n",
       "  547.204,1453.51 547.445,1417.47 547.685,1425.41 547.925,1454.28 548.165,1402.98 548.406,1433.36 548.646,1443.29 548.886,1440.44 549.126,1443.84 549.366,1445.28 \n",
       "  549.607,1436.33 549.847,1452.54 550.087,1401.87 550.327,1432.11 550.568,1452.79 550.808,1441.02 551.048,1424.72 551.288,1423.29 551.528,1448.57 551.769,1443.42 \n",
       "  552.009,1435.64 552.249,1455.37 552.489,1392.83 552.729,1450.35 552.97,1449.54 553.21,1427.98 553.45,1449.51 553.69,1454.41 553.931,1394.74 554.171,1432.49 \n",
       "  554.411,1450.06 554.651,1444.04 554.891,1436.58 555.132,1454.44 555.372,1433.51 555.612,1439.52 555.852,1452.81 556.093,1450.78 556.333,1457.75 556.573,1444.32 \n",
       "  556.813,1418.53 557.053,1446.8 557.294,1432.41 557.534,1426.59 557.774,1438.76 558.014,1299.93 558.254,1414.37 558.495,1428.63 558.735,1445.82 558.975,1437.79 \n",
       "  559.215,1451.57 559.456,1422.93 559.696,1453.56 559.936,1449.42 560.176,1439.49 560.416,1431.8 560.657,1443.48 560.897,1437.92 561.137,1441.26 561.377,1444.28 \n",
       "  561.618,1432.12 561.858,1459.66 562.098,1432.38 562.338,1436.14 562.578,1434.87 562.819,1443.94 563.059,1443.95 563.299,1451.44 563.539,1446.08 563.779,1457.53 \n",
       "  564.02,1424.6 564.26,1449.89 564.5,1436.47 564.74,1412.27 564.981,1448.55 565.221,1456.76 565.461,1458.25 565.701,1451.96 565.941,1456.72 566.182,1447.2 \n",
       "  566.422,1450.38 566.662,1427.31 566.902,1448.17 567.143,1445.99 567.383,1448.11 567.623,1456.63 567.863,1458.77 568.103,1461.13 568.344,1414.22 568.584,1430.95 \n",
       "  568.824,1430.98 569.064,1432.92 569.304,1443.72 569.545,1449.97 569.785,1441.71 570.025,1437.94 570.265,1452.02 570.506,1445.55 570.746,1455.21 570.986,1431.92 \n",
       "  571.226,1456.96 571.466,1450.44 571.707,1438.82 571.947,1432.49 572.187,1452.55 572.427,1452.12 572.668,1443.01 572.908,1451.19 573.148,1450.61 573.388,1453.7 \n",
       "  573.628,1445.87 573.869,1455.92 574.109,1450.14 574.349,1455.77 574.589,1451.67 574.829,1455.25 575.07,1433.52 575.31,1457.09 575.55,1455.55 575.79,1457.11 \n",
       "  576.031,1461.26 576.271,1440.73 576.511,1439.79 576.751,1444.85 576.991,1447.51 577.232,1452.39 577.472,1456.63 577.712,1458.75 577.952,1448.24 578.193,1443.88 \n",
       "  578.433,1457.62 578.673,1460.43 578.913,1449.15 579.153,1461.58 579.394,1446.46 579.634,1457.73 579.874,1459.69 580.114,1461.98 580.354,1459.5 580.595,1439.77 \n",
       "  580.835,1436.08 581.075,1451.05 581.315,1461.79 581.556,1459.9 581.796,1458.99 582.036,1459.99 582.276,1451.91 582.516,1450.45 582.757,1456.97 582.997,1455.82 \n",
       "  583.237,1461.29 583.477,1462.14 583.718,1461.98 583.958,1460.32 584.198,1462.12 584.438,1458.36 584.678,1461.47 584.919,1457.17 585.159,1462.07 585.399,1461.5 \n",
       "  585.639,1452.25 585.88,1433.71 586.12,1451.42 586.36,1458.86 586.6,1456.81 586.84,1457.88 587.081,1451.34 587.321,1459.78 587.561,1462.17 587.801,1461.49 \n",
       "  588.041,1457.83 588.282,1456.94 588.522,1461.95 588.762,1461.53 589.002,1457.01 589.243,1458.83 589.483,1459.56 589.723,1420.44 589.963,1450.4 590.203,1451.18 \n",
       "  590.444,1458.13 590.684,1460.79 590.924,1457.78 591.164,1460.52 591.405,1448.97 591.645,1458.88 591.885,1456.26 592.125,1453.44 592.365,1458.52 592.606,1454.83 \n",
       "  592.846,1457.48 593.086,1446.95 593.326,1458.74 593.566,1458.44 593.807,1454.32 594.047,1453.01 594.287,1457.06 594.527,1454.25 594.768,1457.48 595.008,1461.23 \n",
       "  595.248,1452.05 595.488,1456.41 595.728,1460.81 595.969,1461.34 596.209,1460.61 596.449,1460.92 596.689,1461.69 596.93,1457.62 597.17,1457.16 597.41,1459.08 \n",
       "  597.65,1457.44 597.89,1453.56 598.131,1460.51 598.371,1455.1 598.611,1450.51 598.851,1458.6 599.091,1456.17 599.332,1454.54 599.572,1448.71 599.812,1462.05 \n",
       "  600.052,1461.98 600.293,1451.03 600.533,1456.89 600.773,1457.22 601.013,1450.63 601.253,1455.14 601.494,1459.55 601.734,1460.98 601.974,1456.64 602.214,1459.93 \n",
       "  602.455,1459.21 602.695,1461.6 602.935,1461 603.175,1451.8 603.415,1452.68 603.656,1461.98 603.896,1460.69 604.136,1452.61 604.376,1461.69 604.616,1461.42 \n",
       "  604.857,1460.64 605.097,1433.66 605.337,1459.83 605.577,1451.93 605.818,1452.46 606.058,1461.5 606.298,1457.04 606.538,1459.77 606.778,1460.96 607.019,1457.44 \n",
       "  607.259,1461.08 607.499,1457.32 607.739,1455.48 607.98,1461.15 608.22,1444.74 608.46,1451.74 608.7,1429.46 608.94,1455.84 609.181,1461.7 609.421,1457.66 \n",
       "  609.661,1458.45 609.901,1460.76 610.141,1459.3 610.382,1455.96 610.622,966.174 610.862,1267.27 611.102,1433.51 611.343,1435.02 611.583,1403.2 611.823,1402.53 \n",
       "  612.063,1424.75 612.303,1422.88 612.544,1442.8 612.784,1430.34 613.024,1456 613.264,1457.47 613.505,1422.86 613.745,1447.6 613.985,1446.29 614.225,1454.3 \n",
       "  614.465,1449.66 614.706,1453.91 614.946,1442.07 615.186,1451.68 615.426,1453.75 615.666,1460.93 615.907,1437.57 616.147,1456.44 616.387,1444.73 616.627,1421.67 \n",
       "  616.868,1453.24 617.108,1449.34 617.348,1436.84 617.588,1438.33 617.828,1447.34 618.069,1449.77 618.309,1448.79 618.549,1434.82 618.789,1432.35 619.03,1438.8 \n",
       "  619.27,1443.2 619.51,1447.52 619.75,1450.82 619.99,1458.2 620.231,1458.34 620.471,1448.89 620.711,1454.13 620.951,1452.97 621.191,1459.33 621.432,1456.82 \n",
       "  621.672,1445.52 621.912,1442.33 622.152,1398.29 622.393,1441.98 622.633,1415.5 622.873,1433.53 623.113,1419.64 623.353,1440.02 623.594,1441.93 623.834,1439.04 \n",
       "  624.074,1438.87 624.314,1441.06 624.555,1445.86 624.795,1443.41 625.035,1443.85 625.275,1430.89 625.515,1454.45 625.756,1431.59 625.996,1449.9 626.236,1415.25 \n",
       "  626.476,1435.25 626.717,1447.95 626.957,1448.78 627.197,1431.49 627.437,1449.35 627.677,1431.62 627.918,1433.63 628.158,1448.23 628.398,1447.46 628.638,1456.03 \n",
       "  628.878,1440.72 629.119,1443.6 629.359,1453.61 629.599,1442.85 629.839,1429.44 630.08,1456.66 630.32,1441.02 630.56,1445.67 630.8,1452.71 631.04,1450.96 \n",
       "  631.281,1454.44 631.521,1447.12 631.761,1456.34 632.001,1462.01 632.242,1451.64 632.482,1450.94 632.722,1458.16 632.962,1449.93 633.202,1450.21 633.443,1451.66 \n",
       "  633.683,1454.56 633.923,1444.27 634.163,1451.79 634.403,1451.22 634.644,1448.75 634.884,1451.22 635.124,1451.59 635.364,1455.97 635.605,1449.76 635.845,1450.29 \n",
       "  636.085,1455.2 636.325,1459.31 636.565,1456.26 636.806,1454.14 637.046,1444.19 637.286,1458.41 637.526,1454.11 637.767,1446.6 638.007,1424.07 638.247,1456.65 \n",
       "  638.487,1460.1 638.727,1452.16 638.968,1440.25 639.208,1438.83 639.448,1435.6 639.688,1445.47 639.928,1435.8 640.169,1436.58 640.409,1447.71 640.649,1434.93 \n",
       "  640.889,1448.15 641.13,1448.66 641.37,1450.26 641.61,1398.58 641.85,1446.16 642.09,1453.77 642.331,1438.22 642.571,1456.59 642.811,1426.47 643.051,1457.05 \n",
       "  643.292,1458.31 643.532,1450.03 643.772,1457.36 644.012,1427.79 644.252,1449.11 644.493,1442.26 644.733,1460.59 644.973,1449.23 645.213,1461.24 645.453,1459.92 \n",
       "  645.694,1458.7 645.934,1453.12 646.174,1458.06 646.414,1450.18 646.655,1461.69 646.895,1458.86 647.135,1451.65 647.375,1455.42 647.615,1458.25 647.856,1459.59 \n",
       "  648.096,1460.19 648.336,1456.18 648.576,1455.24 648.817,1459.94 649.057,1456.51 649.297,1461.93 649.537,1456.22 649.777,1462.26 650.018,1461.49 650.258,1460.13 \n",
       "  650.498,1454.14 650.738,1455.12 650.978,1458.36 651.219,1460.87 651.459,1461.69 651.699,1460.88 651.939,1459.95 652.18,1457.35 652.42,1454 652.66,1446.16 \n",
       "  652.9,1436.8 653.14,1452.47 653.381,1455.35 653.621,1459.17 653.861,1459.81 654.101,1456.11 654.342,1461.95 654.582,1458.13 654.822,1459.48 655.062,1459.62 \n",
       "  655.302,1460.41 655.543,1461.12 655.783,1462.04 656.023,1460.69 656.263,1460.07 656.503,1453.11 656.744,1450.46 656.984,1462.13 657.224,1459.62 657.464,1461.07 \n",
       "  657.705,1462.08 657.945,1461.2 658.185,1461.71 658.425,1459.38 658.665,1461.43 658.906,1450.63 659.146,1450.26 659.386,1457.14 659.626,1461.59 659.867,1457 \n",
       "  660.107,1459.91 660.347,1457.19 660.587,1458.01 660.827,1456.27 661.068,1459.37 661.308,1461.7 661.548,1457.92 661.788,1455.63 662.028,1461.58 662.269,1460.56 \n",
       "  662.509,1459.45 662.749,1455.99 662.989,1460.82 663.23,1460.42 663.47,1453.89 663.71,1458.45 663.95,1461.82 664.19,1460.78 664.431,1455 664.671,1461.79 \n",
       "  664.911,1459.49 665.151,1462.15 665.392,1460.65 665.632,1461.07 665.872,1461.19 666.112,1449.94 666.352,1456.31 666.593,1461.42 666.833,1461.06 667.073,1461.78 \n",
       "  667.313,1460.76 667.554,1456.12 667.794,1447.46 668.034,1446.31 668.274,1454.8 668.514,1455.81 668.755,1456.48 668.995,1459.49 669.235,1450.53 669.475,1458.58 \n",
       "  669.715,1458.92 669.956,1458.52 670.196,1460.63 670.436,1461.24 670.676,1457.1 670.917,1451.26 671.157,1450.6 671.397,1460.85 671.637,1461.25 671.877,1460.56 \n",
       "  672.118,1459.59 672.358,1461.54 672.598,1444.65 672.838,1451.71 673.079,1435.59 673.319,1457.49 673.559,1451.5 673.799,1445.77 674.039,1459.63 674.28,1457.41 \n",
       "  674.52,1461.45 674.76,1459.87 675,1459.72 675.24,1462.25 675.481,1459.14 675.721,1461.01 675.961,1462.06 676.201,1458.39 676.442,1455.31 676.682,1455.34 \n",
       "  676.922,1455.42 677.162,1442.99 677.402,1452.29 677.643,1461.26 677.883,1460.95 678.123,1450.83 678.363,1460.23 678.604,1462.04 678.844,1460.08 679.084,1460.75 \n",
       "  679.324,1455.34 679.564,1456.04 679.805,1459.71 680.045,1460.84 680.285,1459.04 680.525,1462.04 680.765,1457.88 681.006,1457.34 681.246,1445.11 681.486,1462.15 \n",
       "  681.726,1452.6 681.967,1456.45 682.207,1457.61 682.447,1461.25 682.687,1462.17 682.927,1460.61 683.168,1459.44 683.408,1456.24 683.648,1460.59 683.888,1461.93 \n",
       "  684.129,1461.97 684.369,1452.84 684.609,1454.26 684.849,1459.44 685.089,1451.57 685.33,1456.77 685.57,1460.69 685.81,1451.31 686.05,1460.5 686.29,1450.56 \n",
       "  686.531,1454.01 686.771,1450.39 687.011,1453.13 687.251,1448.23 687.492,1452.68 687.732,1441.88 687.972,1413.77 688.212,1436.61 688.452,1448.62 688.693,1461.49 \n",
       "  688.933,1450.51 689.173,1443.96 689.413,1444.36 689.654,1423.52 689.894,1434.81 690.134,1358.13 690.374,1445.37 690.614,1444.29 690.855,1449.35 691.095,1455.82 \n",
       "  691.335,1443.01 691.575,1450.76 691.815,1448.21 692.056,1439.74 692.296,1344.81 692.536,1401.53 692.776,1456.09 693.017,1412.45 693.257,1447.05 693.497,1442.41 \n",
       "  693.737,1451.76 693.977,1446.85 694.218,1445.57 694.458,1439.27 694.698,1433.57 694.938,1437.08 695.179,1455.21 695.419,1448.66 695.659,1445.95 695.899,1444.85 \n",
       "  696.139,1453.3 696.38,1446.83 696.62,1453.74 696.86,1457.4 697.1,1443.64 697.34,1448.74 697.581,1453.54 697.821,1425.41 698.061,1442.56 698.301,1445.14 \n",
       "  698.542,1456.85 698.782,1456.69 699.022,1443.71 699.262,1448.23 699.502,1442.76 699.743,1438.92 699.983,1442.71 700.223,1430.45 700.463,1446.9 700.704,1454.42 \n",
       "  700.944,1445.49 701.184,1454.84 701.424,1447.35 701.664,1415.15 701.905,1407.31 702.145,1424.63 702.385,1436.08 702.625,1456.55 702.865,1398.32 703.106,1434.59 \n",
       "  703.346,1419.8 703.586,1456.62 703.826,1457.24 704.067,1449.68 704.307,1439.94 704.547,1444.32 704.787,1450.5 705.027,1430.51 705.268,1441.56 705.508,1446.78 \n",
       "  705.748,1442.19 705.988,1450.71 706.229,1447.04 706.469,1457.58 706.709,1441.45 706.949,1458.01 707.189,1451.92 707.43,1457.34 707.67,1462.01 707.91,1429.1 \n",
       "  708.15,1430.26 708.391,1451.28 708.631,1441.37 708.871,1455.31 709.111,1447.2 709.351,1456.55 709.592,1432.57 709.832,1458.62 710.072,1454.27 710.312,1456 \n",
       "  710.552,1461.63 710.793,1447.13 711.033,1439.15 711.273,1451.54 711.513,1451.72 711.754,1438.38 711.994,1454.66 712.234,1453.66 712.474,1449.93 712.714,1458.64 \n",
       "  712.955,1443.39 713.195,1450.62 713.435,1453.84 713.675,1461.95 713.916,1454.21 714.156,1456.87 714.396,1460.26 714.636,1460 714.876,1449.48 715.117,1444.81 \n",
       "  715.357,1460.13 715.597,1461.69 715.837,1461.29 716.077,1458.91 716.318,1441.81 716.558,1451.28 716.798,1461.63 717.038,1459.66 717.279,1448.4 717.519,1460.83 \n",
       "  717.759,1458.39 717.999,1440.29 718.239,1448.35 718.48,1455.21 718.72,1451.97 718.96,1461.71 719.2,1455.2 719.441,1457.85 719.681,1456.39 719.921,1455.15 \n",
       "  720.161,1450.25 720.401,1457.4 720.642,1461.33 720.882,1461.63 721.122,1452.4 721.362,1462.11 721.602,1452.98 721.843,1452.07 722.083,1460.01 722.323,1457.82 \n",
       "  722.563,1460.07 722.804,1455.35 723.044,1458.2 723.284,1447.86 723.524,1459.85 723.764,1461.11 724.005,1460.53 724.245,1462.2 724.485,1460.49 724.725,1461.09 \n",
       "  724.966,1459.04 725.206,1448.8 725.446,1461.37 725.686,1460.56 725.926,1457.07 726.167,1457.55 726.407,1460.13 726.647,1458.46 726.887,1461.12 727.127,1460.98 \n",
       "  727.368,1444.26 727.608,1462.16 727.848,1460.51 728.088,1460.22 728.329,1446.39 728.569,1459.75 728.809,1461.03 729.049,1461.91 729.289,1458.34 729.53,1451.37 \n",
       "  729.77,1458.33 730.01,1457.8 730.25,1462.09 730.491,1456.27 730.731,1453.5 730.971,1458.67 731.211,1455.14 731.451,1459.39 731.692,1459.44 731.932,1462.06 \n",
       "  732.172,1460.55 732.412,1456.12 732.652,1445.96 732.893,1460.49 733.133,1450.46 733.373,1461.47 733.613,1456.57 733.854,1458.16 734.094,1461.78 734.334,1458.6 \n",
       "  734.574,1456.74 734.814,1456.72 735.055,1458.93 735.295,1461.97 735.535,1456.23 735.775,1458.82 736.016,1461.66 736.256,1460.95 736.496,1456.85 736.736,1455.01 \n",
       "  736.976,1459.33 737.217,1460.71 737.457,1458.6 737.697,1456.68 737.937,1461.45 738.177,1457.22 738.418,1461.62 738.658,1461.7 738.898,1453.3 739.138,1460.8 \n",
       "  739.379,1457.39 739.619,1459.31 739.859,1456.9 740.099,1446.56 740.339,1456.58 740.58,1457.86 740.82,1456.38 741.06,1461.04 741.3,1422.93 741.541,1455.03 \n",
       "  741.781,1453.61 742.021,1454.73 742.261,1461.59 742.501,1450.16 742.742,1446.16 742.982,1459.56 743.222,1460.76 743.462,1459.23 743.703,1457.19 743.943,1461.43 \n",
       "  744.183,1458.78 744.423,1462.15 744.663,1461.41 744.904,1460.95 745.144,1461.28 745.384,1462.05 745.624,1458.53 745.864,1447.9 746.105,1461.89 746.345,1460.33 \n",
       "  746.585,1460.52 746.825,1461.37 747.066,1460.44 747.306,1452.38 747.546,1461.33 747.786,1457.65 748.026,1456.48 748.267,1457.06 748.507,1461.13 748.747,1449.36 \n",
       "  748.987,1460.76 749.228,1456.17 749.468,1454.31 749.708,1457.06 749.948,1461.89 750.188,1459.44 750.429,1457.84 750.669,1461.43 750.909,1461.96 751.149,1442.62 \n",
       "  751.389,1452.46 751.63,1462 751.87,1458.7 752.11,1453.35 752.35,1450.14 752.591,1457.6 752.831,1460.26 753.071,1455.92 753.311,1462.11 753.551,1456.76 \n",
       "  753.792,1461.09 754.032,1461.97 754.272,1450.16 754.512,1459.59 754.753,1448.21 754.993,1426.46 755.233,1432.07 755.473,1439.56 755.713,1446.25 755.954,1452.32 \n",
       "  756.194,1444.46 756.434,1459 756.674,1461.94 756.914,1448.35 757.155,1420.67 757.395,1425.77 757.635,1435.35 757.875,1451.43 758.116,1447.5 758.356,1430.85 \n",
       "  758.596,1440.3 758.836,1436.06 759.076,1438.56 759.317,1431.81 759.557,1451.6 759.797,1439.25 760.037,1445.99 760.278,1446.59 760.518,1454.85 760.758,1462.1 \n",
       "  760.998,1450.64 761.238,1452.71 761.479,1440.62 761.719,1422.1 761.959,1452.99 762.199,1435.08 762.439,1443.18 762.68,1444.35 762.92,1445.63 763.16,1451.97 \n",
       "  763.4,1447.67 763.641,1454.95 763.881,1446.19 764.121,1443.44 764.361,1452.84 764.601,1445.62 764.842,1444.94 765.082,1449.03 765.322,1443.77 765.562,1447.25 \n",
       "  765.803,1449.06 766.043,1461.47 766.283,1446.02 766.523,1454.13 766.763,1438.85 767.004,1453.35 767.244,1461.52 767.484,1452.49 767.724,1443.08 767.964,1453.61 \n",
       "  768.205,1432.83 768.445,1443.8 768.685,1451.8 768.925,1461.86 769.166,1455.75 769.406,1456.98 769.646,1457.37 769.886,1456.46 770.126,1456.49 770.367,1461.63 \n",
       "  770.607,1448.35 770.847,1451.6 771.087,1455.45 771.328,1454.15 771.568,1435.44 771.808,1438.7 772.048,1454.14 772.288,1445.79 772.529,1451.73 772.769,1439.84 \n",
       "  773.009,1452.98 773.249,1386.22 773.489,1443.24 773.73,1454.42 773.97,1446.92 774.21,1413.58 774.45,1451.82 774.691,1428.58 774.931,1446.56 775.171,1442.59 \n",
       "  775.411,1457.16 775.651,1442.78 775.892,1454.15 776.132,1436.78 776.372,1438.45 776.612,1458.04 776.853,1436.04 777.093,1454.2 777.333,1458.07 777.573,1461.64 \n",
       "  777.813,1456.08 778.054,1459.08 778.294,1457.03 778.534,1458.72 778.774,1461.14 779.014,1460.8 779.255,1459.64 779.495,1436.21 779.735,1453.47 779.975,1410.61 \n",
       "  780.216,1439.91 780.456,1456.11 780.696,1438.1 780.936,1457.31 781.176,1457.97 781.417,1452.44 781.657,1451.99 781.897,1457.26 782.137,1450.63 782.378,1450.02 \n",
       "  782.618,1456.18 782.858,1455.72 783.098,1459.36 783.338,1429.23 783.579,1449.56 783.819,1459.41 784.059,1447.77 784.299,1455.75 784.54,1429.69 784.78,1458.43 \n",
       "  785.02,1459.84 785.26,1460.91 785.5,1456.54 785.741,1460.38 785.981,1440.07 786.221,1453.09 786.461,1456.88 786.701,1453.7 786.942,1450.15 787.182,1459.22 \n",
       "  787.422,1459.54 787.662,1459 787.903,1462.18 788.143,1458.54 788.383,1455.98 788.623,1459.76 788.863,1459.26 789.104,1456.83 789.344,1457.27 789.584,1455.42 \n",
       "  789.824,1461.96 790.065,1456.2 790.305,1457.22 790.545,1459.98 790.785,1447.48 791.025,1455.79 791.266,1454.66 791.506,1453.61 791.746,1453.15 791.986,1460.9 \n",
       "  792.226,1450.03 792.467,1461.2 792.707,1461.15 792.947,1453.73 793.187,1461.43 793.428,1452.73 793.668,1445.3 793.908,1445.06 794.148,1451.85 794.388,1458.79 \n",
       "  794.629,1457.93 794.869,1459.44 795.109,1451.13 795.349,1442.62 795.59,1454.45 795.83,1452.01 796.07,1460.76 796.31,1462.09 796.55,1456.11 796.791,1440.25 \n",
       "  797.031,1452.73 797.271,1449.71 797.511,1434.58 797.751,1460.18 797.992,1459.26 798.232,1454.3 798.472,1460.7 798.712,1460.8 798.953,1459.91 799.193,1449.23 \n",
       "  799.433,1458.15 799.673,1455.52 799.913,1459.53 800.154,1448.19 800.394,1458.02 800.634,1459.53 800.874,1461.7 801.115,1459.53 801.355,1456.11 801.595,1460.31 \n",
       "  801.835,1460.68 802.075,1459.93 802.316,1459.81 802.556,1460.8 802.796,1461.22 803.036,1457.56 803.276,1461.52 803.517,1459.15 803.757,1462.04 803.997,1460.36 \n",
       "  804.237,1459.1 804.478,1454.31 804.718,1461.54 804.958,1461.25 805.198,1460.33 805.438,1461.48 805.679,1459.63 805.919,1458.66 806.159,1453.2 806.399,1460.21 \n",
       "  806.64,1447.04 806.88,1461.24 807.12,1460.6 807.36,1456.62 807.6,1460.75 807.841,1453.74 808.081,1459.14 808.321,1458.69 808.561,1454.33 808.801,1461.75 \n",
       "  809.042,1458.57 809.282,1462.15 809.522,1461.35 809.762,1461.55 810.003,1458.49 810.243,1460.9 810.483,1461.57 810.723,1460.1 810.963,1461.79 811.204,1457.97 \n",
       "  811.444,1461.76 811.684,1460.81 811.924,1461.44 812.165,1461.56 812.405,1460.05 812.645,1460.9 812.885,1461.44 813.125,1460.72 813.366,1459.37 813.606,1462.23 \n",
       "  813.846,1456.64 814.086,1460.84 814.326,1461.66 814.567,1460.18 814.807,1462.01 815.047,1455.06 815.287,1460.61 815.528,1461.42 815.768,1461.87 816.008,1460.84 \n",
       "  816.248,1461.14 816.488,1461.38 816.729,1454.91 816.969,1459.29 817.209,1460.73 817.449,1458.93 817.69,1454.58 817.93,1460.77 818.17,1459.76 818.41,1460.27 \n",
       "  818.65,1460.18 818.891,1460.72 819.131,1461.35 819.371,1456.1 819.611,1460.45 819.851,1462.02 820.092,1461.81 820.332,1459.21 820.572,1460.97 820.812,1462.17 \n",
       "  821.053,1450.66 821.293,1450.98 821.533,1461.59 821.773,1460.11 822.013,1452.76 822.254,1459.21 822.494,1461.97 822.734,1459.33 822.974,1440.14 823.215,1452.1 \n",
       "  823.455,1461.23 823.695,1442.25 823.935,1439.79 824.175,1453.29 824.416,1448.82 824.656,1432.5 824.896,1451.24 825.136,1457.72 825.377,1454.55 825.617,1451.47 \n",
       "  825.857,1447.72 826.097,1459.14 826.337,1358.93 826.578,1452.02 826.818,1421.92 827.058,1457.4 827.298,1421.45 827.538,1397.34 827.779,1435.12 828.019,1444.97 \n",
       "  828.259,1445.45 828.499,1427.26 828.74,1450.73 828.98,1440.85 829.22,1409.42 829.46,1446.41 829.7,1446.05 829.941,1437 830.181,1433.81 830.421,1459.4 \n",
       "  830.661,1457.51 830.902,1447.01 831.142,1431.23 831.382,1449.11 831.622,1443.98 831.862,1447.61 832.103,1442.67 832.343,1430.88 832.583,1448.79 832.823,1456.66 \n",
       "  833.063,1446.34 833.304,1448.52 833.544,1459.12 833.784,1458.15 834.024,1448.46 834.265,1444.14 834.505,1454 834.745,1445.73 834.985,1450.95 835.225,1429.45 \n",
       "  835.466,1459.7 835.706,1446.27 835.946,1451.81 836.186,1447.98 836.427,1433.82 836.667,1443.33 836.907,1449.17 837.147,1424.88 837.387,1448.55 837.628,1441.9 \n",
       "  837.868,1443.38 838.108,1436.15 838.348,1429.05 838.588,1435.66 838.829,1448.3 839.069,1455.46 839.309,1452.76 839.549,1452.33 839.79,1452.64 840.03,1448.99 \n",
       "  840.27,1429.46 840.51,1452.99 840.75,1450.38 840.991,1460.96 841.231,1452.27 841.471,1458.27 841.711,1458.69 841.952,1455.72 842.192,1455.95 842.432,1443.07 \n",
       "  842.672,1447.4 842.912,1429.86 843.153,1449.87 843.393,1450.97 843.633,1440.02 843.873,1456.75 844.113,1444.96 844.354,1444.98 844.594,1428.38 844.834,1449.12 \n",
       "  845.074,1446.54 845.315,1355.33 845.555,1380.24 845.795,1435.9 846.035,1439.22 846.275,1442.15 846.516,1428.98 846.756,1431.33 846.996,1445.57 847.236,1446.22 \n",
       "  847.477,1415.54 847.717,1460.48 847.957,1436.85 848.197,1438.29 848.437,1445.75 848.678,1418.39 848.918,1440.4 849.158,1421 849.398,1447.7 849.638,1442.93 \n",
       "  849.879,1441.82 850.119,1449.47 850.359,1449.99 850.599,1459.75 850.84,1458.28 851.08,1432.19 851.32,1453.87 851.56,1453.41 851.8,1443.77 852.041,1435.36 \n",
       "  852.281,1433.21 852.521,1455.76 852.761,1427.21 853.002,1453.31 853.242,1449.42 853.482,1453.54 853.722,1435.76 853.962,1451.87 854.203,1455.99 854.443,1451.36 \n",
       "  854.683,1459.43 854.923,1442.98 855.163,1454.11 855.404,1461.08 855.644,1446.71 855.884,1460.16 856.124,1452.45 856.365,1460.18 856.605,1460.22 856.845,1405.47 \n",
       "  857.085,1328.63 857.325,1401.89 857.566,1236.92 857.806,1361.51 858.046,1401.64 858.286,1432.6 858.527,1419.29 858.767,1423.85 859.007,1434.97 859.247,1449.54 \n",
       "  859.487,1422.94 859.728,1399.22 859.968,1423.95 860.208,1447.44 860.448,1445.41 860.688,1458.21 860.929,1461.24 861.169,1458.54 861.409,1459.13 861.649,1444.34 \n",
       "  861.89,1455.83 862.13,1442.67 862.37,1448.99 862.61,1456.59 862.85,1452.06 863.091,1456.18 863.331,1458.79 863.571,1444.37 863.811,1449.01 864.052,1458.98 \n",
       "  864.292,1460.66 864.532,1422.29 864.772,1445.37 865.012,1455.29 865.253,1452.57 865.493,1460.21 865.733,1449.73 865.973,1452.38 866.214,1451.92 866.454,1413.97 \n",
       "  1013.71,1438.74 1013.95,1435.2 1014.19,1449.07 1014.43,1452.35 1014.67,1443.45 1014.91,1437.88 1015.15,1431.84 1015.39,1445.92 1015.63,1450.57 1015.87,1450.43 \n",
       "  1016.11,1450.6 1016.35,1461.57 1016.59,1438.95 1016.83,1425.7 1017.07,1438.51 1017.31,1406.89 1017.55,1437.75 1017.79,1420.37 1018.03,1454.2 1018.27,1419.76 \n",
       "  1018.51,1443.81 1018.75,1447.58 1018.99,1457.91 1019.23,1452.21 1019.47,1419.03 1019.71,1454.67 1019.95,1452.57 1020.19,1452.27 1020.43,1451.12 1020.67,1436.36 \n",
       "  1020.91,1445.82 1021.15,1438.4 1021.39,1447.38 1021.63,1454.93 1021.87,1438.78 1022.11,1439.15 1022.35,1449.6 1022.6,1441.44 1022.84,1460.89 1023.08,1448.91 \n",
       "  1023.32,1458.05 1023.56,1454.41 1023.8,1450.38 1024.04,1460.5 1024.28,1450.95 1024.52,1418.49 1024.76,1452.03 1025,1425.18 1025.24,1450.81 1025.48,1458.07 \n",
       "  1025.72,1458.29 1025.96,1444.82 1026.2,1448.21 1026.44,1450.39 1026.68,1459.41 1026.92,1418.1 1027.16,1454.7 1027.4,1451.98 1027.64,1433.89 1027.88,1451.77 \n",
       "  1028.12,1449.73 1028.36,1456.77 1028.6,1430.51 1028.84,1454.42 1029.08,1442.35 1029.32,1454.23 1029.56,1455.12 1029.8,1444.54 1030.04,1430.7 1030.28,1452.49 \n",
       "  1030.52,1442.96 1030.76,1446.62 1031,1420.29 1031.24,1433.99 1031.48,1454.11 1031.72,1422.36 1031.96,1449.55 1032.2,1427.04 1032.44,1396.46 1032.68,1443.92 \n",
       "  1032.92,1422.82 1033.16,1443.52 1033.4,1395.67 1033.65,1418.7 1033.89,1433.5 1034.13,1424.47 1034.37,1440.18 1034.61,1423.93 1034.85,1446.12 1035.09,1432.74 \n",
       "  1035.33,1430.08 1035.57,1435.57 1035.81,1425.63 1036.05,1442.37 1036.29,1431.33 1036.53,1450.87 1036.77,1452.79 1037.01,1438.36 1037.25,1425.9 1037.49,1452.81 \n",
       "  1037.73,1428.21 1037.97,1444.38 1038.21,1445.95 1038.45,1446.93 1038.69,1346.32 1038.93,1434.45 1039.17,1440.31 1039.41,1442.58 1039.65,1438.21 1039.89,1439.73 \n",
       "  1040.13,1403.36 1040.37,1431.33 1040.61,1429.88 1040.85,1433.56 1041.09,1434.24 1041.33,1437.94 1041.57,1446.82 1041.81,1441.81 1042.05,1432.6 1042.29,1423.41 \n",
       "  1042.53,1433.79 1042.77,1434.15 1043.01,1442.68 1043.25,1409.89 1043.49,1420.67 1043.73,1431.68 1043.97,1438.69 1044.21,1434.61 1044.45,1434.78 1044.7,1437.97 \n",
       "  1044.94,1455.8 1045.18,1423.8 1045.42,1441.92 1045.66,1451.34 1045.9,1423.53 1046.14,1435.65 1046.38,1432.13 1046.62,1447.05 1046.86,1415.33 1047.1,1441.69 \n",
       "  1047.34,1439.42 1047.58,1450.98 1047.82,1435.56 1048.06,1443.38 1048.3,1447.77 1048.54,1461.74 1048.78,1452.76 1049.02,1445.6 1049.26,1446.77 1049.5,1449.65 \n",
       "  1049.74,1458.74 1049.98,1454.34 1050.22,1451.41 1050.46,1444.89 1050.7,1438.61 1050.94,1438.78 1051.18,1424.14 1051.42,1451.67 1051.66,1426.68 1051.9,1437.88 \n",
       "  1052.14,1453.2 1052.38,1438.14 1052.62,1267.84 1052.86,1407.09 1053.1,1413.99 1053.34,1412.76 1053.58,1408.24 1053.82,1408.17 1054.06,1389.48 1054.3,1449.29 \n",
       "  1054.54,1438.73 1054.78,1450.77 1055.02,1430.64 1055.26,1443.71 1055.51,1413.5 1055.75,1449.48 1055.99,1438.03 1056.23,1436.36 1056.47,1339.86 1056.71,1422.87 \n",
       "  1056.95,1426.46 1057.19,1435.85 1057.43,1438.67 1057.67,1439.64 1057.91,1436.39 1058.15,1445.4 1058.39,1438.87 1058.63,1244.58 1058.87,1410.13 1059.11,1371.77 \n",
       "  1059.35,1439.6 1059.59,1416.9 1059.83,1366.48 1060.07,1428.82 1060.31,1422.81 1060.55,1412.94 1060.79,1123.36 1061.03,1410.54 1061.27,1397.85 1061.51,1454.68 \n",
       "  1061.75,1428.84 1061.99,1423.17 1062.23,1444.78 1062.47,1458.27 1062.71,1456.11 1062.95,1462.2 1063.19,1450.49 1063.43,1456.46 1063.67,1456.8 1063.91,1447.59 \n",
       "  1064.15,1453.59 1064.39,1447.88 1064.63,1447.4 1064.87,1457.09 1065.11,1444.3 1065.35,1461.75 1065.59,1453.3 1065.83,1444 1066.07,1451.99 1066.31,1450.77 \n",
       "  1066.56,1455.19 1066.8,1456.48 1067.04,1444.33 1067.28,1453.22 1067.52,1451.45 1067.76,1461.22 1068,1460.9 1068.24,1455.29 1068.48,1453.14 1068.72,1459.4 \n",
       "  1068.96,1458.51 1069.2,1459.49 1069.44,1461.6 1069.68,1461.75 1069.92,1459.74 1070.16,1461.92 1070.4,1456.32 1070.64,1460.6 1070.88,1458.39 1071.12,1461.62 \n",
       "  1071.36,1461.36 1071.6,1461.5 1071.84,1461.51 1072.08,1457.45 1072.32,1460.63 1072.56,1456.32 1072.8,1457.12 1073.04,1453.5 1073.28,1451.62 1073.52,1439.57 \n",
       "  1073.76,1450.93 1074,1344.06 1074.24,1413.65 1074.48,1425.74 1074.72,1450.55 1074.96,1460.78 1075.2,1459.66 1075.44,1459.86 1075.68,1456.01 1075.92,1457.91 \n",
       "  1076.16,1446.26 1076.4,1450.38 1076.64,1453.45 1076.88,1453.5 1077.12,1433.92 1077.36,1457.32 1077.61,1451.19 1077.85,1451.77 1078.09,1452.04 1078.33,1460.29 \n",
       "  1078.57,1457.23 1078.81,1434.33 1079.05,1452.87 1079.29,1456.13 1079.53,1459.87 1079.77,1434.36 1080.01,1448.42 1080.25,1453.67 1080.49,1454.64 1080.73,1462.06 \n",
       "  1080.97,1462.09 1081.21,1446.6 1081.45,1452.56 1081.69,1460.44 1081.93,1460.21 1082.17,1457.89 1082.41,1458.73 1082.65,1460.33 1082.89,1460.93 1083.13,1440.4 \n",
       "  1083.37,1453.2 1083.61,1459.11 1083.85,1458.26 1084.09,1456.35 1084.33,1450.28 1084.57,1461.2 1084.81,1459.12 1085.05,1455.42 1085.29,1461.67 1085.53,1449.53 \n",
       "  1085.77,1455.31 1086.01,1457.03 1086.25,1460.61 1086.49,1456.8 1086.73,1459.88 1086.97,1459 1087.21,1459.39 1087.45,1459.28 1087.69,1462.14 1087.93,1459 \n",
       "  1088.17,1459.23 1088.41,1447.62 1088.66,1458.54 1088.9,1458.96 1089.14,1458.37 1089.38,1460.65 1089.62,1454.76 1089.86,1453.65 1090.1,1461.74 1090.34,1452.8 \n",
       "  1090.58,1455.28 1090.82,1453.51 1091.06,1460.02 1091.3,1451.24 1091.54,1455.24 1091.78,1460.5 1092.02,1461.45 1092.26,1461.79 1092.5,1452.63 1092.74,1458 \n",
       "  1092.98,1458.22 1093.22,1457.22 1093.46,1451.33 1093.7,1452.51 1093.94,1458.1 1094.18,1457.77 1094.42,1453.43 1094.66,1460.83 1094.9,1438.14 1095.14,1458.71 \n",
       "  1095.38,1458.57 1095.62,1450.37 1095.86,1454.27 1096.1,1455.29 1096.34,1458.88 1096.58,1454.26 1096.82,1457.75 1097.06,1458.9 1097.3,1449.83 1097.54,1461.37 \n",
       "  1097.78,1460.29 1098.02,1460.63 1098.26,1459.56 1098.5,1458.07 1098.74,1462.02 1098.98,1452.31 1099.22,1444.13 1099.46,1437.35 1099.71,1459.8 1099.95,1438.49 \n",
       "  1100.19,1447.13 1100.43,1446.56 1100.67,1421.33 1100.91,1434.1 1101.15,1439.88 1101.39,1451.17 1101.63,1456.54 1101.87,1445.59 1102.11,1434.58 1102.35,1433.58 \n",
       "  1102.59,1440.44 1102.83,1437.09 1103.07,1413.27 1103.31,1431.19 1103.55,1448.27 1103.79,1449.59 1104.03,1456.4 1104.27,1450.01 1104.51,1415.9 1104.75,1394.81 \n",
       "  1104.99,1417.68 1105.23,1393.95 1105.47,1445.8 1105.71,1445.74 1105.95,1441.69 1106.19,1437.8 1106.43,1450.74 1106.67,1456.58 1106.91,1440.99 1107.15,1436.59 \n",
       "  1107.39,1364.85 1107.63,1438.19 1107.87,1403.99 1108.11,1446.15 1108.35,1461.35 1108.59,1416.86 1108.83,1431.51 1109.07,1443.98 1109.31,1410.05 1109.55,1434.66 \n",
       "  1109.79,1439.51 1110.03,1452.27 1110.27,1439.56 1110.51,1449.44 1110.76,1448.79 1111,1457.13 1111.24,1436.45 1111.48,1376.99 1111.72,1392.67 1111.96,1434 \n",
       "  1112.2,1437.45 1112.44,1442.05 1112.68,1397.01 1112.92,1419.93 1113.16,1426.27 1113.4,1430.02 1113.64,1435.4 1113.88,1452.74 1114.12,1456.95 1114.36,1426.44 \n",
       "  1114.6,1432.39 1114.84,1435.58 1115.08,1438.72 1115.32,1434.4 1115.56,1454.59 1115.8,1457.72 1116.04,1439.75 1116.28,1420.4 1116.52,1428.81 1116.76,1444.35 \n",
       "  1117,1445.58 1117.24,1434.77 1117.48,1437.92 1117.72,1454.7 1117.96,1427.66 1118.2,1420.82 1118.44,1445.69 1118.68,1403.52 1118.92,1414.75 1119.16,1439.74 \n",
       "  1119.4,1443.18 1119.64,1459.21 1119.88,1447.24 1120.12,1449.46 1120.36,1429.68 1120.6,1439.16 1120.84,1448.69 1121.08,1451.67 1121.32,1443.55 1121.56,1444.59 \n",
       "  1121.81,1405.06 1122.05,1443.71 1122.29,1441.36 1122.53,1421.76 1122.77,1396.49 1123.01,1449.87 1123.25,1444.81 1123.49,1405.34 1123.73,1441.72 1123.97,1429.45 \n",
       "  1124.21,1434.03 1124.45,1425.22 1124.69,1419.37 1124.93,1408.9 1125.17,1445.56 1125.41,1435.55 1125.65,1444.66 1125.89,1441.39 1126.13,1446.04 1126.37,1444.58 \n",
       "  1126.61,1436.56 1126.85,1435.52 1127.09,1446.26 1127.33,1461.62 1127.57,1445.46 1127.81,1450.49 1128.05,1429.52 1128.29,1452.87 1128.53,1415.75 1128.77,1439.49 \n",
       "  1129.01,1455.41 1129.25,1453.37 1129.49,1445.11 1129.73,1455.39 1129.97,1446.58 1130.21,1435.57 1130.45,1460.44 1130.69,1447.24 1130.93,1455.12 1131.17,1445.58 \n",
       "  1131.41,1453.44 1131.65,1445.08 1131.89,1454.8 1132.13,1455.81 1132.37,1451.91 1132.61,1459.2 1132.86,1459.79 1133.1,1439.04 1133.34,1452.18 1133.58,1429.11 \n",
       "  1133.82,1443.13 1134.06,1451.21 1134.3,1440.06 1134.54,1457.48 1134.78,1443.33 1135.02,1452 1135.26,1443.04 1135.5,1453.57 1135.74,1454.82 1135.98,1450.42 \n",
       "  1136.22,1446.18 1136.46,1447.07 1136.7,1445.54 1136.94,1450.27 1137.18,1449.41 1137.42,1447.63 1137.66,1451.89 1137.9,1451.93 1138.14,1460.39 1138.38,1460.72 \n",
       "  1138.62,1456.32 1138.86,1459.29 1139.1,1451.53 1139.34,1454.07 1139.58,1452.5 1139.82,1455.89 1140.06,1452.8 1140.3,1453.63 1140.54,1459.66 1140.78,1458.95 \n",
       "  1141.02,1461.9 1141.26,1461.71 1141.5,1448.31 1141.74,1461.66 1141.98,1453.4 1142.22,1451.38 1142.46,1445.97 1142.7,1453.43 1142.94,1460.24 1143.18,1451.17 \n",
       "  1143.42,1442.36 1143.66,1459.62 1143.91,1458.83 1144.15,1458.36 1144.39,1458.87 1144.63,1456.41 1144.87,1461.18 1145.11,1452.61 1145.35,1451.29 1145.59,1461.5 \n",
       "  1145.83,1456.29 1146.07,1460.15 1146.31,1459.49 1146.55,1451.21 1146.79,1459.72 1147.03,1460.94 1147.27,1459.69 1147.51,1460.94 1147.75,1461.62 1147.99,1454.66 \n",
       "  1148.23,1457.91 1148.47,1459.39 1148.71,1461.83 1148.95,1458.12 1149.19,1455.11 1149.43,1461.53 1149.67,1460.79 1149.91,1458.25 1150.15,1458.33 1150.39,1455.25 \n",
       "  1150.63,1461.85 1150.87,1457.44 1151.11,1459.33 1151.35,1461.14 1151.59,1461.06 1151.83,1433.86 1152.07,1447.51 1152.31,1459.65 1152.55,1454.53 1152.79,1459.54 \n",
       "  1153.03,1443.47 1153.27,1454.41 1153.51,1459.22 1153.75,1457.44 1153.99,1461.1 1154.23,1450.46 1154.47,1445.63 1154.71,1459.12 1154.96,1451.03 1155.2,1461.65 \n",
       "  1155.44,1454.56 1155.68,1456.61 1155.92,1460.66 1156.16,1451.1 1156.4,1447.68 1156.64,1456.27 1156.88,1452.22 1157.12,1457.94 1157.36,1459.87 1157.6,1433.36 \n",
       "  1157.84,1447.73 1158.08,1455.88 1158.32,1458.81 1158.56,1455.08 1158.8,1459.89 1159.04,1457.52 1159.28,1453.84 1159.52,1459.86 1159.76,1458.64 1160,1460.58 \n",
       "  1160.24,1461.48 1160.48,1460.55 1160.72,1457.23 1160.96,1461.13 1161.2,1459.78 1161.44,1460.52 1161.68,1460.64 1161.92,1447.17 1162.16,1454.69 1162.4,1461.09 \n",
       "  1162.64,1461.38 1162.88,1460.84 1163.12,1460.54 1163.36,1461.24 1163.6,1458.45 1163.84,1458.46 1164.08,1458.2 1164.32,1457.88 1164.56,1461.57 1164.8,1460.87 \n",
       "  1165.04,1447.02 1165.28,1452.62 1165.52,1447.54 1165.76,1460.99 1166.01,1462.09 1166.25,1449.71 1166.49,1441.09 1166.73,1460.34 1166.97,1456.71 1167.21,1458.32 \n",
       "  1167.45,1453.81 1167.69,1460.27 1167.93,1461.23 1168.17,1446.02 1168.41,1452.95 1168.65,1459.56 1168.89,1459.78 1169.13,1453.44 1169.37,1461.05 1169.61,1425.47 \n",
       "  1169.85,1452.28 1170.09,1426.92 1170.33,1449.33 1170.57,1444.97 1170.81,1450.88 1171.05,1441.77 1171.29,1456.13 1171.53,1452.86 1171.77,1453.21 1172.01,1449.78 \n",
       "  1172.25,1442.27 1172.49,1461.14 1172.73,1438.15 1172.97,1438.81 1173.21,1417.43 1173.45,1405.52 1173.69,1442.17 1173.93,1445.38 1174.17,1425.72 1174.41,1443.4 \n",
       "  1174.65,1453.31 1174.89,1441.42 1175.13,1445.52 1175.37,1444.07 1175.61,1450.59 1175.85,1444.84 1176.09,1434.08 1176.33,1443.92 1176.57,1392.5 1176.81,1435.89 \n",
       "  1177.06,1429 1177.3,1440.96 1177.54,1433.13 1177.78,1450.22 1178.02,1440.68 1178.26,1456.66 1178.5,1438.22 1178.74,1460.54 1178.98,1434.7 1179.22,1439.16 \n",
       "  1179.46,1446.49 1179.7,1441.99 1179.94,1437.67 1180.18,1422.26 1180.42,1433.33 1180.66,1424.99 1180.9,1428.8 1181.14,1443.72 1181.38,1437.02 1181.62,1443.74 \n",
       "  1181.86,1452.96 1182.1,1437.56 1182.34,1429.07 1182.58,1445.56 1182.82,1452.64 1183.06,1434.71 1183.3,1443.51 1183.54,1446.04 1183.78,1457.79 1184.02,1434.92 \n",
       "  1184.26,1455.19 1184.5,1450.61 1184.74,1456.47 1184.98,1397.91 1185.22,1436.09 1185.46,1442.07 1185.7,1452.93 1185.94,1448.28 1186.18,1456.69 1186.42,1446.29 \n",
       "  1186.66,1456.75 1186.9,1452.54 1187.14,1462.23 1187.38,1428.31 1187.62,1461.84 1187.86,1449.61 1188.11,1444.15 1188.35,1445.99 1188.59,1437.06 1188.83,1424.32 \n",
       "  1189.07,1451.56 1189.31,1450.9 1189.55,1449.61 1189.79,1450.68 1190.03,1445.28 1190.27,1440.85 1190.51,1422.45 1190.75,1445.53 1190.99,1457.85 1191.23,1440.56 \n",
       "  1191.47,1441.89 1191.71,1462.1 1191.95,1450.5 1192.19,1445.47 1192.43,1450.54 1192.67,1446.77 1192.91,1429.08 1193.15,1450 1193.39,1411.16 1193.63,1452.9 \n",
       "  1193.87,1449.8 1194.11,1434.83 1194.35,1454.55 1194.59,1457.56 1194.83,1434.99 1195.07,1436.34 1195.31,1444.9 1195.55,1457.26 1195.79,1448.24 1196.03,1450.45 \n",
       "  1196.27,1452.85 1196.51,1461.39 1196.75,1459.05 1196.99,1435.52 1197.23,1437.3 1197.47,1455.97 1197.71,1458.53 1197.95,1455.83 1198.19,1459.08 1198.43,1456.67 \n",
       "  1198.67,1450.1 1198.91,1452.66 1199.16,1431.01 1199.4,1442.11 1199.64,1456.94 1199.88,1454.05 1200.12,1461.82 1200.36,1456.07 1200.6,1452.34 1200.84,1457.49 \n",
       "  1201.08,1441.08 1201.32,1459.02 1201.56,1457.62 1201.8,1461.08 1202.04,1455.64 1202.28,1459.52 1202.52,1452.9 1202.76,1461.97 1203,1454.98 1203.24,1443.04 \n",
       "  1203.48,1450.95 1203.72,1436.99 1203.96,1437.19 1204.2,1446.97 1204.44,1454.56 1204.68,1425.33 1204.92,1417.21 1205.16,1409.39 1205.4,1457.43 1205.64,1457.21 \n",
       "  1205.88,1452.07 1206.12,1458.12 1206.36,1459.51 1206.6,1461.39 1206.84,1460.96 1207.08,1458.15 1207.32,1457.81 1207.56,1460.71 1207.8,1433.66 1208.04,1459.46 \n",
       "  1208.28,1458.84 1208.52,1453.88 1208.76,1459.97 1209,1453.29 1209.24,1454.4 1209.48,1445.21 1209.72,1450.99 1209.96,1461.19 1210.21,1456.49 1210.45,1449.8 \n",
       "  1210.69,1451.69 1210.93,1457.15 1211.17,1454.19 1211.41,1439.55 1211.65,1452.07 1211.89,1441.84 1212.13,1456.48 1212.37,1446.41 1212.61,1455.99 1212.85,1458.62 \n",
       "  1213.09,1457.86 1213.33,1460.84 1213.57,1445.01 1213.81,1449.06 1214.05,1456.37 1214.29,1459.06 1214.53,1460.06 1214.77,1451.33 1215.01,1457.53 1215.25,1457.93 \n",
       "  1215.49,1450.74 1215.73,1461.41 1215.97,1457.7 1216.21,1461.2 1216.45,1455.54 1216.69,1460.93 1216.93,1460.45 1217.17,1457.15 1217.41,1458.51 1217.65,1459.2 \n",
       "  1217.89,1459.74 1218.13,1460.83 1218.37,1458.71 1218.61,1456.92 1218.85,1456.96 1219.09,1460.85 1219.33,1461.96 1219.57,1459.59 1219.81,1457.29 1220.05,1461.31 \n",
       "  1220.29,1458.88 1220.53,1458.43 1220.77,1458.8 1221.01,1460.93 1221.26,1457.55 1221.5,1458.7 1221.74,1461.32 1221.98,1460.65 1222.22,1460.41 1222.46,1460.8 \n",
       "  1222.7,1460.4 1222.94,1459.86 1223.18,1461.85 1223.42,1459.06 1223.66,1460.83 1223.9,1458.13 1224.14,1459.8 1224.38,1462.08 1224.62,1459.13 1224.86,1459.16 \n",
       "  1225.1,1459.87 1225.34,1460.14 1225.58,1459.31 1225.82,1458.81 1226.06,1461.67 1226.3,1457.7 1226.54,1459.11 1226.78,1455.75 1227.02,1457.01 1227.26,1455.64 \n",
       "  1227.5,1462.22 1227.74,1459.79 1227.98,1459.16 1228.22,1461.98 1228.46,1459.85 1228.7,1444.73 1228.94,1462.12 1229.18,1420.02 1229.42,1454.8 1229.66,1457.92 \n",
       "  1229.9,1461.45 1230.14,1432.96 1230.38,1454.65 1230.62,1460.74 1230.86,1460.35 1231.1,1461.22 1231.34,1453.22 1231.58,1458.67 1231.82,1461.88 1232.06,1460.33 \n",
       "  1232.31,1456.92 1232.55,1461.23 1232.79,1461.94 1233.03,1461.29 1233.27,1461.12 1233.51,1460.08 1233.75,1459.71 1233.99,1458.44 1234.23,1456.8 1234.47,1448.31 \n",
       "  1234.71,1456.61 1234.95,1450.45 1235.19,1446.7 1235.43,1451.57 1235.67,1457.74 1235.91,1456.64 1236.15,1449.01 1236.39,1452.57 1236.63,1437.11 1236.87,1460.9 \n",
       "  1237.11,1456.73 1237.35,1455.67 1237.59,1460.6 1237.83,1457.53 1238.07,1461.23 1238.31,1460.84 1238.55,1454.52 1238.79,1441.73 1239.03,1447.93 1239.27,1461.38 \n",
       "  1239.51,1452.18 1239.75,1454.42 1239.99,1438.68 1240.23,1433.42 1240.47,1455.94 1240.71,1430.44 1240.95,1432.21 1241.19,1390.61 1241.43,1439.64 1241.67,1454.61 \n",
       "  1241.91,1450.84 1242.15,1458.91 1242.39,1457.58 1242.63,1449.08 1242.87,1441.93 1243.11,1425.71 1243.36,1447.37 1243.6,1453.41 1243.84,1419.23 1244.08,1328.76 \n",
       "  1244.32,1392.79 1244.56,1416.51 1244.8,1441.51 1245.04,1443.37 1245.28,1430.54 1245.52,1398.22 1245.76,1389.86 1246,1410.17 1246.24,1430.77 1246.48,1452.1 \n",
       "  1246.72,1443.15 1246.96,1442.21 1247.2,1423.07 1247.44,1431.24 1247.68,1446.11 1247.92,1426.97 1248.16,1448.39 1248.4,1446.49 1248.64,1441.05 1248.88,1442.44 \n",
       "  1249.12,1454.9 1249.36,1433.68 1249.6,1450.67 1249.84,1443.92 1250.08,1440.79 1250.32,1446.36 1250.56,1434.64 1250.8,1429.81 1251.04,1460.9 1251.28,1434.32 \n",
       "  1251.52,1441.24 1251.76,1460.82 1252,1447.11 1252.24,1445.67 1252.48,1452.32 1252.72,1442.7 1252.96,1412.77 1253.2,1432.26 1253.44,1461.78 1253.68,1444.46 \n",
       "  1253.92,1439.43 1254.17,1443.56 1254.41,1424.02 1254.65,1430.65 1254.89,1431.86 1255.13,1452.36 1255.37,1453.77 1255.61,1452.19 1255.85,1451.26 1256.09,1442.71 \n",
       "  1256.33,1461.48 1256.57,1455.74 1256.81,1460.34 1257.05,1437.59 1257.29,1430.28 1257.53,1456.32 1257.77,1446.78 1258.01,1450.63 1258.25,1453.33 1258.49,1447.36 \n",
       "  1258.73,1457.3 1258.97,1447.87 1259.21,1429.78 1259.45,1425.32 1259.69,1430.89 1259.93,1445.97 1260.17,1439.18 1260.41,1444.15 1260.65,1459.26 1260.89,1419.11 \n",
       "  1261.13,1433.05 1261.37,1401.77 1261.61,1435.66 1261.85,1429.96 1262.09,1440.62 1262.33,1424.54 1262.57,1439.34 1262.81,1436.46 1263.05,1408.75 1263.29,1446.29 \n",
       "  1263.53,1431.58 1263.77,1395.78 1264.01,1422.84 1264.25,1444.15 1264.49,1438.16 1264.73,1427.96 1264.97,1425.88 1265.22,1449.8 1265.46,1429.58 1265.7,1406.01 \n",
       "  1265.94,1439.6 1266.18,1448.58 1266.42,1424.95 1266.66,1422.36 1266.9,1434.41 1267.14,1439.6 1267.38,1452.06 1267.62,1424.12 1267.86,1434.69 1268.1,1430.14 \n",
       "  1268.34,1423.08 1268.58,1425.79 1268.82,1450.53 1269.06,1438.75 1269.3,1425.73 1269.54,1441.36 1269.78,1448.95 1270.02,1441.2 1270.26,1438.99 1270.5,1436.91 \n",
       "  1270.74,1425.84 1270.98,1405.46 1271.22,1451.15 1271.46,1455.19 1271.7,1455.26 1271.94,1444.08 1272.18,1446.84 1272.42,1437.09 1272.66,1453.51 1272.9,1452.64 \n",
       "  1273.14,1442.62 1273.38,1443.21 1273.62,1440.45 1273.86,1457.86 1274.1,1450.06 1274.34,1438.78 1274.58,1440.35 1274.82,1457.91 1275.06,1459.7 1275.3,1455.13 \n",
       "  1275.54,1454.26 1275.78,1447.79 1276.02,1441.87 1276.27,1461.28 1276.51,1454.87 1276.75,1457.46 1276.99,1452.93 1277.23,1447.92 1277.47,1461.14 1277.71,1458.68 \n",
       "  1277.95,1456.57 1278.19,1459.92 1278.43,1461.59 1278.67,1458.56 1278.91,1458.9 1279.15,1460.82 1279.39,1460.62 1279.63,1461.15 1279.87,1458.92 1280.11,1458.47 \n",
       "  1280.35,1458.87 1280.59,1461.02 1280.83,1460.45 1281.07,1459.21 1281.31,1459.03 1281.55,1455.72 1281.79,1451.64 1282.03,1439.13 1282.27,1453.61 1282.51,1459.61 \n",
       "  1282.75,1457.69 1282.99,1456.03 1283.23,1448.41 1283.47,1456.16 1283.71,1448.25 1283.95,1454.23 1284.19,1452.02 1284.43,1455.65 1284.67,1445.73 1284.91,1461.49 \n",
       "  1285.15,1458.5 1285.39,1456.43 1285.63,1457.43 1285.87,1461.92 1286.11,1460.75 1286.35,1460.75 1286.59,1459.96 1286.83,1453.59 1287.07,1457.81 1287.32,1451.12 \n",
       "  1287.56,1459.59 1287.8,1458.25 1288.04,1460.12 1288.28,1454.56 1288.52,1461.34 1288.76,1451.64 1289,1441.36 1289.24,1452.09 1289.48,1462.05 1289.72,1459.53 \n",
       "  1289.96,1456.13 1290.2,1369.91 1290.44,1404.2 1290.68,1460.87 1290.92,1446.51 1291.16,1447.1 1291.4,1435.06 1291.64,1444.81 1291.88,1457.84 1292.12,1447.47 \n",
       "  1292.36,1451.34 1292.6,1458.34 1292.84,1461.82 1293.08,1434.5 1293.32,1428.57 1293.56,1455.11 1293.8,1445.48 1294.04,1453.98 1294.28,1441.58 1294.52,1446.15 \n",
       "  1294.76,1439.37 1295,1446.81 1295.24,1455.24 1295.48,1452.49 1295.72,1447.42 1295.96,1454.72 1296.2,1461.08 1296.44,1448.64 1296.68,1455.81 1296.92,1454.65 \n",
       "  1297.16,1458.87 1297.4,1460.39 1297.64,1461.21 1297.88,1445.71 1298.12,1457.09 1298.37,1457.92 1298.61,1455.52 1298.85,1459.8 1299.09,1456.78 1299.33,1453.75 \n",
       "  1299.57,1453.91 1299.81,1461.8 1300.05,1453.91 1300.29,1460.4 1300.53,1458.55 1300.77,1455.19 1301.01,1460.53 1301.25,1460.51 1301.49,1450.53 1301.73,1456.07 \n",
       "  1301.97,1431.12 1302.21,1453.03 1302.45,1460.56 1302.69,1459.68 1302.93,1449.71 1303.17,1437.03 1303.41,1443.78 1303.65,1460.63 1303.89,1453.69 1304.13,1461.58 \n",
       "  1304.37,1449.97 1304.61,1451.37 1304.85,1453.96 1305.09,1459.36 1305.33,1432.89 1305.57,1436.7 1305.81,1448.27 1306.05,1440.72 1306.29,1455.54 1306.53,1439.31 \n",
       "  1306.77,1450.8 1307.01,1443.55 1307.25,1451.5 1307.49,1460.48 1307.73,1456.44 1307.97,1456.64 1308.21,1446.15 1308.45,1434.9 1308.69,1446.68 1308.93,1450.82 \n",
       "  1309.17,1439.64 1309.42,1429.23 1309.66,1431.83 1309.9,1444.67 1310.14,1436.3 1310.38,1434.79 1310.62,1417.15 1310.86,1439.83 1311.1,1398.81 1311.34,1434.56 \n",
       "  1311.58,1422.87 1311.82,1458.66 1312.06,1419.08 1312.3,1437.3 1312.54,1430.45 1312.78,1448.81 1313.02,1430.46 1313.26,1433.33 1313.5,1423.31 1313.74,1446.4 \n",
       "  1313.98,1440.47 1314.22,1446.01 1314.46,1424.71 1314.7,1421.45 1314.94,1450.31 1315.18,1425.1 1315.42,1413.98 1315.66,1437.4 1315.9,1441.18 1316.14,1433.07 \n",
       "  1316.38,1440.77 1316.62,1433.67 1316.86,1447.11 1317.1,1435.04 1317.34,1435.26 1317.58,1445.6 1317.82,1419.57 1318.06,1422.67 1318.3,1443.14 1318.54,1424.05 \n",
       "  1318.78,1456.87 1319.02,1417.08 1319.26,1422.21 1319.5,1436.05 1319.74,1418.94 1319.98,1441.98 1320.22,1417.91 1320.47,1428.56 1320.71,1437.14 1320.95,1455.17 \n",
       "  1321.19,1451.77 1321.43,1430.65 1321.67,1445.39 1321.91,1453.36 1322.15,1430.51 1322.39,1419.39 1322.63,1439.38 1322.87,1424.1 1323.11,1445.52 1323.35,1434.45 \n",
       "  1323.59,1443.43 1323.83,1442.5 1324.07,1438.77 1324.31,1444.55 1324.55,1452.82 1324.79,1453.7 1325.03,1442.34 1325.27,1437.87 1325.51,1435.84 1325.75,1430.92 \n",
       "  1325.99,1433.62 1326.23,1454.11 1326.47,1448.21 1326.71,1427.48 1326.95,1432.97 1327.19,1438.19 1327.43,1438.4 1327.67,1443.72 1327.91,1448.79 1328.15,1453.7 \n",
       "  1328.39,1452.97 1328.63,1442.61 1328.87,1452.35 1329.11,1447.93 1329.35,1428.49 1329.59,1447.31 1329.83,1453.81 1330.07,1434.07 1330.31,1438.7 1330.55,1438.95 \n",
       "  1330.79,1453.9 1331.03,1450.03 1331.27,1458.23 1331.52,1422.27 1331.76,1450.59 1332,1447.12 1332.24,1436 1332.48,1458.94 1332.72,1461.02 1332.96,1459.79 \n",
       "  1333.2,1452.13 1333.44,1420.25 1333.68,1433.29 1333.92,1436.08 1334.16,1459.16 1334.4,1434.67 1334.64,1438.12 1334.88,1460.47 1335.12,1459.85 1335.36,1434.75 \n",
       "  1335.6,1450.6 1335.84,1458.93 1336.08,1437.3 1336.32,1443.08 1336.56,1425.61 1336.8,1437.48 1337.04,1447.41 1337.28,1411.43 1337.52,1436.7 1337.76,1456.05 \n",
       "  1338,1445.28 1338.24,1454.89 1338.48,1447.64 1338.72,1447.94 1338.96,1441.74 1339.2,1435.54 1339.44,1451.02 1339.68,1443.4 1339.92,1456.89 1340.16,1452.07 \n",
       "  1340.4,1448.45 1340.64,1451.72 1340.88,1442.97 1341.12,1461.79 1341.36,1449.39 1341.6,1460.31 1341.84,1457.03 1342.08,1436.64 1342.32,1445.08 1342.57,1395.14 \n",
       "  1342.81,1416.72 1343.05,1443.36 1343.29,1457.86 1343.53,1448.32 1343.77,1453.21 1344.01,1444.38 1344.25,1444.32 1344.49,1453.05 1344.73,1409.38 1344.97,1421.25 \n",
       "  1345.21,1460.37 1345.45,1452.2 1345.69,1448.94 1345.93,1451.29 1346.17,1454.51 1346.41,1460.63 1346.65,1449.99 1346.89,1455.99 1347.13,1457.52 1347.37,1451.9 \n",
       "  1347.61,1456.05 1347.85,1455.19 1348.09,1427.61 1348.33,1460.38 1348.57,1460.41 1348.81,1459.86 1349.05,1457.36 1349.29,1447.03 1349.53,1450.91 1349.77,1460.04 \n",
       "  1350.01,1432.43 1350.25,1439.44 1350.49,1425.17 1350.73,1455.34 1497.99,1309.29 1498.23,1380.59 1498.47,1444.74 1498.71,1445.17 1498.95,1458.43 1499.19,1456.12 \n",
       "  1499.43,1445.91 1499.67,1414.59 1499.91,1420.12 1500.15,1429.88 1500.39,1423.98 1500.63,1438.37 1500.87,1448.59 1501.11,1453.75 1501.35,1444.74 1501.59,1457.14 \n",
       "  1501.83,1458.25 1502.07,1458.73 1502.31,1445.14 1502.55,1450.77 1502.79,1457.16 1503.03,1461.25 1503.27,1456.17 1503.51,1456.78 1503.75,1458.99 1503.99,1456.23 \n",
       "  1504.23,1455.43 1504.47,1461.07 1504.71,1435.64 1504.95,1455.95 1505.19,1434.78 1505.43,1451.5 1505.67,1420.6 1505.91,1446.22 1506.15,1459.28 1506.39,1451.43 \n",
       "  1506.63,1459.84 1506.87,1460.5 1507.11,1458.68 1507.35,1443.08 1507.59,1450.16 1507.83,1461.66 1508.08,1461.12 1508.32,1452.18 1508.56,1447.27 1508.8,1446.73 \n",
       "  1509.04,1420.09 1509.28,1442.99 1509.52,1458.43 1509.76,1416.35 1510,1456.66 1510.24,1441.66 1510.48,1434.71 1510.72,1447.74 1510.96,1461.36 1511.2,1455.24 \n",
       "  1511.44,1450.27 1511.68,1457.99 1511.92,1460.22 1512.16,1451.09 1512.4,1452.66 1512.64,1453.4 1512.88,1441.59 1513.12,1458.42 1513.36,1462.12 1513.6,1455.44 \n",
       "  1513.84,1460.2 1514.08,1461.35 1514.32,1444.68 1514.56,1435.2 1514.8,1436.35 1515.04,1441.83 1515.28,1402.39 1515.52,1436.4 1515.76,1443.82 1516,1427.72 \n",
       "  1516.24,1419.65 1516.48,1437.24 1516.72,1444.94 1516.96,1453.49 1517.2,1433.66 1517.44,1447.61 1517.68,1453.76 1517.92,1453.44 1518.16,1448.97 1518.4,1446.94 \n",
       "  1518.64,1394.33 1518.88,1435.62 1519.13,1430.32 1519.37,1424.68 1519.61,1448.53 1519.85,1451.23 1520.09,1442.48 1520.33,1456.13 1520.57,1404.01 1520.81,1427.6 \n",
       "  1521.05,1454.14 1521.29,1430.77 1521.53,1446.78 1521.77,1390.48 1522.01,1407.4 1522.25,1432.54 1522.49,1435.15 1522.73,1406.12 1522.97,1452.84 1523.21,1404.29 \n",
       "  1523.45,1437.95 1523.69,1461.2 1523.93,1440.23 1524.17,1438.16 1524.41,1406.87 1524.65,1443.49 1524.89,1442.12 1525.13,1428.55 1525.37,1455.42 1525.61,1439.88 \n",
       "  1525.85,1446.49 1526.09,1439.89 1526.33,1433.16 1526.57,1415.88 1526.81,1454.13 1527.05,1436.89 1527.29,1435.19 1527.53,1446.73 1527.77,1438.87 1528.01,1433.27 \n",
       "  1528.25,1430.66 1528.49,1434.93 1528.73,1438.76 1528.97,1425.01 1529.21,1458.36 1529.45,1409.34 1529.69,1431.13 1529.93,1449.53 1530.18,1444.18 1530.42,1440.19 \n",
       "  1530.66,1435.23 1530.9,1438.26 1531.14,1419.12 1531.38,1450.28 1531.62,1380.02 1531.86,1413.28 1532.1,1442.72 1532.34,1450.38 1532.58,1423.48 1532.82,1444.54 \n",
       "  1533.06,1440.45 1533.3,1455.14 1533.54,1441.55 1533.78,1426.81 1534.02,1452.36 1534.26,1450.61 1534.5,1452.62 1534.74,1422.18 1534.98,1451.81 1535.22,1455.47 \n",
       "  1535.46,1444.87 1535.7,1453.56 1535.94,1440.54 1536.18,1452.23 1536.42,1458.6 1536.66,1453.9 1536.9,1435.46 1537.14,1433.59 1537.38,1452.28 1537.62,1458.07 \n",
       "  1537.86,1444.78 1538.1,1435.66 1538.34,1441.16 1538.58,1454.29 1538.82,1451.97 1539.06,1457.82 1539.3,1446.4 1539.54,1448.77 1539.78,1443.75 1540.02,1456.89 \n",
       "  1540.26,1345.66 1540.5,1415.34 1540.74,1432.07 1540.98,1420.04 1541.23,1424.72 1541.47,1433.02 1541.71,1439.17 1541.95,1435.84 1542.19,1446.6 1542.43,1448.73 \n",
       "  1542.67,1440.23 1542.91,1461.94 1543.15,1456.98 1543.39,1427.66 1543.63,1448.2 1543.87,1441.08 1544.11,1433.64 1544.35,1442.18 1544.59,1461.7 1544.83,1447.42 \n",
       "  1545.07,1453.91 1545.31,1448.58 1545.55,1458.71 1545.79,1452.34 1546.03,1458.58 1546.27,1452.59 1546.51,1449.36 1546.75,1446.92 1546.99,1437.65 1547.23,1439.6 \n",
       "  1547.47,1211.1 1547.71,1320.37 1547.95,1426.75 1548.19,1428.86 1548.43,1441.28 1548.67,1442.5 1548.91,1460.05 1549.15,1444.16 1549.39,1450.48 1549.63,1422.51 \n",
       "  1549.87,1455.6 1550.11,1457.62 1550.35,1460.29 1550.59,1459.51 1550.83,1443.07 1551.07,1457.12 1551.31,1454.31 1551.55,1458.81 1551.79,1454.14 1552.03,1416.95 \n",
       "  1552.28,1461.4 1552.52,1442.77 1552.76,1457.15 1553,1456.28 1553.24,1458.65 1553.48,1454.46 1553.72,1460.63 1553.96,1453.94 1554.2,1452.35 1554.44,1455.72 \n",
       "  1554.68,1441.51 1554.92,1456.49 1555.16,1452.82 1555.4,1449.61 1555.64,1456.99 1555.88,1459.23 1556.12,1459.65 1556.36,1451.94 1556.6,1461.34 1556.84,1374.53 \n",
       "  1557.08,1460.86 1557.32,1451.75 1557.56,1396.18 1557.8,1361.05 1558.04,1368.1 1558.28,1415.97 1558.52,1449.25 1558.76,1423.8 1559,1420.97 1559.24,1338.53 \n",
       "  1559.48,1459.9 1559.72,1459.66 1559.96,1460.92 1560.2,1458.23 1560.44,1455.74 1560.68,1446.25 1560.92,1454.53 1561.16,1455.98 1561.4,1410.42 1561.64,1456.88 \n",
       "  1561.88,1458.82 1562.12,1458.9 1562.36,1453.86 1562.6,1456.77 1562.84,1439.47 1563.08,1439.11 1563.33,1435.52 1563.57,1440.24 1563.81,1442.41 1564.05,1456.25 \n",
       "  1564.29,1431.07 1564.53,1458.65 1564.77,1459.89 1565.01,1460.31 1565.25,1450.32 1565.49,1461.84 1565.73,1452.75 1565.97,1445.92 1566.21,1435.13 1566.45,1458.08 \n",
       "  1566.69,1458.89 1566.93,1445.47 1567.17,1452.2 1567.41,1457.63 1567.65,1457.99 1567.89,1460.61 1568.13,1455.56 1568.37,1446.42 1568.61,1460.61 1568.85,1446.72 \n",
       "  1569.09,1457.74 1569.33,1434.99 1569.57,1413.17 1569.81,1410 1570.05,1455.47 1570.29,1448 1570.53,1450.73 1570.77,1457.52 1571.01,1458.27 1571.25,1440.53 \n",
       "  1571.49,1441.13 1571.73,1438.35 1571.97,1455.95 1572.21,1461.29 1572.45,1435.7 1572.69,1440.11 1572.93,1460.33 1573.17,1461.91 1573.41,1462.07 1573.65,1440.89 \n",
       "  1573.89,1460.09 1574.13,1459.6 1574.38,1449.69 1574.62,1459.15 1574.86,1459.19 1575.1,1445.24 1575.34,1454.55 1575.58,1432.38 1575.82,1451.2 1576.06,1457.32 \n",
       "  1576.3,1437 1576.54,1451.64 1576.78,1461.18 1577.02,1448.55 1577.26,1457.49 1577.5,1460.26 1577.74,1448.78 1577.98,1458.32 1578.22,1447.51 1578.46,1459.65 \n",
       "  1578.7,1461.5 1578.94,1457.22 1579.18,1451.78 1579.42,1461.2 1579.66,1457.85 1579.9,1461.82 1580.14,1458.66 1580.38,1461.24 1580.62,1459.8 1580.86,1460.88 \n",
       "  1581.1,1458.38 1581.34,1462.15 1581.58,1460.04 1581.82,1450.25 1582.06,1449.08 1582.3,1458.06 1582.54,1448.2 1582.78,1435.23 1583.02,1445.65 1583.26,1431.54 \n",
       "  1583.5,1368.9 1583.74,1426.32 1583.98,1406.58 1584.22,1435.82 1584.46,1438.16 1584.7,1445.5 1584.94,1445.41 1585.18,1441.29 1585.43,1426.11 1585.67,1414.71 \n",
       "  1585.91,1438.59 1586.15,1447.43 1586.39,1436.96 1586.63,1445.55 1586.87,1442.62 1587.11,1446.23 1587.35,1406.62 1587.59,1430.88 1587.83,1414.09 1588.07,1434.82 \n",
       "  1588.31,1438.37 1588.55,1433.03 1588.79,1413.59 1589.03,1444.61 1589.27,1450.28 1589.51,1461.68 1589.75,1452.83 1589.99,1432.59 1590.23,1434.6 1590.47,1428.74 \n",
       "  1590.71,1438.26 1590.95,1461.81 1591.19,1453.89 1591.43,1445 1591.67,1434.39 1591.91,1428.79 1592.15,1453.5 1592.39,1445.41 1592.63,1419.31 1592.87,1409.88 \n",
       "  1593.11,1446.38 1593.35,1441.3 1593.59,1434.3 1593.83,1442.03 1594.07,1440.67 1594.31,1435.48 1594.55,1399.26 1594.79,1439.05 1595.03,1451.74 1595.27,1454.1 \n",
       "  1595.51,1447.42 1595.75,1455.06 1595.99,1457.3 1596.23,1450.73 1596.48,1409.11 1596.72,1411.76 1596.96,1438.65 1597.2,1431.58 1597.44,1426.15 1597.68,1443.61 \n",
       "  1597.92,1439.95 1598.16,1453.56 1598.4,1457.53 1598.64,1428.47 1598.88,1430.53 1599.12,1444.68 1599.36,1446.44 1599.6,1438.42 1599.84,1443.48 1600.08,1443.73 \n",
       "  1600.32,1444.78 1600.56,1441.94 1600.8,1441.78 1601.04,1456.73 1601.28,1431.08 1601.52,1449.05 1601.76,1455.51 1602,1448.49 1602.24,1441.96 1602.48,1456.7 \n",
       "  1602.72,1454.46 1602.96,1452.85 1603.2,1347.04 1603.44,1380.43 1603.68,1405.42 1603.92,1441.86 1604.16,1438.27 1604.4,1418.5 1604.64,1390.77 1604.88,1437.94 \n",
       "  1605.12,1452.71 1605.36,1453.13 1605.6,1437.41 1605.84,1450.66 1606.08,1439.53 1606.32,1441.75 1606.56,1457.25 1606.8,1446.42 1607.04,1431.33 1607.28,1434.08 \n",
       "  1607.53,1451.51 1607.77,1456.7 1608.01,1432.73 1608.25,1433.33 1608.49,1449.08 1608.73,1447.34 1608.97,1453.24 1609.21,1436.54 1609.45,1439.43 1609.69,1423.09 \n",
       "  1609.93,1447.95 1610.17,1440.45 1610.41,1426.45 1610.65,1443.32 1610.89,1454.77 1611.13,1450.18 1611.37,1450.62 1611.61,1422.42 1611.85,1442.91 1612.09,1445.96 \n",
       "  1612.33,1432.4 1612.57,1446.73 1612.81,1452.45 1613.05,1447.71 1613.29,1437.28 1613.53,1448.67 1613.77,1441.65 1614.01,1459.2 1614.25,1458.28 1614.49,1459.66 \n",
       "  1614.73,1446.24 1614.97,1455.55 1615.21,1453.01 1615.45,1458.8 1615.69,1450.58 1615.93,1458.44 1616.17,1451.03 1616.41,1461.16 1616.65,1462.14 1616.89,1452.42 \n",
       "  1617.13,1458.45 1617.37,1460.44 1617.61,1450.6 1617.85,1461.07 1618.09,1460.04 1618.33,1454.52 1618.58,1460.26 1618.82,1433.55 1619.06,1447.11 1619.3,1455.71 \n",
       "  1619.54,1461.07 1619.78,1442.29 1620.02,1449.13 1620.26,1446.69 1620.5,1457.75 1620.74,1457.4 1620.98,1455.04 1621.22,1454.11 1621.46,1454.72 1621.7,1440.3 \n",
       "  1621.94,1445.76 1622.18,1443.32 1622.42,1457.26 1622.66,1453.76 1622.9,1445.4 1623.14,1452.87 1623.38,1448.8 1623.62,1450.94 1623.86,1459.52 1624.1,1451.23 \n",
       "  1624.34,1459.73 1624.58,1420.18 1624.82,1459.54 1625.06,1447.2 1625.3,1456.55 1625.54,1455.77 1625.78,1461.2 1626.02,1462.19 1626.26,1460.59 1626.5,1455.02 \n",
       "  1626.74,1459.14 1626.98,1460.13 1627.22,1423.84 1627.46,1426.12 1627.7,1406.57 1627.94,1443.68 1628.18,1443.83 1628.42,1444.29 1628.66,1413.27 1628.9,1371.41 \n",
       "  1629.14,1451.02 1629.38,1451.16 1629.63,1455.15 1629.87,1457.75 1630.11,1448.9 1630.35,1443.51 1630.59,1461.36 1630.83,1460.46 1631.07,1457.14 1631.31,1460.25 \n",
       "  1631.55,1458.43 1631.79,1459.27 1632.03,1451.69 1632.27,1457.69 1632.51,1455.06 1632.75,1455.33 1632.99,1461.05 1633.23,1457.77 1633.47,1450.88 1633.71,1459.84 \n",
       "  1633.95,1458.85 1634.19,1462.16 1634.43,1455.64 1634.67,1456.85 1634.91,1461.83 1635.15,1460.33 1635.39,1461.22 1635.63,1462.09 1635.87,1461.58 1636.11,1451.48 \n",
       "  1636.35,1461.3 1636.59,1460.08 1636.83,1462.04 1637.07,1459.53 1637.31,1414.76 1637.55,1447.58 1637.79,1461.15 1638.03,1452.7 1638.27,1461.89 1638.51,1452.25 \n",
       "  1638.75,1458.63 1638.99,1454.13 1639.23,1448.43 1639.47,1450.76 1639.71,1460 1639.95,1457.67 1640.19,1440.43 1640.43,1459.16 1640.68,1461.15 1640.92,1450.52 \n",
       "  1641.16,1445.09 1641.4,1446.28 1641.64,1461.72 1641.88,1461.79 1642.12,1459.53 1642.36,1458.53 1642.6,1458.81 1642.84,1456.94 1643.08,1456.97 1643.32,1448.04 \n",
       "  1643.56,1458.16 1643.8,1460.46 1644.04,1454.68 1644.28,1461.47 1644.52,1458 1644.76,1456.09 1645,1445.13 1645.24,1457.53 1645.48,1459.03 1645.72,1460.77 \n",
       "  1645.96,1453.58 1646.2,1458.72 1646.44,1457.47 1646.68,1457.14 1646.92,1459.4 1647.16,1459.71 1647.4,1460.61 1647.64,1457.39 1647.88,1460.17 1648.12,1458.48 \n",
       "  1648.36,1458.46 1648.6,1455.84 1648.84,1459.71 1649.08,1455.25 1649.32,1459.79 1649.56,1454.16 1649.8,1457.91 1650.04,1457.94 1650.28,1461.63 1650.52,1458.18 \n",
       "  1650.76,1459.22 1651,1457.78 1651.24,1454.38 1651.48,1453.95 1651.73,1457.49 1651.97,1460.58 1652.21,1460.09 1652.45,1448.81 1652.69,1460.23 1652.93,1461.53 \n",
       "  1653.17,1458.66 1653.41,1462.23 1653.65,1457.95 1653.89,1450.23 1654.13,1457.48 1654.37,1457.69 1654.61,1453.11 1654.85,1451.66 1655.09,1441.94 1655.33,1459.76 \n",
       "  1655.57,1448.22 1655.81,1455.4 1656.05,1459.68 1656.29,1450.96 1656.53,1454.15 1656.77,1427.66 1657.01,1454.73 1657.25,1453.84 1657.49,1397.64 1657.73,1428.47 \n",
       "  1657.97,1452.36 1658.21,1460.45 1658.45,1454.61 1658.69,1456.33 1658.93,1404.15 1659.17,1425.89 1659.41,1429.17 1659.65,1428.42 1659.89,1434.83 1660.13,1445.07 \n",
       "  1660.37,1445.19 1660.61,1451.24 1660.85,1440.83 1661.09,1451.92 1661.33,1459.79 1661.57,1443.93 1661.81,1430.61 1662.05,1444.56 1662.29,1444.69 1662.54,1448.27 \n",
       "  1662.78,1435.43 1663.02,1446.89 1663.26,1415.39 1663.5,1445.81 1663.74,1424.1 1663.98,1461.86 1664.22,1431.38 1664.46,1444.89 1664.7,1452.03 1664.94,1439.55 \n",
       "  1665.18,1449.9 1665.42,1433.99 1665.66,1461.78 1665.9,1447.7 1666.14,1442.14 1666.38,1459.5 1666.62,1435.46 1666.86,1437.65 1667.1,1453.23 1667.34,1439.09 \n",
       "  1667.58,1456.71 1667.82,1448.72 1668.06,1444.06 1668.3,1444.98 1668.54,1438.7 1668.78,1450.57 1669.02,1461.67 1669.26,1441.31 1669.5,1433.98 1669.74,1450.11 \n",
       "  1669.98,1443.68 1670.22,1460.2 1670.46,1442.82 1670.7,1458.9 1670.94,1450 1671.18,1431.63 1671.42,1438.06 1671.66,1458.95 1671.9,1445.05 1672.14,1452.45 \n",
       "  1672.38,1458.75 1672.62,1445.71 1672.86,1425.18 1673.1,1426.05 1673.34,1427.15 1673.59,1444.28 1673.83,1433.42 1674.07,1436.43 1674.31,1437.89 1674.55,1441.09 \n",
       "  1674.79,1445.94 1675.03,1434.57 1675.27,1448.53 1675.51,1420.78 1675.75,1452.86 1675.99,1452.16 1676.23,1455.9 1676.47,1451.84 1676.71,1436.45 1676.95,1434.64 \n",
       "  1677.19,1445.69 1677.43,1438.69 1677.67,1429.67 1677.91,1443.89 1678.15,1452.17 1678.39,1458.05 1678.63,1461.62 1678.87,1459.76 1679.11,1445.72 1679.35,1427.68 \n",
       "  1679.59,1450.2 1679.83,1428.03 1680.07,1455.27 1680.31,1433.53 1680.55,1444.35 1680.79,1444.02 1681.03,1341.13 1681.27,1429 1681.51,1410.3 1681.75,1440.03 \n",
       "  1681.99,1449.6 1682.23,1446.87 1682.47,1428.55 1682.71,1444.62 1682.95,1437.91 1683.19,1449.2 1683.43,1453.08 1683.67,1425.9 1683.91,1461.38 1684.15,1456.8 \n",
       "  1684.39,1442.83 1684.64,1458.82 1684.88,1461.45 1685.12,1456.46 1685.36,1401.71 1685.6,1398.75 1685.84,1446.33 1686.08,1447.17 1686.32,1409.4 1686.56,1445.47 \n",
       "  1686.8,1448.9 1687.04,1458.42 1687.28,1451.29 1687.52,1451.03 1687.76,1458.21 1688,1431.17 1688.24,1462.17 1688.48,1431.8 1688.72,1460.71 1688.96,1453.34 \n",
       "  1689.2,1441.17 1689.44,1453.03 1689.68,1456.43 1689.92,1452.5 1690.16,1451.5 1690.4,1455.32 1690.64,1443.22 1690.88,1445.86 1691.12,1430.02 1691.36,1437.68 \n",
       "  1691.6,1434 1691.84,1442.92 1692.08,1458.39 1692.32,1452.65 1692.56,1459.19 1692.8,1448.54 1693.04,1454.13 1693.28,1458.98 1693.52,1444.92 1693.76,1453.04 \n",
       "  1694,1449.74 1694.24,1451.49 1694.48,1440.83 1694.72,1446.63 1694.96,1458.57 1695.2,1458.04 1695.44,1427.58 1695.69,1443.22 1695.93,1406.23 1696.17,1444.32 \n",
       "  1696.41,1422.18 1696.65,1435.46 1696.89,1427.8 1697.13,1416.92 1697.37,1460.56 1697.61,1447.51 1697.85,1446.86 1698.09,1389.56 1698.33,1428 1698.57,1400.08 \n",
       "  1698.81,1418.68 1699.05,1448.77 1699.29,1443.06 1699.53,1457.47 1699.77,1421.21 1700.01,1460.96 1700.25,1430.79 1700.49,1413.57 1700.73,1426.64 1700.97,1456.08 \n",
       "  1701.21,1439.31 1701.45,1450.55 1701.69,1447.48 1701.93,1459.28 1702.17,1426.34 1702.41,1456.66 1702.65,1430.64 1702.89,1459.85 1703.13,1449.35 1703.37,1459.96 \n",
       "  1703.61,1459.85 1703.85,1446.07 1704.09,1428.73 1704.33,1459.38 1704.57,1458.55 1704.81,1451.77 1705.05,1432.91 1705.29,1458 1705.53,1458.87 1705.77,1442.32 \n",
       "  1706.01,1448.13 1706.25,1455.08 1706.49,1460.47 1706.74,1459.63 1706.98,1441.28 1707.22,1460.43 1707.46,1456.27 1707.7,1459.75 1707.94,1452.95 1708.18,1456.89 \n",
       "  1708.42,1459.07 1708.66,1459.41 1708.9,1454.3 1709.14,1448.66 1709.38,1453.03 1709.62,1457.82 1709.86,1461.68 1710.1,1459.45 1710.34,1461.89 1710.58,1455.2 \n",
       "  1710.82,1460.12 1711.06,1450.55 1711.3,1459.43 1711.54,1459.16 1711.78,1459.04 1712.02,1460.14 1712.26,1454.77 1712.5,1446.45 1712.74,1458.7 1712.98,1453.46 \n",
       "  1713.22,1460.62 1713.46,1461.44 1713.7,1458.68 1713.94,1461.01 1714.18,1461.83 1714.42,1460.06 1714.66,1459.47 1714.9,1461.55 1715.14,1461.03 1715.38,1457.23 \n",
       "  1715.62,1462.02 1715.86,1458.15 1716.1,1460.89 1716.34,1456.85 1716.58,1462.18 1716.82,1462.25 1717.06,1460.15 1717.3,1458.62 1717.54,1456.82 1717.79,1461.52 \n",
       "  1718.03,1449.66 1718.27,1457.37 1718.51,1462.03 1718.75,1461.55 1718.99,1459.03 1719.23,1460.88 1719.47,1458.97 1719.71,1462.1 1719.95,1460.08 1720.19,1460.89 \n",
       "  1720.43,1460.63 1720.67,1461.72 1720.91,1461.63 1721.15,1460.5 1721.39,1460.43 1721.63,1458.53 1721.87,1461.09 1722.11,1453.46 1722.35,1452.28 1722.59,1453.52 \n",
       "  1722.83,1455.97 1723.07,1425.5 1723.31,1383.13 1723.55,1422.6 1723.79,1432.49 1724.03,1441.78 1724.27,1452.43 1724.51,1448.14 1724.75,1431.57 1724.99,1429.83 \n",
       "  1725.23,1435.63 1725.47,1434.38 1725.71,1447.72 1725.95,1441.61 1726.19,1435.26 1726.43,1440.92 1726.67,1410.18 1726.91,1436.48 1727.15,1446.09 1727.39,1431 \n",
       "  1727.63,1435.77 1727.87,1439.85 1728.11,1444.22 1728.35,1443.34 1728.59,1395.42 1728.84,1437.55 1729.08,1445.54 1729.32,1422.51 1729.56,1443.47 1729.8,1450.86 \n",
       "  1730.04,1435.04 1730.28,1449.12 1730.52,1438.19 1730.76,1459.12 1731,1408.71 1731.24,1426.5 1731.48,1414.6 1731.72,1429.98 1731.96,1443.79 1732.2,1416.05 \n",
       "  1732.44,1420.82 1732.68,1419.93 1732.92,1360.74 1733.16,1397.25 1733.4,1419.05 1733.64,1435.92 1733.88,1439.49 1734.12,1434.74 1734.36,1381.6 1734.6,1446.4 \n",
       "  1734.84,1444.42 1735.08,1305.53 1735.32,1409.68 1735.56,1425.12 1735.8,1416.72 1736.04,1447.44 1736.28,1449.53 1736.52,1425.23 1736.76,1434.71 1737,1365.54 \n",
       "  1737.24,1370.4 1737.48,1424.97 1737.72,1440.8 1737.96,1436.14 1738.2,1426.96 1738.44,1457.17 1738.68,1450.85 1738.92,1452.01 1739.16,1446.29 1739.4,1416.46 \n",
       "  1739.64,1422.87 1739.89,1408.2 1740.13,1420.01 1740.37,1451.88 1740.61,1424.36 1740.85,1442.97 1741.09,1442.84 1741.33,1444.62 1741.57,1458.39 1741.81,1434.44 \n",
       "  1742.05,1445.73 1742.29,1442.28 1742.53,1445.2 1742.77,1456.65 1743.01,1436.09 1743.25,1434.64 1743.49,1437.78 1743.73,1405.52 1743.97,1451.36 1744.21,1445.94 \n",
       "  1744.45,1453.1 1744.69,1416.87 1744.93,1436.46 1745.17,1405.81 1745.41,1384.48 1745.65,1383.9 1745.89,1435.11 1746.13,1422.4 1746.37,1429.58 1746.61,1461.19 \n",
       "  1746.85,1447.6 1747.09,1350.77 1747.33,1395.05 1747.57,1415.39 1747.81,1360.79 1748.05,1429.98 1748.29,1438.44 1748.53,1414.71 1748.77,1439.1 1749.01,1423.89 \n",
       "  1749.25,1417.18 1749.49,1430.49 1749.73,1407.02 1749.97,1407.25 1750.21,1397.73 1750.45,1438.41 1750.69,1440.48 1750.94,1419.36 1751.18,1451.08 1751.42,1420.67 \n",
       "  1751.66,1458.55 1751.9,1430.58 1752.14,1430.07 1752.38,1453.38 1752.62,1444.91 1752.86,1451.39 1753.1,1452.31 1753.34,1426.73 1753.58,1440.7 1753.82,1445.11 \n",
       "  1754.06,1434.81 1754.3,1428.07 1754.54,1446.49 1754.78,1446.86 1755.02,1430.32 1755.26,1434.35 1755.5,1445.36 1755.74,1457.82 1755.98,1459.03 1756.22,1446.78 \n",
       "  1756.46,1425.05 1756.7,1445.76 1756.94,1456.68 1757.18,1441.82 1757.42,1446.17 1757.66,1447.43 1757.9,1455.88 1758.14,1446.56 1758.38,1448.8 1758.62,1444.39 \n",
       "  1758.86,1460.74 1759.1,1444.71 1759.34,1446.06 1759.58,1456.2 1759.82,1452.7 1760.06,1443.01 1760.3,1434.22 1760.54,1457.13 1760.78,1425.9 1761.02,1445.96 \n",
       "  1761.26,1447.98 1761.5,1440.61 1761.74,1440.91 1761.99,1432.35 1762.23,1437.77 1762.47,1430.29 1762.71,1422.41 1762.95,1445.83 1763.19,1451.75 1763.43,1388.71 \n",
       "  1763.67,1429.54 1763.91,1397.94 1764.15,1459.02 1764.39,1429.5 1764.63,1437.14 1764.87,1456.5 1765.11,1451.16 1765.35,1346.28 1765.59,1322.38 1765.83,1396.7 \n",
       "  1766.07,1433.69 1766.31,1345.97 1766.55,1402.87 1766.79,1424.01 1767.03,1460.03 1767.27,1402.48 1767.51,1459.88 1767.75,1434.32 1767.99,1425.48 1768.23,1459.56 \n",
       "  1768.47,1426.11 1768.71,1447.2 1768.95,1395.93 1769.19,1417.99 1769.43,1444.25 1769.67,1427.4 1769.91,1427.69 1770.15,1440.99 1770.39,1418.4 1770.63,1443.02 \n",
       "  1770.87,1364.64 1771.11,1412.67 1771.35,1362.66 1771.59,1407.59 1771.83,1341.51 1772.07,1413.92 1772.31,1439.15 1772.55,88.4582 1772.79,1109.65 1773.04,1211.38 \n",
       "  1773.28,1345.27 1773.52,1055.2 1773.76,1064.36 1774,1269.38 1774.24,1263.98 1774.48,1253.68 1774.72,1379.05 1774.96,1324.97 1775.2,1362.65 1775.44,1277.01 \n",
       "  1775.68,1349.29 1775.92,1441.16 1776.16,1370.65 1776.4,1405.9 1776.64,1324.48 1776.88,1424.25 1777.12,1362.04 1777.36,1252.99 1777.6,1089.35 1777.84,711.362 \n",
       "  1778.08,1147.24 1778.32,1198.86 1778.56,890.89 1778.8,1269.95 1779.04,1081.61 1779.28,1258.15 1779.52,1346.06 1779.76,1281.74 1780,1248.36 1780.24,1305.58 \n",
       "  1780.48,1246.36 1780.72,1161.76 1780.96,1230.54 1781.2,1330.79 1781.44,910.444 1781.68,1198.48 1781.92,1255.26 1782.16,1211.02 1782.4,868.74 1782.64,1125.42 \n",
       "  1782.88,1245.68 1783.12,1077.64 1783.36,1160.93 1783.6,1301.77 1783.84,1190.28 1784.09,951.636 1784.33,1286.46 1784.57,1214.25 1784.81,1387.82 1785.05,1327.07 \n",
       "  1785.29,1309.61 1785.53,1145.34 1785.77,1395.14 1786.01,1052.66 1786.25,1289.28 1786.49,1330.8 1786.73,1340.3 1786.97,1257.16 1787.21,1232.39 1787.45,1272.94 \n",
       "  1787.69,1239.71 1787.93,1440.13 1788.17,1211.8 1788.41,1408.69 1788.65,1274.89 1788.89,1398.48 1789.13,1375.73 1789.37,1433.18 1789.61,1437.54 1789.85,1389.19 \n",
       "  1790.09,1397.63 1790.33,1424.17 1790.57,1270.31 1790.81,1322.96 1791.05,1334.19 1791.29,1181.83 1791.53,1262.88 1791.77,1166.94 1792.01,1243.89 1792.25,1311.33 \n",
       "  1792.49,1241.71 1792.73,1258.79 1792.97,1388.86 1793.21,1369.96 1793.45,1275.85 1793.69,1370.56 1793.93,1380.98 1794.17,1348.35 1794.41,1357.34 1794.65,1445.17 \n",
       "  1794.89,1377.79 1795.14,1444.03 1795.38,1380.13 1795.62,1301.75 1795.86,1211.85 1796.1,1206.08 1796.34,1290.2 1796.58,1267.33 1796.82,1403.54 1797.06,1330.58 \n",
       "  1797.3,1358.26 1797.54,1403.04 1797.78,1400.26 1798.02,1428.34 1798.26,1404.35 1798.5,1447 1798.74,1427.19 1798.98,1398.53 1799.22,1411.26 1799.46,1200.37 \n",
       "  1799.7,1447.38 1799.94,1355.36 1800.18,1361.02 1800.42,1425.44 1800.66,1396.74 1800.9,1388.08 1801.14,1405.5 1801.38,1406.2 1801.62,1425.83 1801.86,1443.9 \n",
       "  1802.1,1447.23 1802.34,1453.18 1802.58,1433.62 1802.82,1418.46 1803.06,1434.44 1803.3,1418.46 1803.54,1346.89 1803.78,1432.24 1804.02,1227.07 1804.26,1324.78 \n",
       "  1804.5,1450.12 1804.74,1289.55 1804.98,1261.21 1805.22,1375.7 1805.46,1312.48 1805.7,1281.66 1805.94,1298.64 1806.19,1400.23 1806.43,1395.07 1806.67,1375.63 \n",
       "  1806.91,1431.4 1807.15,1415.58 1807.39,1402.46 1807.63,1384.4 1807.87,1439.9 1808.11,1446.52 1808.35,1452.64 1808.59,1434.7 1808.83,1449.04 1809.07,1374.8 \n",
       "  1809.31,1344.82 1809.55,1416.92 1809.79,1237.26 1810.03,1271.53 1810.27,1359.08 1810.51,1389.21 1810.75,1406.85 1810.99,1381.22 1811.23,1408.42 1811.47,1407.05 \n",
       "  1811.71,1390.16 1811.95,1368.71 1812.19,1256.18 1812.43,1278.81 1812.67,1318.9 1812.91,1354.26 1813.15,1365.32 1813.39,1392.42 1813.63,1288.36 1813.87,1389.97 \n",
       "  1814.11,1462.01 1814.35,1418.52 1814.59,1427.35 1814.83,1398.33 1815.07,1439.88 1815.31,1397.78 1815.55,1381.45 1815.79,1391.18 1816.03,1402.3 1816.27,1386.18 \n",
       "  1816.51,1421.54 1816.75,1400.97 1816.99,1419.95 1817.24,1424.07 1817.48,1440.9 1817.72,1070.36 1817.96,1323.11 1818.2,1336.84 1818.44,1380.6 1818.68,1304.77 \n",
       "  1818.92,1424.74 1819.16,1442.68 1819.4,1351.34 1819.64,1414.13 1819.88,1419.51 1820.12,1376.03 1820.36,1409.75 1820.6,1415.15 1820.84,1431.06 1821.08,1428.13 \n",
       "  1821.32,1401 1821.56,1436.48 1821.8,1367.9 1822.04,1426.39 1822.28,1367.26 1822.52,1439.35 1822.76,1377.77 1823,1439.92 1823.24,1282.74 1823.48,1423.17 \n",
       "  1823.72,1388.29 1823.96,1404.69 1824.2,1380.47 1824.44,1431.33 1824.68,1432 1824.92,1440.76 1825.16,1437.81 1825.4,1437.7 1825.64,1426.8 1825.88,1358.35 \n",
       "  1826.12,1357.87 1826.36,1385.95 1826.6,1395.94 1826.84,1409.56 1827.08,1271.85 1827.32,1386.44 1827.56,1414.3 1827.8,1409 1828.04,1424.64 1828.29,1449.66 \n",
       "  1828.53,1443.79 1828.77,1427.14 1829.01,1391.6 1829.25,1319.72 1829.49,1403.36 1829.73,1427.01 1829.97,1425.85 1830.21,1448.21 1830.45,1396.98 1830.69,1411.93 \n",
       "  1830.93,1427.31 1831.17,1434.08 1831.41,1415.43 1831.65,1435.25 1831.89,1397.6 1832.13,1344.35 1832.37,1414.88 1832.61,1404.45 1832.85,1461.75 1833.09,1451.89 \n",
       "  1833.33,1429.43 1833.57,1425.85 1833.81,1453.69 1834.05,1351.24 1834.29,1355.12 1834.53,1405.71 1834.77,1449.81 1835.01,1426.72 1982.26,1436.28 1982.5,1455.83 \n",
       "  1982.75,1426.84 1982.99,1421.6 1983.23,1390.19 1983.47,1442.45 1983.71,1444.23 1983.95,1439.17 1984.19,1436.93 1984.43,1448.2 1984.67,1455.48 1984.91,1401.26 \n",
       "  1985.15,1446.9 1985.39,1439.19 1985.63,1454.93 1985.87,1374.02 1986.11,1443.2 1986.35,1447.68 1986.59,1444.35 1986.83,1414.29 1987.07,1442.02 1987.31,1439.76 \n",
       "  1987.55,1453.05 1987.79,1449.32 1988.03,1425.5 1988.27,1461.02 1988.51,1437.48 1988.75,1423.8 1988.99,1455.82 1989.23,1440.11 1989.47,1455.48 1989.71,1457.18 \n",
       "  1989.95,1458.23 1990.19,1450.12 1990.43,1456.32 1990.67,1462.16 1990.91,1428.87 1991.15,1459.14 1991.39,1458.68 1991.63,1439.68 1991.87,1454.9 1992.11,1458.2 \n",
       "  1992.35,1439.72 1992.59,1458.67 1992.83,1458.15 1993.07,1461.45 1993.31,1406.13 1993.55,1451.9 1993.8,1459.89 1994.04,1448.5 1994.28,1450.64 1994.52,1449.62 \n",
       "  1994.76,1408.59 1995,1450.38 1995.24,1459.04 1995.48,1451.53 1995.72,1444.47 1995.96,1456.93 1996.2,1461.69 1996.44,1435.22 1996.68,1460.82 1996.92,1438.2 \n",
       "  1997.16,1459.85 1997.4,1443.3 1997.64,1451.08 1997.88,1456.58 1998.12,1448.75 1998.36,1444.95 1998.6,1458.87 1998.84,1457.6 1999.08,1450.63 1999.32,1449.34 \n",
       "  1999.56,1450.12 1999.8,1401.37 2000.04,1424.49 2000.28,1404.32 2000.52,1408.49 2000.76,1416.89 2001,1448.43 2001.24,1450.48 2001.48,1448.54 2001.72,1432.59 \n",
       "  2001.96,1442.01 2002.2,1432.11 2002.44,1436.84 2002.68,1445.24 2002.92,1430.83 2003.16,1437.23 2003.4,1408.52 2003.64,1381.02 2003.88,1436.72 2004.12,1429.01 \n",
       "  2004.36,1389.63 2004.6,1435.36 2004.85,1430.84 2005.09,1390.41 2005.33,1427.97 2005.57,1411.05 2005.81,1415.41 2006.05,1394.64 2006.29,1405.49 2006.53,1421.39 \n",
       "  2006.77,1415.72 2007.01,1371.6 2007.25,1417.76 2007.49,1438.52 2007.73,1394.7 2007.97,1346.68 2008.21,1401.9 2008.45,1423.77 2008.69,1436.27 2008.93,1415.04 \n",
       "  2009.17,1314.53 2009.41,1391.55 2009.65,1384.3 2009.89,1397.4 2010.13,1424.77 2010.37,1380.93 2010.61,1391.64 2010.85,1319.31 2011.09,1448.98 2011.33,1362.8 \n",
       "  2011.57,1394.94 2011.81,1424.3 2012.05,1425.68 2012.29,1335.57 2012.53,1382.08 2012.77,1409.02 2013.01,1409.8 2013.25,1425.57 2013.49,1427.83 2013.73,1455.79 \n",
       "  2013.97,1424.98 2014.21,1398.83 2014.45,1446.41 2014.69,1417.41 2014.93,1409.39 2015.17,1414.14 2015.41,1409.86 2015.65,1428.25 2015.9,1419.61 2016.14,1370.78 \n",
       "  2016.38,1428.74 2016.62,1444.76 2016.86,1461.18 2017.1,1399.91 2017.34,1417.81 2017.58,1407.05 2017.82,1443.46 2018.06,1433.61 2018.3,1444 2018.54,1429.56 \n",
       "  2018.78,1432.96 2019.02,1443 2019.26,1412.53 2019.5,1434.29 2019.74,1452.62 2019.98,1445.3 2020.22,1375.32 2020.46,1325.61 2020.7,1332.09 2020.94,1425.14 \n",
       "  2021.18,1444.81 2021.42,1433.94 2021.66,1420.63 2021.9,1425.25 2022.14,1436.05 2022.38,1418.57 2022.62,1400.92 2022.86,1446.89 2023.1,1425.05 2023.34,1450.12 \n",
       "  2023.58,1435.41 2023.82,1427.5 2024.06,1419.04 2024.3,1423.93 2024.54,1433.09 2024.78,1421.49 2025.02,1433.67 2025.26,1338.18 2025.5,1440.44 2025.74,1393.7 \n",
       "  2025.98,1438.77 2026.22,1423.96 2026.46,1434.89 2026.7,1455.71 2026.95,1440.85 2027.19,1412.23 2027.43,1418.76 2027.67,1436.46 2027.91,1429.47 2028.15,1425.91 \n",
       "  2028.39,1410.63 2028.63,1362.25 2028.87,1404.8 2029.11,1398.15 2029.35,1448.78 2029.59,1424.29 2029.83,1438.84 2030.07,1421.95 2030.31,1442.93 2030.55,1435.47 \n",
       "  2030.79,1385.41 2031.03,1448.42 2031.27,1444 2031.51,1440.12 2031.75,1429.47 2031.99,1419.28 2032.23,1437.91 2032.47,1457.55 2032.71,1423.04 2032.95,1378.82 \n",
       "  2033.19,1386.98 2033.43,1400.64 2033.67,1420.31 2033.91,1400.74 2034.15,1415.42 2034.39,1442.31 2034.63,1440.37 2034.87,1391.32 2035.11,1428.43 2035.35,1450.42 \n",
       "  2035.59,1419.59 2035.83,1439.63 2036.07,1440.24 2036.31,1398.37 2036.55,1442.21 2036.79,1435.53 2037.03,1440.5 2037.27,1434.14 2037.51,1458.36 2037.75,1443.55 \n",
       "  2038,1447.62 2038.24,1447.79 2038.48,1424.46 2038.72,1446.34 2038.96,1451.33 2039.2,1418.6 2039.44,1439.6 2039.68,1416.59 2039.92,1414.9 2040.16,1426.9 \n",
       "  2040.4,1452.29 2040.64,1446.9 2040.88,1448.39 2041.12,1441.08 2041.36,1457.21 2041.6,1454.23 2041.84,1442.42 2042.08,1453.75 2042.32,1455.17 2042.56,1449.45 \n",
       "  2042.8,1390.56 2043.04,1445.24 2043.28,1453.39 2043.52,1452.32 2043.76,1452.94 2044,1457.75 2044.24,1449.1 2044.48,1457.51 2044.72,1449.16 2044.96,1457.29 \n",
       "  2045.2,1460.07 2045.44,1438.7 2045.68,1457.53 2045.92,1459.48 2046.16,1441.1 2046.4,1461 2046.64,1460.5 2046.88,1452.54 2047.12,1458.57 2047.36,1459.85 \n",
       "  2047.6,1461.31 2047.84,1445.22 2048.08,1456.44 2048.32,1459.47 2048.56,1443.59 2048.8,1445.63 2049.05,1462.11 2049.29,1460.02 2049.53,1460.71 2049.77,1458.94 \n",
       "  2050.01,1455.15 2050.25,1461.86 2050.49,1458.17 2050.73,1456.59 2050.97,1453.39 2051.21,1446.7 2051.45,1445.49 2051.69,1461.58 2051.93,1451.66 2052.17,1460.43 \n",
       "  2052.41,1442.82 2052.65,1460.96 2052.89,1459.26 2053.13,1458.73 2053.37,1457.79 2053.61,1459.65 2053.85,1460.92 2054.09,1460.24 2054.33,1453.65 2054.57,1455.73 \n",
       "  2054.81,1452.06 2055.05,1460.44 2055.29,1431.67 2055.53,1429.07 2055.77,1452.67 2056.01,1454.92 2056.25,1449.71 2056.49,1395.45 2056.73,1351.75 2056.97,1419.38 \n",
       "  2057.21,1438.9 2057.45,1430.12 2057.69,1431.42 2057.93,1434.93 2058.17,1442.9 2058.41,1449.95 2058.65,1444.01 2058.89,1442.83 2059.13,1441.31 2059.37,1428.61 \n",
       "  2059.61,1443.35 2059.85,1429.24 2060.1,1440.12 2060.34,1457.49 2060.58,1439.36 2060.82,1457.38 2061.06,1451.67 2061.3,1454.16 2061.54,1461.62 2061.78,1461.91 \n",
       "  2062.02,1455.7 2062.26,1430.74 2062.5,1439 2062.74,1461.42 2062.98,1460.89 2063.22,1441.17 2063.46,1459.19 2063.7,1457.14 2063.94,1439.62 2064.18,1423.46 \n",
       "  2064.42,1457.98 2064.66,1450.18 2064.9,1456.26 2065.14,1442.31 2065.38,1429.74 2065.62,1449.91 2065.86,1451.79 2066.1,1450.87 2066.34,1389.65 2066.58,1456.72 \n",
       "  2066.82,1458.29 2067.06,1435.6 2067.3,1461.72 2067.54,1434.57 2067.78,1453.26 2068.02,1430.47 2068.26,1450.72 2068.5,1460.42 2068.74,1458.97 2068.98,1426.63 \n",
       "  2069.22,1436.83 2069.46,1415.18 2069.7,1399.91 2069.94,1403.76 2070.18,1436.23 2070.42,1414.22 2070.66,1413.93 2070.91,1436.7 2071.15,1442.74 2071.39,1449.54 \n",
       "  2071.63,1436.53 2071.87,1389.52 2072.11,1432.14 2072.35,1431.34 2072.59,1436.25 2072.83,1417.27 2073.07,1404.23 2073.31,1397.69 2073.55,1436.05 2073.79,1438.96 \n",
       "  2074.03,1406.76 2074.27,1417 2074.51,1442.22 2074.75,1438.25 2074.99,1426.2 2075.23,1422.83 2075.47,1428.78 2075.71,1435.02 2075.95,1416.99 2076.19,1423.5 \n",
       "  2076.43,1404.28 2076.67,1405.86 2076.91,1440.87 2077.15,1437.46 2077.39,1440.83 2077.63,1429.59 2077.87,1438.7 2078.11,1440.1 2078.35,1452.81 2078.59,1450.06 \n",
       "  2078.83,1440.37 2079.07,1453.29 2079.31,1451.04 2079.55,1459.53 2079.79,1458.12 2080.03,1420.41 2080.27,1447.41 2080.51,1456.01 2080.75,1416.61 2080.99,1416.94 \n",
       "  2081.23,1416.03 2081.47,1437.59 2081.71,1444.85 2081.96,1456.11 2082.2,1430.25 2082.44,1435.93 2082.68,1444.68 2082.92,1446.84 2083.16,1428.25 2083.4,1438.36 \n",
       "  2083.64,1433.52 2083.88,1444.45 2084.12,1440.86 2084.36,1427.07 2084.6,1441.72 2084.84,1438.91 2085.08,1461.33 2085.32,1441.41 2085.56,1449.76 2085.8,1446 \n",
       "  2086.04,1448.97 2086.28,1410.24 2086.52,1401.16 2086.76,1407.78 2087,1424.44 2087.24,1447.34 2087.48,1440.75 2087.72,1430.29 2087.96,1418.95 2088.2,1427.04 \n",
       "  2088.44,1436.25 2088.68,1427.37 2088.92,1439.8 2089.16,1428.62 2089.4,1416.42 2089.64,1447.32 2089.88,1435.17 2090.12,1429.48 2090.36,1428.08 2090.6,1449.18 \n",
       "  2090.84,1431.63 2091.08,1445.26 2091.32,1449.23 2091.56,1443.13 2091.8,1422.99 2092.04,1434.15 2092.28,1440.89 2092.52,1427.87 2092.76,1457.26 2093.01,1414.96 \n",
       "  2093.25,1431.62 2093.49,1431.7 2093.73,1326.03 2093.97,1425.79 2094.21,1410.18 2094.45,1455.7 2094.69,1425.63 2094.93,1443.21 2095.17,1456.27 2095.41,1436.08 \n",
       "  2095.65,1454.31 2095.89,1422.88 2096.13,1430.56 2096.37,1448.44 2096.61,1459.03 2096.85,1439.46 2097.09,1357.65 2097.33,1438.82 2097.57,1445.01 2097.81,1436.72 \n",
       "  2098.05,1449.26 2098.29,1438.46 2098.53,1452.06 2098.77,1458.31 2099.01,1448.34 2099.25,1414.4 2099.49,1445.26 2099.73,1452.48 2099.97,1450.89 2100.21,1436.19 \n",
       "  2100.45,1444.77 2100.69,1424.74 2100.93,1451.5 2101.17,1439.8 2101.41,1449.4 2101.65,1454.84 2101.89,1454.38 2102.13,1441.28 2102.37,1459.81 2102.61,1458.95 \n",
       "  2102.85,1437.38 2103.09,1435.51 2103.33,1441.78 2103.57,1460.85 2103.81,1448.12 2104.06,1443.02 2104.3,1452.93 2104.54,1451.08 2104.78,1461.37 2105.02,1447.85 \n",
       "  2105.26,1457.78 2105.5,1453.63 2105.74,1420.33 2105.98,1434.9 2106.22,1453.39 2106.46,1454.85 2106.7,1447.79 2106.94,1457.85 2107.18,1453.94 2107.42,1439.98 \n",
       "  2107.66,1450.78 2107.9,1451.08 2108.14,1445.9 2108.38,1461.01 2108.62,1455.24 2108.86,1442.08 2109.1,1461.67 2109.34,1455.74 2109.58,1457.94 2109.82,1456.26 \n",
       "  2110.06,1427.69 2110.3,1458.01 2110.54,1460.14 2110.78,1454.99 2111.02,1458.94 2111.26,1460.69 2111.5,1457.94 2111.74,1450.85 2111.98,1428.33 2112.22,1456.8 \n",
       "  2112.46,1442.77 2112.7,1456.82 2112.94,1459.9 2113.18,1462.05 2113.42,1453.25 2113.66,1462 2113.9,1445.92 2114.14,1456.23 2114.38,1448.15 2114.62,1442.17 \n",
       "  2114.86,1456.12 2115.11,1457.57 2115.35,1364.08 2115.59,1443.36 2115.83,1441.99 2116.07,1432.99 2116.31,1413.14 2116.55,1456.13 2116.79,1457.72 2117.03,1453.94 \n",
       "  2117.27,1446.98 2117.51,1460.72 2117.75,1459.56 2117.99,1459.79 2118.23,1451.21 2118.47,1415.8 2118.71,1446.64 2118.95,1457 2119.19,1446.12 2119.43,1453.18 \n",
       "  2119.67,1459.68 2119.91,1457.98 2120.15,1458.39 2120.39,1448.85 2120.63,1453.1 2120.87,1447.49 2121.11,1452.6 2121.35,1458.22 2121.59,1438.2 2121.83,1459.11 \n",
       "  2122.07,1459.93 2122.31,1443.1 2122.55,1458.57 2122.79,1455.42 2123.03,1386.55 2123.27,1448.65 2123.51,1459.53 2123.75,1445.9 2123.99,1456.82 2124.23,1445.41 \n",
       "  2124.47,1412.46 2124.71,1442.52 2124.95,1448.66 2125.19,1458.61 2125.43,1453.79 2125.67,1449.83 2125.91,1455.82 2126.16,1447.47 2126.4,1448.17 2126.64,1440.02 \n",
       "  2126.88,1459.68 2127.12,1438.86 2127.36,1462.15 2127.6,1458.19 2127.84,1461.56 2128.08,1456.12 2128.32,1460.71 2128.56,1459.15 2128.8,1455.06 2129.04,1461.66 \n",
       "  2129.28,1453.88 2129.52,1457.88 2129.76,1461.53 2130,1461.94 2130.24,1441.67 2130.48,1457.07 2130.72,1435.31 2130.96,1461.41 2131.2,1455.53 2131.44,1461.97 \n",
       "  2131.68,1453.49 2131.92,1461.75 2132.16,1453.6 2132.4,1460.34 2132.64,1447.83 2132.88,1442.25 2133.12,1455.55 2133.36,1459.6 2133.6,1461.58 2133.84,1461.98 \n",
       "  2134.08,1456.61 2134.32,1460.36 2134.56,1458.71 2134.8,1459.52 2135.04,1448.8 2135.28,1461.12 2135.52,1459.93 2135.76,1455.42 2136,1449.6 2136.24,1460.06 \n",
       "  2136.48,1454.11 2136.72,1449.82 2136.96,1450.7 2137.21,1408.58 2137.45,1422.66 2137.69,1440.87 2137.93,1438.07 2138.17,1441.7 2138.41,1450.16 2138.65,1447.83 \n",
       "  2138.89,1442.87 2139.13,1406.3 2139.37,1434.25 2139.61,1405.98 2139.85,1451.54 2140.09,1460.73 2140.33,1432.04 2140.57,1429.44 2140.81,1417.66 2141.05,1445.9 \n",
       "  2141.29,1393.5 2141.53,1415.48 2141.77,1437.49 2142.01,1429.98 2142.25,1420.39 2142.49,1430.46 2142.73,1453.13 2142.97,1430.29 2143.21,1415.86 2143.45,1452.92 \n",
       "  2143.69,1434.41 2143.93,1403.91 2144.17,1448.3 2144.41,1431.45 2144.65,1430.02 2144.89,1433.28 2145.13,1417.35 2145.37,1415.61 2145.61,1433.11 2145.85,1425.48 \n",
       "  2146.09,1430.43 2146.33,1451.75 2146.57,1434.17 2146.81,1425.98 2147.05,1432.15 2147.29,1457.2 2147.53,1437.69 2147.77,1434.92 2148.01,1438.57 2148.26,1425.01 \n",
       "  2148.5,1437.31 2148.74,1434.58 2148.98,1452.39 2149.22,1433.64 2149.46,1443.1 2149.7,1435.99 2149.94,1428.46 2150.18,1432.6 2150.42,1453.63 2150.66,1434.48 \n",
       "  2150.9,1435.59 2151.14,1451.45 2151.38,1446.67 2151.62,1454.24 2151.86,1458.02 2152.1,1429.34 2152.34,1405.06 2152.58,1424.21 2152.82,1447.45 2153.06,1442.69 \n",
       "  2153.3,1443.58 2153.54,1448.61 2153.78,1447.42 2154.02,1450.74 2154.26,1451.08 2154.5,1453.38 2154.74,1443.19 2154.98,1442.48 2155.22,1440.58 2155.46,1454.95 \n",
       "  2155.7,1441.49 2155.94,1445.69 2156.18,1449 2156.42,1443.44 2156.66,1432.29 2156.9,1459.86 2157.14,1450.54 2157.38,1452.56 2157.62,1435.87 2157.86,1430.37 \n",
       "  2158.1,1436.11 2158.34,1443.88 2158.58,1440.72 2158.82,1438.97 2159.06,1458.98 2159.31,1441.69 2159.55,1456.42 2159.79,1450.63 2160.03,1429.03 2160.27,1419.1 \n",
       "  2160.51,1442.67 2160.75,1418.46 2160.99,1415.01 2161.23,1439.88 2161.47,1440.08 2161.71,1454.96 2161.95,1444.53 2162.19,1433.57 2162.43,1438.7 2162.67,1417.94 \n",
       "  2162.91,1430.56 2163.15,1446.29 2163.39,1431.49 2163.63,1411.72 2163.87,1432.84 2164.11,1419.05 2164.35,1436.77 2164.59,1444.73 2164.83,1443.32 2165.07,1444.96 \n",
       "  2165.31,1453.5 2165.55,1450.27 2165.79,1444.3 2166.03,1448 2166.27,1449.29 2166.51,1439.94 2166.75,1409.4 2166.99,1420.22 2167.23,1433.57 2167.47,1444.74 \n",
       "  2167.71,1450.88 2167.95,1451.26 2168.19,1449.03 2168.43,1428.81 2168.67,1438.22 2168.91,1451.84 2169.15,1448.79 2169.39,1435.91 2169.63,1448.33 2169.87,1439.79 \n",
       "  2170.11,1439.78 2170.36,1440.86 2170.6,1452.42 2170.84,1407.18 2171.08,1433.85 2171.32,1437.75 2171.56,1451.63 2171.8,1430.31 2172.04,1435.88 2172.28,1442.43 \n",
       "  2172.52,1447.12 2172.76,1441.76 2173,1456.83 2173.24,1443.87 2173.48,1450.13 2173.72,1450.48 2173.96,1448.23 2174.2,1459.67 2174.44,1459.79 2174.68,1452.51 \n",
       "  2174.92,1423.49 2175.16,1441.33 2175.4,1443.09 2175.64,1443.17 2175.88,1457.07 2176.12,1459.23 2176.36,1457.22 2176.6,1450.61 2176.84,1454.62 2177.08,1454.85 \n",
       "  2177.32,1439.76 2177.56,1450.03 2177.8,1448.29 2178.04,1456.24 2178.28,1460.51 2178.52,1459.62 2178.76,1446.28 2179,1406.75 2179.24,1457.39 2179.48,1436.05 \n",
       "  2179.72,1417.48 2179.96,1460.1 2180.2,1450.53 2180.44,1455 2180.68,1462.17 2180.92,1364.87 2181.16,1458.73 2181.41,1449.5 2181.65,1430.58 2181.89,1459.4 \n",
       "  2182.13,1461.33 2182.37,1460.45 2182.61,1456.01 2182.85,1433.4 2183.09,1461.14 2183.33,1446.07 2183.57,1461.66 2183.81,1439.35 2184.05,1451.49 2184.29,1452.29 \n",
       "  2184.53,1423.59 2184.77,1433.48 2185.01,1414.55 2185.25,1449.81 2185.49,1461.34 2185.73,1451.22 2185.97,1456.05 2186.21,1454.18 2186.45,1460.1 2186.69,1456.25 \n",
       "  2186.93,1461.81 2187.17,1461.3 2187.41,1447.37 2187.65,1445.46 2187.89,1450.57 2188.13,1461.47 2188.37,1452.4 2188.61,1448.75 2188.85,1458.46 2189.09,1450.42 \n",
       "  2189.33,1458.93 2189.57,1446.45 2189.81,1454.18 2190.05,1461.71 2190.29,1452.69 2190.53,1439.72 2190.77,1461.67 2191.01,1461.89 2191.25,1450.7 2191.49,1461.52 \n",
       "  2191.73,1454.52 2191.97,1458.92 2192.21,1460.12 2192.46,1443.92 2192.7,1460.47 2192.94,1449.29 2193.18,1447 2193.42,1460.94 2193.66,1455.55 2193.9,1453.8 \n",
       "  2194.14,1460.47 2194.38,1402.43 2194.62,1449.98 2194.86,1461.99 2195.1,1450.31 2195.34,1452.82 2195.58,1458.6 2195.82,1435.27 2196.06,1460.65 2196.3,1440.46 \n",
       "  2196.54,1443.18 2196.78,1461.07 2197.02,1460.46 2197.26,1441.24 2197.5,1457.59 2197.74,1457.66 2197.98,1455.39 2198.22,1457.32 2198.46,1459.16 2198.7,1452.65 \n",
       "  2198.94,1455.54 2199.18,1434.2 2199.42,1443.85 2199.66,1454.77 2199.9,1461.06 2200.14,1462.1 2200.38,1451.77 2200.62,1451.44 2200.86,1461.14 2201.1,1452.05 \n",
       "  2201.34,1447.91 2201.58,1447.9 2201.82,1458.94 2202.06,1450.9 2202.3,1460.9 2202.54,1449.46 2202.78,1461.43 2203.02,1453.65 2203.26,1457.98 2203.51,1461.47 \n",
       "  2203.75,1456.09 2203.99,1454.21 2204.23,1457.96 2204.47,1452.17 2204.71,1462.18 2204.95,1454.63 2205.19,1438.85 2205.43,1457.6 2205.67,1449.98 2205.91,1429.9 \n",
       "  2206.15,1436.87 2206.39,1442.38 2206.63,1452.61 2206.87,1448.52 2207.11,1415.56 2207.35,1420.03 2207.59,1425.45 2207.83,1444.07 2208.07,1437.47 2208.31,1448.89 \n",
       "  2208.55,1424.04 2208.79,1443.14 2209.03,1392.9 2209.27,1443.77 2209.51,1415.23 2209.75,1431.68 2209.99,1435.49 2210.23,1443.75 2210.47,1431.29 2210.71,1418.41 \n",
       "  2210.95,1408.28 2211.19,1424.36 2211.43,1452.08 2211.67,1421.29 2211.91,1419.63 2212.15,1424.15 2212.39,1430.14 2212.63,1415.81 2212.87,1449.7 2213.11,1442.84 \n",
       "  2213.35,1433.11 2213.59,1413.98 2213.83,1406.58 2214.07,1395.77 2214.31,1422.34 2214.56,1415.13 2214.8,1394.84 2215.04,1450.95 2215.28,1456.4 2215.52,1444.62 \n",
       "  2215.76,1441.09 2216,1428.14 2216.24,1447.1 2216.48,1454.62 2216.72,1416.61 2216.96,1438.91 2217.2,1434.63 2217.44,1415.06 2217.68,1432.2 2217.92,1423.57 \n",
       "  2218.16,1441.38 2218.4,1442.78 2218.64,1450.63 2218.88,1446.16 2219.12,1423.82 2219.36,1428.89 2219.6,1435.84 2219.84,1440.05 2220.08,1421.67 2220.32,1436.02 \n",
       "  2220.56,1441.88 2220.8,1439.52 2221.04,1379.91 2221.28,1418.81 2221.52,1437.77 2221.76,1416.31 2222,1452.93 2222.24,1433.33 2222.48,1433.77 2222.72,1453.71 \n",
       "  2222.96,1454.48 2223.2,1442.67 2223.44,1436.75 2223.68,1445.47 2223.92,1427.14 2224.16,1440.27 2224.4,1455.15 2224.64,1434.17 2224.88,1443.2 2225.12,1440.97 \n",
       "  2225.36,1447.55 2225.61,1428.14 2225.85,1435.03 2226.09,1454.84 2226.33,1448.28 2226.57,1452.37 2226.81,1448.97 2227.05,1449.15 2227.29,1416.99 2227.53,1418.17 \n",
       "  2227.77,1395.53 2228.01,1398.67 2228.25,1424.37 2228.49,1435.68 2228.73,1403.84 2228.97,1451.85 2229.21,1447.31 2229.45,1460.82 2229.69,1452.44 2229.93,1448.81 \n",
       "  2230.17,1451.83 2230.41,1427.31 2230.65,1455.95 2230.89,1445.04 2231.13,1427.87 2231.37,1422.61 2231.61,1441.92 2231.85,1450.52 2232.09,1459.68 2232.33,1459.55 \n",
       "  2232.57,1457.73 2232.81,1414.34 2233.05,1161.39 2233.29,1408.26 2233.53,1321.04 2233.77,1442.44 2234.01,1422.86 2234.25,1437.17 2234.49,1411.64 2234.73,1381.52 \n",
       "  2234.97,1407.22 2235.21,1440.49 2235.45,1439.7 2235.69,1410.33 2235.93,1445.48 2236.17,1461.36 2236.41,1453.25 2236.66,1439.42 2236.9,1429.84 2237.14,1441.98 \n",
       "  2237.38,1411.34 2237.62,1452.23 2237.86,1431.77 2238.1,1448.18 2238.34,1443.62 2238.58,1446.9 2238.82,1445.17 2239.06,1412.92 2239.3,1425.55 2239.54,1450.48 \n",
       "  2239.78,1461.58 2240.02,1459.59 2240.26,1441.44 2240.5,1447.87 2240.74,1414.18 2240.98,1437.1 2241.22,1451.47 2241.46,1450.05 2241.7,1453.56 2241.94,1431.5 \n",
       "  2242.18,1454.69 2242.42,1462.2 2242.66,1454.91 2242.9,1440.51 2243.14,1426.18 2243.38,1458.75 2243.62,1439.78 2243.86,1452.5 2244.1,1443.35 2244.34,1449.77 \n",
       "  2244.58,1403.64 2244.82,1436.77 2245.06,1445.93 2245.3,1436.56 2245.54,1459.49 2245.78,1460.93 2246.02,1449.29 2246.26,1445.02 2246.5,1456.19 2246.74,1426.53 \n",
       "  2246.98,1444.4 2247.22,1448.85 2247.46,1440.31 2247.71,1422.69 2247.95,1442.4 2248.19,1441.11 2248.43,1441.82 2248.67,1441.33 2248.91,1412.27 2249.15,1447.97 \n",
       "  2249.39,1460.21 2249.63,1456.15 2249.87,1457.11 2250.11,1456.59 2250.35,1403.77 2250.59,1455.26 2250.83,1456.39 2251.07,1446.58 2251.31,1459 2251.55,1417.64 \n",
       "  2251.79,1449.5 2252.03,1450.61 2252.27,1448.04 2252.51,1442.74 2252.75,1460.46 2252.99,1455.73 2253.23,1416.16 2253.47,1447.86 2253.71,1452.13 2253.95,1456.22 \n",
       "  2254.19,1453.21 2254.43,1452.91 2254.67,1438.85 2254.91,1450.43 2255.15,1457.51 2255.39,1392.51 2255.63,1440.61 2255.87,1438.13 2256.11,1428.73 2256.35,1436.8 \n",
       "  2256.59,1456.36 2256.83,1440.13 2257.07,1455.13 2257.31,1458.68 2257.55,1447.77 2257.79,1457.99 2258.03,1452.95 2258.27,1458.75 2258.51,1415.45 2258.76,1452.27 \n",
       "  2259,1442.72 \n",
       "  \"/>\n",
       "<polygon clip-path=\"url(#clip0101)\" points=\"\n",
       "1958.43,251.724 2249.26,251.724 2249.26,130.764 1958.43,130.764 \n",
       "  \" fill=\"#ffffff\" fill-opacity=\"1\"/>\n",
       "<polyline clip-path=\"url(#clip0101)\" style=\"stroke:#000000; stroke-width:4; stroke-opacity:1; fill:none\" points=\"\n",
       "  1958.43,251.724 2249.26,251.724 2249.26,130.764 1958.43,130.764 1958.43,251.724 \n",
       "  \"/>\n",
       "<polyline clip-path=\"url(#clip0101)\" style=\"stroke:#009af9; stroke-width:4; stroke-opacity:1; fill:none\" points=\"\n",
       "  1982.43,191.244 2126.43,191.244 \n",
       "  \"/>\n",
       "<g clip-path=\"url(#clip0101)\">\n",
       "<text style=\"fill:#000000; fill-opacity:1; font-family:Arial,Helvetica Neue,Helvetica,sans-serif; font-size:48px; text-anchor:start;\" transform=\"rotate(0, 2150.43, 208.744)\" x=\"2150.43\" y=\"208.744\">y1</text>\n",
       "</g>\n",
       "</svg>\n"
      ]
     },
     "execution_count": 42,
     "metadata": {},
     "output_type": "execute_result"
    }
   ],
   "source": [
    "plot(inds, arbitrage_profit )"
   ]
  },
  {
   "cell_type": "code",
   "execution_count": null,
   "metadata": {},
   "outputs": [],
   "source": []
  },
  {
   "cell_type": "code",
   "execution_count": null,
   "metadata": {},
   "outputs": [],
   "source": []
  }
 ],
 "metadata": {
  "kernelspec": {
   "display_name": "Julia 1.0.1",
   "language": "julia",
   "name": "julia-1.0"
  },
  "language_info": {
   "file_extension": ".jl",
   "mimetype": "application/julia",
   "name": "julia",
   "version": "1.0.1"
  }
 },
 "nbformat": 4,
 "nbformat_minor": 2
}
